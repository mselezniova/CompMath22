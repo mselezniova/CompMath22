{
 "cells": [
  {
   "cell_type": "code",
   "execution_count": null,
   "id": "dbbd3896",
   "metadata": {},
   "outputs": [],
   "source": [
    "import sympy as sym\n",
    "\n",
    "sym.init_printing()"
   ]
  },
  {
   "cell_type": "markdown",
   "id": "2cd63baf",
   "metadata": {},
   "source": [
    "# Exercise 7.1: Symbolic calculation\n",
    "\n",
    "Use [SymPy](https://docs.sympy.org/latest/index.html) library to complete the following tasks. \n",
    "\n",
    "**a)** Calculate $1 + \\dfrac{1}{2} + \\dfrac{1}{3} + \\dfrac{1}{4} + \\dots + \\dfrac{1}{100}$ as a fraction (i.e. in the form $\\dfrac{p}{q}$) and as a decimal number (use `sympy.Sum` function to define the sum and its `doit` and `evalf` methods to evaluate the sum)."
   ]
  },
  {
   "cell_type": "code",
   "execution_count": null,
   "id": "cae48cae",
   "metadata": {},
   "outputs": [],
   "source": [
    "# write your code here"
   ]
  },
  {
   "cell_type": "markdown",
   "id": "965a6d50",
   "metadata": {},
   "source": [
    "**b)** Consider the following sequence of functions \n",
    "\n",
    "$$f_n(x) = \\dfrac{x}{n}\\exp(-\\dfrac{x}{n})$$\n",
    "\n",
    "Plot $f_1, f_2, \\dots, f_{20}$ for $x\\in[0,10]$ in the same graph (use `sympy.plot` for plotting)."
   ]
  },
  {
   "cell_type": "code",
   "execution_count": null,
   "id": "95ab202c",
   "metadata": {},
   "outputs": [],
   "source": [
    "# write your code here"
   ]
  },
  {
   "cell_type": "markdown",
   "id": "e079fb40",
   "metadata": {},
   "source": [
    "**c)** Plot the function $f(x) = 1 - x^2$ and the tangent line that touches $f(x)$ at the point $x_0=(1/2,3/4)$. The equation of the tangent line can be obtained through Taylor expansion at point $x_0$ up to the first-order terms (you can use `f.series` method)."
   ]
  },
  {
   "cell_type": "code",
   "execution_count": null,
   "id": "db9a5a91",
   "metadata": {},
   "outputs": [],
   "source": [
    "# write your code here"
   ]
  },
  {
   "cell_type": "markdown",
   "id": "b1f80fe8",
   "metadata": {},
   "source": [
    "**d)** For large $n\\in\\mathbb{N}$, the factorial $n!$ can be approximated with the Stirling's formula:\n",
    "\n",
    "$$S(n) := \\sqrt{2\\pi n}\\Bigl(\\dfrac{n}{e}\\Bigr)^n$$\n",
    "\n",
    "Define $S$ as a function (or a SymPy expression) and calculate the relative error\n",
    "\n",
    "$$\\dfrac{n! - S(n)}{n!}$$\n",
    "\n",
    "for $n=100$ as a decimal number.\n",
    "\n",
    "Show that the following two limits hold:\n",
    "\n",
    "$$\\lim_{n\\to\\infty} \\dfrac{n!}{S(n)} = 1$$\n",
    "\n",
    "$$\\lim_{n\\to\\infty} n \\Bigl( \\dfrac{n!}{S(n)} - 1\\Bigr) = \\dfrac{1}{12}$$"
   ]
  },
  {
   "cell_type": "code",
   "execution_count": null,
   "id": "cc6adf22",
   "metadata": {},
   "outputs": [],
   "source": [
    "# write your code here"
   ]
  },
  {
   "cell_type": "markdown",
   "id": "c01e41bd",
   "metadata": {},
   "source": [
    "# Exercise 7.2: Riemann zeta function\n",
    "\n",
    "The Riemann zeta function is defined as follows\n",
    "\n",
    "$$\\zeta(s) := \\sum_{k=1}^\\infty \\dfrac{1}{k^s}$$\n",
    "\n",
    "for $s$ such that $Re(s)>1$.\n",
    "\n",
    "**a)** Check that for natural numbers $1 < n < 10$ the following recursive formula holds:\n",
    "\n",
    "$$\\zeta(2n) = \\dfrac{1}{n+\\frac{1}{2}}\\sum_{k=1}^{n-1}\\zeta(2k)\\zeta\\bigl(2(n-k)\\bigr)$$"
   ]
  },
  {
   "cell_type": "code",
   "execution_count": null,
   "id": "6d960a09",
   "metadata": {},
   "outputs": [],
   "source": [
    "# write your code here"
   ]
  },
  {
   "cell_type": "markdown",
   "id": "547522c9",
   "metadata": {},
   "source": [
    "**b)** Define another function $\\eta$ as follows:\n",
    "\n",
    "$$\\eta(s) = \\lim_{n\\to\\infty}\\Bigl( \\sum_{k=1}^n \\dfrac{1}{k^s} - \\dfrac{1}{1-s}n^{1-s} - \\dfrac{1}{2}n^{-s} + \\dfrac{s}{12}n^{-1-s} \\Bigr)$$\n",
    "\n",
    "for real $s>3$. Check that $\\zeta$ and $\\eta$ coincide on $(1,\\infty)$ by showing that\n",
    "\n",
    "$$ - \\dfrac{1}{1-s}n^{1-s} - \\dfrac{1}{2}n^{-s} + \\dfrac{s}{12}n^{-1-s}  \\to 0 \\text{ as } n\\to\\infty$$\n",
    "\n",
    "when $s\\in (1,\\infty)$ (use `sympy.limit` function)."
   ]
  },
  {
   "cell_type": "code",
   "execution_count": null,
   "id": "79274ee4",
   "metadata": {},
   "outputs": [],
   "source": [
    "# write your code here"
   ]
  },
  {
   "cell_type": "markdown",
   "id": "15c78fd5",
   "metadata": {},
   "source": [
    "**c)** We can interpret $\\eta$ as a continuation of $\\zeta$ outside of $(1,\\infty)$. Calculate $\\eta(-1)$ (you can use `sympy.limit_seq` function to find the limit of an expression that includes `sympy.Sum`). How does this value relate to $\\zeta(-1)$?"
   ]
  },
  {
   "cell_type": "code",
   "execution_count": null,
   "id": "30ce4035",
   "metadata": {},
   "outputs": [],
   "source": [
    "# write your code here"
   ]
  }
 ],
 "metadata": {
  "kernelspec": {
   "display_name": "Python 3 (ipykernel)",
   "language": "python",
   "name": "python3"
  },
  "language_info": {
   "codemirror_mode": {
    "name": "ipython",
    "version": 3
   },
   "file_extension": ".py",
   "mimetype": "text/x-python",
   "name": "python",
   "nbconvert_exporter": "python",
   "pygments_lexer": "ipython3",
   "version": "3.9.12"
  }
 },
 "nbformat": 4,
 "nbformat_minor": 5
}
