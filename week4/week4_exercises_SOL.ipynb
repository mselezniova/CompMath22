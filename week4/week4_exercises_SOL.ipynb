{
 "cells": [
  {
   "cell_type": "markdown",
   "id": "f6033cf0",
   "metadata": {},
   "source": [
    "# Exercise 4.1: First steps with ```numpy```\n",
    "\n",
    "Generate the following sequences/ vectors/ matrices without using loops:\n",
    "\n",
    "**a)** $\\bigl(\\sin(\\pi n)\\bigr)_{n=1,\\dots,12}$ and $\\bigl( \\frac{1}{1+n^2} \\bigr)_{n=1,\\dots,12}$"
   ]
  },
  {
   "cell_type": "code",
   "execution_count": 1,
   "id": "3a01ea79",
   "metadata": {},
   "outputs": [],
   "source": [
    "# write your code here\n",
    "\n",
    "import numpy as np\n",
    "\n",
    "seq_1 = np.sin(np.pi * np.arange(1,13))\n",
    "seq_2 = 1/ (1+ np.arange(1,13)**2)"
   ]
  },
  {
   "cell_type": "code",
   "execution_count": 2,
   "id": "1928fe8e",
   "metadata": {},
   "outputs": [
    {
     "data": {
      "text/plain": [
       "array([ 1.22464680e-16, -2.44929360e-16,  3.67394040e-16, -4.89858720e-16,\n",
       "        6.12323400e-16, -7.34788079e-16,  8.57252759e-16, -9.79717439e-16,\n",
       "        1.10218212e-15, -1.22464680e-15,  4.89982516e-15, -1.46957616e-15])"
      ]
     },
     "execution_count": 2,
     "metadata": {},
     "output_type": "execute_result"
    }
   ],
   "source": [
    "seq_1"
   ]
  },
  {
   "cell_type": "code",
   "execution_count": 3,
   "id": "45add4f6",
   "metadata": {},
   "outputs": [
    {
     "data": {
      "text/plain": [
       "array([0.5       , 0.2       , 0.1       , 0.05882353, 0.03846154,\n",
       "       0.02702703, 0.02      , 0.01538462, 0.01219512, 0.00990099,\n",
       "       0.00819672, 0.00689655])"
      ]
     },
     "execution_count": 3,
     "metadata": {},
     "output_type": "execute_result"
    }
   ],
   "source": [
    "seq_2"
   ]
  },
  {
   "cell_type": "markdown",
   "id": "4b2eecda",
   "metadata": {},
   "source": [
    "**b)** $(1,-3,5,-7,9,\\dots,97,-99)$"
   ]
  },
  {
   "cell_type": "code",
   "execution_count": 4,
   "id": "ffa889a5",
   "metadata": {},
   "outputs": [
    {
     "data": {
      "text/plain": [
       "array([  1,  -3,   5,  -7,   9, -11,  13, -15,  17, -19,  21, -23,  25,\n",
       "       -27,  29, -31,  33, -35,  37, -39,  41, -43,  45, -47,  49, -51,\n",
       "        53, -55,  57, -59,  61, -63,  65, -67,  69, -71,  73, -75,  77,\n",
       "       -79,  81, -83,  85, -87,  89, -91,  93, -95,  97, -99])"
      ]
     },
     "execution_count": 4,
     "metadata": {},
     "output_type": "execute_result"
    }
   ],
   "source": [
    "# write your code here\n",
    "\n",
    "vec = np.arange(1,100,2)\n",
    "vec[1::2] = -vec[1::2]\n",
    "\n",
    "vec"
   ]
  },
  {
   "cell_type": "markdown",
   "id": "034a40ec",
   "metadata": {},
   "source": [
    "**c)** $\\begin{pmatrix}\n",
    "    1/z & 1 & 1 & \\dots & 1\\\\\n",
    "    z & 1/z & z & \\dots & z\\\\\n",
    "    \\vdots & & & \\ddots & \\\\\n",
    "    z^{11} & z^{11} & z^{11} & \\dots & 1/z\n",
    "    \\end{pmatrix}$, where $z=\\frac{\\sqrt{3}+i}{2}$ and $i$ is the imaginary unit."
   ]
  },
  {
   "cell_type": "code",
   "execution_count": 6,
   "id": "106d1f6b",
   "metadata": {},
   "outputs": [
    {
     "data": {
      "text/plain": [
       "array([[-1,  0,  0,  0,  0,  0,  0,  0,  0,  0,  0,  0],\n",
       "       [ 1, -1,  1,  1,  1,  1,  1,  1,  1,  1,  1,  1],\n",
       "       [ 2,  2, -1,  2,  2,  2,  2,  2,  2,  2,  2,  2],\n",
       "       [ 3,  3,  3, -1,  3,  3,  3,  3,  3,  3,  3,  3],\n",
       "       [ 4,  4,  4,  4, -1,  4,  4,  4,  4,  4,  4,  4],\n",
       "       [ 5,  5,  5,  5,  5, -1,  5,  5,  5,  5,  5,  5],\n",
       "       [ 6,  6,  6,  6,  6,  6, -1,  6,  6,  6,  6,  6],\n",
       "       [ 7,  7,  7,  7,  7,  7,  7, -1,  7,  7,  7,  7],\n",
       "       [ 8,  8,  8,  8,  8,  8,  8,  8, -1,  8,  8,  8],\n",
       "       [ 9,  9,  9,  9,  9,  9,  9,  9,  9, -1,  9,  9],\n",
       "       [10, 10, 10, 10, 10, 10, 10, 10, 10, 10, -1, 10],\n",
       "       [11, 11, 11, 11, 11, 11, 11, 11, 11, 11, 11, -1]])"
      ]
     },
     "execution_count": 6,
     "metadata": {},
     "output_type": "execute_result"
    }
   ],
   "source": [
    "# write your code here\n",
    "\n",
    "# We first generate a matrix of degrees of z in the disired matrix\n",
    "\n",
    "n = 12 # size of the matrix\n",
    "\n",
    "# construct a matrix with number i in all the values of row i\n",
    "mat = np.arange(n).repeat(n).reshape((n,n))\n",
    "\n",
    "# numpy.repeat function repeats elements of an array a given number of times,\n",
    "# e.g. numpy.repeat([1,2,3],2)  = [1,1,2,2,3,3]\n",
    "\n",
    "# replace all the diagonal values of the matrix with -1\n",
    "mat[(np.arange(n), np.arange(n))] = np.array([-1]*n)\n",
    "\n",
    "\n",
    "mat"
   ]
  },
  {
   "cell_type": "code",
   "execution_count": 7,
   "id": "128f63eb",
   "metadata": {},
   "outputs": [],
   "source": [
    "z = (np.sqrt(3)+ 1j)/ 2 # 1j is the imaginary unit in Python\n",
    "\n",
    "# Now we get the desired matrix as z**mat\n",
    "mat = z**mat"
   ]
  },
  {
   "cell_type": "markdown",
   "id": "a62139da",
   "metadata": {},
   "source": [
    "# Exercise 4.2: Least squares\n",
    "\n",
    "The ordinary least squares problem with matrix of observations $X\\in\\mathbb{R}^{N\\times p}$ and vector of responses $y\\in\\mathbb{R}^N$ is given by \n",
    "\n",
    "$$\\min_{w\\in\\mathbb{R}^p} \\|Xw-y\\|_2^2$$\n",
    " \n",
    "and has a well-known analytical solution (assuming that $X$ has full column rank):\n",
    "\n",
    "$$w^* = (X^TX)^{-1}X^T y$$\n",
    "\n",
    "Write a function that takes $X$ and $y$ as input and returns the solution of the ordinary least squares problem. Generate a random Gaussian matrix $X$ and vector $y$ (such that $N>p$, so that $X$ almost surely has a full column rank) and check if your function returns the right solution on these inputs (i.e. if it holds that $Xw^*-y=0$ up to a small constant $\\epsilon$)."
   ]
  },
  {
   "cell_type": "code",
   "execution_count": 7,
   "id": "cb1e8ae1",
   "metadata": {},
   "outputs": [],
   "source": [
    "# write your code here\n",
    "\n",
    "def OLS(X,y):\n",
    "    return np.linalg.inv(X.T@X)@X.T@y # np.linalg.inv computes the inverse of a matrix"
   ]
  },
  {
   "cell_type": "code",
   "execution_count": 8,
   "id": "d4da8470",
   "metadata": {},
   "outputs": [
    {
     "data": {
      "text/plain": [
       "1.8501280851621286e-09"
      ]
     },
     "execution_count": 8,
     "metadata": {},
     "output_type": "execute_result"
    }
   ],
   "source": [
    "N = 100\n",
    "p = 10\n",
    "\n",
    "X = np.random.normal(size=(N,N))\n",
    "y = np.random.normal(size=(N,1))\n",
    "\n",
    "w = OLS(X,y)\n",
    "\n",
    "\n",
    "np.linalg.norm(X@w - y)"
   ]
  },
  {
   "cell_type": "markdown",
   "id": "baf95e33",
   "metadata": {},
   "source": [
    "# Exercise 4.3: The shortest mathematical paper\n",
    "\n",
    "A [candidate for the shortest mathematical paper ever](https://www.ams.org/journals/bull/1966-72-06/S0002-9904-1966-11654-3/S0002-9904-1966-11654-3.pdf) shows the following result:\n",
    "\n",
    "$$27^5+84^5+110^5+133^5=144^5$$\n",
    "\n",
    "This is a counterexample to the [Euler's sum of powers conjecture](https://en.wikipedia.org/wiki/Euler%27s_sum_of_powers_conjecture), which states that if the sum of $n$ many $k-$th powers of positive integers is itself a $k-$th power, then $n\\geq k$.\n",
    "\n",
    "**a)** Check if the equation above is true."
   ]
  },
  {
   "cell_type": "code",
   "execution_count": 9,
   "id": "104c2692",
   "metadata": {},
   "outputs": [
    {
     "data": {
      "text/plain": [
       "True"
      ]
     },
     "execution_count": 9,
     "metadata": {},
     "output_type": "execute_result"
    }
   ],
   "source": [
    "# write your code here\n",
    "\n",
    "# We check the statement by simple calculation\n",
    "\n",
    "27**5 + 84**5 + 110**5 + 133**5 == 144**5 "
   ]
  },
  {
   "cell_type": "markdown",
   "id": "93bd1907",
   "metadata": {},
   "source": [
    "**b)** The more interesting statement in the paper is that the equation above gives the smallest counterexample, i.e. for any five integers smaller than $144$ denoted $a,b,c,d$ and $e$, it does not hold that $a^5+b^5+c^5+d^5=e^5$. Check this statement using Python. \n",
    "\n",
    "Notice that the number of all the possible combinations of four integers $a,b,c,d$ smaller than $N$ grows very quickly with $N$:\n",
    " \n",
    "$$\\binom{N}{4} = \\frac{N(N-1)(N-2)(N-3)}{24} = O(N^4)$$\n",
    "\n",
    "In particular, there are around 17 million combinations for $N=144$. Therefore, you need to mind efficiency and memory issues while doing this task. You can follow the following algorithm:\n",
    "\n",
    " 1. Construct a ```numpy``` array of integers from 1 to 144 to the fifth power.\n",
    " 2. Construct a list (or an array) of all combinations of four elements from this array. You can use ```combinations``` function from ```itertools``` package for this.\n",
    " 3. Construct a list (or an array) of sums of all these combinations.\n",
    " 4. Loop over one list and check if the entry appears in the other list (i.e., use the ```in``` keyword).\n",
    "\n",
    "The last loop may take some time. Can you come up with a more efficient solution?"
   ]
  },
  {
   "cell_type": "code",
   "execution_count": 10,
   "id": "ad948597",
   "metadata": {},
   "outputs": [
    {
     "name": "stdout",
     "output_type": "stream",
     "text": [
      "Integers [27, 84, 110, 133] in fifth degree sum to 144^5.\n"
     ]
    }
   ],
   "source": [
    "# write your code here\n",
    "\n",
    "from itertools import combinations\n",
    "\n",
    "nums = np.arange(1,145,1)**5\n",
    "combs = np.array(list(combinations(nums, 4)))\n",
    "\n",
    "sums = combs.sum(axis=1)\n",
    "\n",
    "for s, c in zip(sums,combs):\n",
    "    if s in nums:\n",
    "        print(f\"Integers {[int(i**(1/5)) for i in c]} in fifth degree sum to {int(s**(1/5))}^5.\")  "
   ]
  },
  {
   "cell_type": "code",
   "execution_count": 11,
   "id": "3c448f8a",
   "metadata": {},
   "outputs": [
    {
     "name": "stdout",
     "output_type": "stream",
     "text": [
      "Integers [27, 84, 110, 133] in fifth degree sum to 144^5.\n"
     ]
    }
   ],
   "source": [
    "# We can also use numpy to avoid the long loops and thus check the statement much faster\n",
    "\n",
    "intersection = np.in1d(sums, nums)\n",
    "\n",
    "for i in np.argwhere(intersection==True).ravel():\n",
    "    print(f\"Integers {[int(i**(1/5)) for i in combs[i]]} in fifth degree sum to {int(sums[i]**(1/5))}^5.\")   "
   ]
  },
  {
   "cell_type": "code",
   "execution_count": null,
   "id": "3081fdca",
   "metadata": {},
   "outputs": [],
   "source": []
  }
 ],
 "metadata": {
  "kernelspec": {
   "display_name": "Python 3 (ipykernel)",
   "language": "python",
   "name": "python3"
  },
  "language_info": {
   "codemirror_mode": {
    "name": "ipython",
    "version": 3
   },
   "file_extension": ".py",
   "mimetype": "text/x-python",
   "name": "python",
   "nbconvert_exporter": "python",
   "pygments_lexer": "ipython3",
   "version": "3.9.12"
  }
 },
 "nbformat": 4,
 "nbformat_minor": 5
}
