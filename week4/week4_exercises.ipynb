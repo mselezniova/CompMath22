{
 "cells": [
  {
   "cell_type": "markdown",
   "id": "f6033cf0",
   "metadata": {},
   "source": [
    "# Exercise 4.1: First steps with ```numpy```\n",
    "\n",
    "Generate the following sequences/ vectors/ matrices without using loops:\n",
    "\n",
    "**a)** $\\bigl(\\sin(\\pi n)\\bigr)_{n=1,\\dots,12}$ and $\\bigl( \\frac{1}{1+n^2} \\bigr)_{n=1,\\dots,12}$"
   ]
  },
  {
   "cell_type": "code",
   "execution_count": null,
   "id": "3a01ea79",
   "metadata": {},
   "outputs": [],
   "source": [
    "# write your code here"
   ]
  },
  {
   "cell_type": "markdown",
   "id": "4b2eecda",
   "metadata": {},
   "source": [
    "**b)** $(1,-3,5,-7,9,\\dots,97,-99)$"
   ]
  },
  {
   "cell_type": "code",
   "execution_count": null,
   "id": "ffa889a5",
   "metadata": {},
   "outputs": [],
   "source": [
    "# write your code here"
   ]
  },
  {
   "cell_type": "markdown",
   "id": "034a40ec",
   "metadata": {},
   "source": [
    "**c)** $\\begin{pmatrix}\n",
    "    1/z & 1 & 1 & \\dots & 1\\\\\n",
    "    z & 1/z & z & \\dots & z\\\\\n",
    "    \\vdots & & & \\ddots & \\\\\n",
    "    z^{11} & z^{11} & z^{11} & \\dots & 1/z\n",
    "    \\end{pmatrix}$, where $z=\\frac{\\sqrt{3}+i}{2}$ and $i$ is the imaginary unit."
   ]
  },
  {
   "cell_type": "code",
   "execution_count": null,
   "id": "106d1f6b",
   "metadata": {},
   "outputs": [],
   "source": [
    "# write your code here"
   ]
  },
  {
   "cell_type": "markdown",
   "id": "a62139da",
   "metadata": {},
   "source": [
    "# Exercise 4.2: Least squares\n",
    "\n",
    "The ordinary least squares problem with matrix of observations $X\\in\\mathbb{R}^{N\\times p}$ and vector of responses $y\\in\\mathbb{R}^N$ is given by \n",
    "\n",
    "$$\\min_{w\\in\\mathbb{R}^p} \\|Xw-y\\|_2^2$$\n",
    " \n",
    "and has a well-known analytical solution (assuming that $X$ has full column rank):\n",
    "\n",
    "$$w^* = (X^TX)^{-1}X^T y$$\n",
    "\n",
    "Write a function that takes $X$ and $y$ as input and returns the solution of the ordinary least squares problem. Generate a random Gaussian matrix $X$ and vector $y$ (such that $N>p$, so that $X$ almost surely has a full column rank) and check if your function returns the right solution on these inputs."
   ]
  },
  {
   "cell_type": "code",
   "execution_count": null,
   "id": "cb1e8ae1",
   "metadata": {},
   "outputs": [],
   "source": [
    "# write your code here"
   ]
  },
  {
   "cell_type": "markdown",
   "id": "baf95e33",
   "metadata": {},
   "source": [
    "# Exercise 4.3: The shortest mathematical paper\n",
    "\n",
    "A [candidate for the shortest mathematical paper ever](https://www.ams.org/journals/bull/1966-72-06/S0002-9904-1966-11654-3/S0002-9904-1966-11654-3.pdf) shows the following result:\n",
    "\n",
    "$$25^5+84^5+110^5+133^5=144^5$$\n",
    "\n",
    "This is a counterexample to the [Euler's sum of powers conjecture](https://en.wikipedia.org/wiki/Euler%27s_sum_of_powers_conjecture), which states that if the sum of $n$ many $k-$th powers of positive integers is itself a $k-$th power, then $n\\geq k$.\n",
    "\n",
    "**a)** Check if the equation above is true."
   ]
  },
  {
   "cell_type": "code",
   "execution_count": null,
   "id": "104c2692",
   "metadata": {},
   "outputs": [],
   "source": [
    "# write your code here"
   ]
  },
  {
   "cell_type": "markdown",
   "id": "93bd1907",
   "metadata": {},
   "source": [
    "**b)** The more interesting statement in the paper is that the equation above gives the smallest counterexample, i.e. for any five integers smaller than $144$ denoted $a,b,c,d$ and $e$, it does not hold that $a^5+b^5+c^5+d^5=e^5$. Check this statement using Python. \n",
    "\n",
    "Notice that the number of all the possible combinations of four integers $a,b,c,d$ smaller than $N$ grows very quickly with $N$:\n",
    " \n",
    "$$\\binom{N}{4} = \\frac{N(N-1)(N-2)(N-3)}{24} = O(N^4)$$\n",
    "\n",
    "In particular, there are around 17 million combinations for $N=144$. Therefore, you need to mind efficiency and memory issues while doing this task. You can follow the following algorithm:\n",
    "\n",
    "    1. Construct a ```numpy``` array of integers from 1 to 144 to the fifth power.\n",
    "    2. Construct a list (or an array) of all combinations of four elements from this array. You can use ```combinations``` function from ```itertools``` package for this.\n",
    "    3. Construct a list (or an array) of sums of all these combinations.\n",
    "    4. Loop over one list and check if the entry appears in the other list (i.e., use the ```in``` keyword).\n",
    "\n",
    "The last loop may take some time. Can you come up with a more efficient solution?"
   ]
  },
  {
   "cell_type": "code",
   "execution_count": null,
   "id": "ad948597",
   "metadata": {},
   "outputs": [],
   "source": [
    "# write your code here"
   ]
  }
 ],
 "metadata": {
  "kernelspec": {
   "display_name": "Python 3 (ipykernel)",
   "language": "python",
   "name": "python3"
  },
  "language_info": {
   "codemirror_mode": {
    "name": "ipython",
    "version": 3
   },
   "file_extension": ".py",
   "mimetype": "text/x-python",
   "name": "python",
   "nbconvert_exporter": "python",
   "pygments_lexer": "ipython3",
   "version": "3.9.12"
  }
 },
 "nbformat": 4,
 "nbformat_minor": 5
}
