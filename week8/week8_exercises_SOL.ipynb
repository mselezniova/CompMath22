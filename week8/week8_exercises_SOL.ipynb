{
 "cells": [
  {
   "cell_type": "markdown",
   "id": "599aee54",
   "metadata": {},
   "source": [
    "# Exercise 8.1: SIS model\n",
    "\n",
    "An alternative to the SIR model, which we studied in one of the previous classes, is the [SIS model](https://de.wikipedia.org/wiki/SIS-Modell). In this model an individual does not become immune after recovering from an infection but becomes susceptible again. Thus, there are only two states: $S$ (susceptible) and $I$ (infectious). As before, there are also two hyperparameters: infection rate $\\beta$ and recovery/death rate $\\gamma$. Then the differential equations system describing the model are given by\n",
    "\n",
    "$$\\dfrac{dS}{dt} = -\\beta IS + \\gamma I, \\quad \\dfrac{dI}{dt} = \\beta IS - \\gamma I$$\n",
    "\n",
    "We further assume that $I+S = 1$ and denote $\\delta = \\beta-\\gamma$. Then the above system simplifies to the following single ODE:\n",
    "\n",
    "$$\\dfrac{dI}{dt} = (\\delta - \\beta I) I$$\n",
    "\n",
    "**a)** Solve the ODE with the initial condition $I(0) = I_0$ (use `sympy.dsolve` function)."
   ]
  },
  {
   "cell_type": "code",
   "execution_count": 1,
   "id": "2d763a58",
   "metadata": {},
   "outputs": [],
   "source": [
    "import sympy as sym\n",
    "\n",
    "sym.init_printing()"
   ]
  },
  {
   "cell_type": "code",
   "execution_count": 2,
   "id": "1a0b8542",
   "metadata": {},
   "outputs": [
    {
     "data": {
      "image/png": "[encoded data removed]",
      "text/latex": [
       "$\\displaystyle I{\\left(t \\right)} = \\frac{\\delta}{\\beta \\left(1 - e^{\\delta \\left(C_{1} - t\\right)}\\right)}$"
      ],
      "text/plain": [
       "                δ         \n",
       "I(t) = ───────────────────\n",
       "         ⎛     δ⋅(C₁ - t)⎞\n",
       "       β⋅⎝1 - ℯ          ⎠"
      ]
     },
     "execution_count": 2,
     "metadata": {},
     "output_type": "execute_result"
    }
   ],
   "source": [
    "# write your code here\n",
    "\n",
    "from sympy.abc import beta,gamma,t\n",
    "\n",
    "delta = sym.Symbol('delta', positive=True)\n",
    "I0 = sym.Symbol('I_0')\n",
    "\n",
    "# to define the ODE in sympy, we need to define an unknown function I\n",
    "I = sym.Function('I')\n",
    "\n",
    "# define the equation\n",
    "eq = sym.Eq(I(t).diff(t), (delta-beta*I(t))*I(t))\n",
    "\n",
    "# solve the ODE using sym.dsolve\n",
    "general_solution = sym.dsolve(eq,I(t))\n",
    " \n",
    "# have a look at the solution\n",
    "general_solution"
   ]
  },
  {
   "cell_type": "code",
   "execution_count": 3,
   "id": "d76b09e1",
   "metadata": {},
   "outputs": [
    {
     "data": {
      "image/png": "[encoded data removed]",
      "text/latex": [
       "$\\displaystyle \\frac{I_{0} \\delta e^{\\delta t}}{I_{0} \\beta e^{\\delta t} - I_{0} \\beta + \\delta}$"
      ],
      "text/plain": [
       "           δ⋅t      \n",
       "     I₀⋅δ⋅ℯ         \n",
       "────────────────────\n",
       "      δ⋅t           \n",
       "I₀⋅β⋅ℯ    - I₀⋅β + δ"
      ]
     },
     "execution_count": 3,
     "metadata": {},
     "output_type": "execute_result"
    }
   ],
   "source": [
    "C = sym.Symbol('C1')\n",
    "\n",
    "# to incorporate the initial condition, we can solve the ODE at t=0 for C1 constant\n",
    "init_eq = general_solution.subs([(t,0), (I(0),I0)])\n",
    "C_val = sym.solve(init_eq,C)\n",
    "\n",
    "# then we insert the value of C1 to the general solution\n",
    "ode_solution= general_solution.subs({C:C_val[0]})\n",
    "\n",
    "# then the ODE solution for I(t) is the right hand side of the above expression\n",
    "I = ode_solution.rhs.simplify()\n",
    "\n",
    "I\n",
    "\n",
    "# Alternatively, you can use argument ics of sym.dsolve to incorporate initial conditions (see the documentation)"
   ]
  },
  {
   "cell_type": "markdown",
   "id": "77d5929f",
   "metadata": {},
   "source": [
    "**b)** Check that $1-I(t)$ satisfies the equation for $S$."
   ]
  },
  {
   "cell_type": "code",
   "execution_count": 4,
   "id": "240e054a",
   "metadata": {},
   "outputs": [
    {
     "data": {
      "text/plain": [
       "True"
      ]
     },
     "execution_count": 4,
     "metadata": {},
     "output_type": "execute_result"
    }
   ],
   "source": [
    "# write your code here\n",
    "\n",
    "# We simply insert the expression for 1-I(t) into the equation for S(t),\n",
    "# substract RHS from LHS and check whether we get zero\n",
    "\n",
    "# Note that gamma = beta - delta\n",
    "((1-I).diff(t)+((beta)*I*(1-I)-(beta-delta)*I)).simplify().is_zero"
   ]
  },
  {
   "cell_type": "markdown",
   "id": "5f24e21f",
   "metadata": {},
   "source": [
    "**c)** The number of infectious individuals will approach a stable point (equilibrium) over time. Determine this point."
   ]
  },
  {
   "cell_type": "code",
   "execution_count": 5,
   "id": "e48f606b",
   "metadata": {},
   "outputs": [
    {
     "name": "stdout",
     "output_type": "stream",
     "text": [
      "The limit in case delta>0:\n"
     ]
    },
    {
     "data": {
      "image/png": "[encoded data removed]",
      "text/latex": [
       "$\\displaystyle \\frac{\\delta}{\\beta}$"
      ],
      "text/plain": [
       "δ\n",
       "─\n",
       "β"
      ]
     },
     "metadata": {},
     "output_type": "display_data"
    },
    {
     "name": "stdout",
     "output_type": "stream",
     "text": [
      "The limit in case delta<=0:\n"
     ]
    },
    {
     "data": {
      "image/png": "[encoded data removed]",
      "text/latex": [
       "$\\displaystyle 0$"
      ],
      "text/plain": [
       "0"
      ]
     },
     "metadata": {},
     "output_type": "display_data"
    }
   ],
   "source": [
    "# write your code here\n",
    "\n",
    "# The limit depends on the sign of delta\n",
    "# Therefore, we consider two cases: delta > 0 and delta <=0\n",
    "\n",
    "print(\"The limit in case delta>0:\")\n",
    "display(sym.limit(I,t,sym.oo))\n",
    "\n",
    "print(\"The limit in case delta<=0:\")\n",
    "display(sym.limit(I.subs({delta:-delta}),t,sym.oo))"
   ]
  },
  {
   "cell_type": "markdown",
   "id": "6e0f48c9",
   "metadata": {},
   "source": [
    "**d)** Plot $S, I$ for $\\beta=0.4$ and $\\gamma=0.04$ for $t\\in[0,100]$ and initial conditions $S(0)=0.997$, $I(0)=0.03$. Compare with the plots for the SIR model from Exercise 6.1."
   ]
  },
  {
   "cell_type": "code",
   "execution_count": 6,
   "id": "8a2a5902",
   "metadata": {},
   "outputs": [
    {
     "data": {
      "image/png": "[encoded data removed]",
      "text/plain": [
       "<Figure size 432x288 with 1 Axes>"
      ]
     },
     "metadata": {
      "needs_background": "light"
     },
     "output_type": "display_data"
    },
    {
     "data": {
      "text/plain": [
       "<sympy.plotting.plot.Plot at 0x7f8f88a3d310>"
      ]
     },
     "execution_count": 6,
     "metadata": {},
     "output_type": "execute_result"
    }
   ],
   "source": [
    "# write your code here\n",
    "I_sol = ode_solution.rhs.subs({delta: 0.4-0.04, beta: 0.4, I0: 0.03})\n",
    "S_sol = 1 - I_sol\n",
    "\n",
    "sym.plot(I_sol, S_sol, (t,0,100))"
   ]
  },
  {
   "cell_type": "markdown",
   "id": "183ba80b",
   "metadata": {},
   "source": [
    "# Exercise 8.2: Python scripts and modules\n",
    "\n",
    "So far we have been using Jupyter notebook to run Python code. This option is great to examine and present your code interactively and to combine the code with plots, text, equations, etc. However, there are multiple situations (e.g. running code remotely or the exam 😉) where you need to use a more conventional way to write and run Python code, namely **Python scripts**. In this task, we learn how to use Python scripts. \n",
    "\n",
    "**What are Python scripts?** Python scripts are simply `*.py` files, which contain a set of Python commands .\n",
    "\n",
    "**How to write/edit such files?** You can use a text editor (any standard editor on your computer would work but there are also editors made specifically for code, such as [Sublime](https://www.sublimetext.com)) or a Python IDE (e.g. [PyCharm](https://www.jetbrains.com/pycharm/) or [Spyder](https://www.spyder-ide.org)). \n",
    "\n",
    "**How to run a script?** To run a Python script, you can simply type `python script_name.py` in a terminal window. If you are using an IDE, there is typically also a \"Run\" button.\n",
    "\n",
    "**How are scripts executed?** Python scripts are executed *linearly*, i.e. all the code simpy runs in the order in which the script contains it. This is in contrast with Jupyter notebooks, where you can have multiple code cells and run them in any order.\n",
    "\n",
    "**a)** Create a script `primes.py`, which contains two functions from Exercise 3.1: the function that checks whether a number is a prime and the factorization function. Within your script, check whether numbers 17, 28, 131, 1573 are primes and factorize numbers 15793 and 15797. Print all the answers in a readable way.\n",
    "\n",
    "**b)** As you know from the first exercise class, Python modules (libraries) are also simpy `*.py` files. Thus, you can turn your script into a library! Leave only the definitions of the two functions in your script. Then import your script as a module in this Jupyter notebook (`import primes`). Note that the script has to be in the same directory as the notebook for this to work. Try using the functions from your library inside the notebook.\n",
    "\n",
    "**c)** There is a well-known Python idiom `if __name__ == \"__main__\"`, which *allows you to execute code when the file runs as a script, but not when it’s imported as a module*. You can read, for example, this [tutorial](https://realpython.com/if-name-main-python/) to understand this idiom better. Modify your `primes.py` script so that it simply contains the two functions from Exercise 3.1 when it is imported as a module but prints all the results required in part **a)** of this exercise when it is executed as a script. "
   ]
  },
  {
   "cell_type": "code",
   "execution_count": 7,
   "id": "d6de672d",
   "metadata": {},
   "outputs": [
    {
     "name": "stdout",
     "output_type": "stream",
     "text": [
      "17 is a prime.\n",
      "28 is not a prime.\n",
      "131 is a prime.\n",
      "1573 is not a prime.\n",
      "Factorization of 15793: {17: 1, 929: 1}\n",
      "Factorization of 15797: {15797: 1}\n"
     ]
    }
   ],
   "source": [
    "# write your code here\n",
    "\n",
    "import primes\n",
    "\n",
    "# We use the same test as in the primes.py file\n",
    "# Note that in the notebook we need to call the functions from the primes namespace,\n",
    "# i.e. as primes.is_prime() and primes.factorize()\n",
    "\n",
    "tests = [17,28,131,1573]\n",
    "\n",
    "for n in tests:\n",
    "    if primes.is_prime(n):\n",
    "        print(f\"{n} is a prime.\")\n",
    "    else:\n",
    "        print(f\"{n} is not a prime.\")\n",
    "\n",
    "for n in [15793,15797]:\n",
    "    print(f\"Factorization of {n}: {primes.factorize(n)}\")"
   ]
  },
  {
   "cell_type": "markdown",
   "id": "e64a9ac9",
   "metadata": {},
   "source": [
    "# Exercise 8.3: Integration\n",
    "\n",
    "In this task, we will practice integration in SymPy using the example of Gaussian distribution. The Gaussian density function is given by \n",
    "\n",
    "$$f(x) = \\dfrac{1}{\\sigma\\sqrt{2\\pi}}e^{-\\dfrac{1}{2}\\Bigl(\\dfrac{x-\\mu}{\\sigma}\\Bigr)^2}$$\n",
    "\n",
    "**a)** Define the Gaussian density function as a SymPy expression. Note that you need to specify that $\\sigma$ is positive in the above expression. Compute its definite integral with limits $(-\\infty, \\infty)$ (what should this integrals be equal to?)."
   ]
  },
  {
   "cell_type": "code",
   "execution_count": 8,
   "id": "107826c7",
   "metadata": {},
   "outputs": [
    {
     "data": {
      "image/png": "[encoded data removed]",
      "text/latex": [
       "$\\displaystyle 1$"
      ],
      "text/plain": [
       "1"
      ]
     },
     "execution_count": 8,
     "metadata": {},
     "output_type": "execute_result"
    }
   ],
   "source": [
    "# write your code here\n",
    "\n",
    "\n",
    "x, mu = sym.symbols(('x', 'mu'))\n",
    "sigma = sym.symbols('sigma', positive=True)\n",
    "\n",
    "f = sym.exp(-sym.Rational(1)/sym.Rational(2)*((x-mu)/sigma)**2)/sigma/sym.sqrt(2*sym.pi)\n",
    "\n",
    "# as expected, the integral of probability density is 1\n",
    "sym.integrate(f, (x, -sym.oo, sym.oo))"
   ]
  },
  {
   "cell_type": "markdown",
   "id": "428b14af",
   "metadata": {},
   "source": [
    "**b)** Compute the expectation and the variance of the Gaussian distribution using integrals of $x\\cdot f(x)$ and $x^2 \\cdot f(x)$."
   ]
  },
  {
   "cell_type": "code",
   "execution_count": 9,
   "id": "b0142974",
   "metadata": {},
   "outputs": [
    {
     "data": {
      "image/png": "[encoded data removed]",
      "text/latex": [
       "$\\displaystyle \\mu$"
      ],
      "text/plain": [
       "μ"
      ]
     },
     "execution_count": 9,
     "metadata": {},
     "output_type": "execute_result"
    }
   ],
   "source": [
    "# write your code here\n",
    "\n",
    "# the expectation is mu\n",
    "E = sym.integrate(x*f, (x, -sym.oo, sym.oo)).simplify()\n",
    "\n",
    "E"
   ]
  },
  {
   "cell_type": "code",
   "execution_count": 10,
   "id": "9a891ea9",
   "metadata": {},
   "outputs": [
    {
     "data": {
      "image/png": "[encoded data removed]",
      "text/latex": [
       "$\\displaystyle \\sigma^{2}$"
      ],
      "text/plain": [
       " 2\n",
       "σ "
      ]
     },
     "execution_count": 10,
     "metadata": {},
     "output_type": "execute_result"
    }
   ],
   "source": [
    "# the variance is sigma^2\n",
    "Var = sym.integrate(x**2*f, (x, -sym.oo, sym.oo)).simplify() - E**2\n",
    "\n",
    "Var"
   ]
  },
  {
   "cell_type": "markdown",
   "id": "161b582e",
   "metadata": {},
   "source": [
    "**c)** Compute the indefinite integral of $f(x)$. Notice that `sym.integrate` does not include an integration constant, therefore, the result only matches the Gaussian CDF $\\Phi(x)$ up to a constant."
   ]
  },
  {
   "cell_type": "code",
   "execution_count": 11,
   "id": "39f3e272",
   "metadata": {},
   "outputs": [
    {
     "data": {
      "image/png": "[encoded data removed]",
      "text/latex": [
       "$\\displaystyle \\frac{\\operatorname{erf}{\\left(\\frac{\\sqrt{2} \\left(- \\mu + x\\right)}{2 \\sigma} \\right)}}{2}$"
      ],
      "text/plain": [
       "   ⎛√2⋅(-μ + x)⎞\n",
       "erf⎜───────────⎟\n",
       "   ⎝    2⋅σ    ⎠\n",
       "────────────────\n",
       "       2        "
      ]
     },
     "execution_count": 11,
     "metadata": {},
     "output_type": "execute_result"
    }
   ],
   "source": [
    "# write your code here\n",
    "\n",
    "# indefinite integral without constant\n",
    "sym.integrate(f, x)"
   ]
  },
  {
   "cell_type": "markdown",
   "id": "7c70e3d5",
   "metadata": {},
   "source": [
    "**d)** Add a costant $C$ to the indefinite integral of $f(x)$ manually and use the equation $\\int_{-\\infty}^{\\mu} f(x)dx = \\dfrac{1}{2}$ to find the correct expression for $\\Phi(x)$."
   ]
  },
  {
   "cell_type": "code",
   "execution_count": 12,
   "id": "333d9455",
   "metadata": {},
   "outputs": [
    {
     "data": {
      "image/png": "[encoded data removed]",
      "text/latex": [
       "$\\displaystyle \\frac{\\operatorname{erf}{\\left(\\frac{\\sqrt{2} \\left(- \\mu + x\\right)}{2 \\sigma} \\right)}}{2} + \\frac{1}{2}$"
      ],
      "text/plain": [
       "   ⎛√2⋅(-μ + x)⎞    \n",
       "erf⎜───────────⎟    \n",
       "   ⎝    2⋅σ    ⎠   1\n",
       "──────────────── + ─\n",
       "       2           2"
      ]
     },
     "execution_count": 12,
     "metadata": {},
     "output_type": "execute_result"
    }
   ],
   "source": [
    "# write your code here\n",
    "\n",
    "C = sym.Symbol('C')\n",
    "\n",
    "Phi = C + sym.integrate(f, x)\n",
    "\n",
    "# We define the equation at x=1/2 to find C\n",
    "init_eq = sym.Eq(Phi.subs({x: mu}), sym.Rational(1)/sym.Rational(2))\n",
    "C_val = sym.solve(init_eq, C)\n",
    "\n",
    "# Then insert the C value in Phi to get the correct CDF expression\n",
    "Phi.subs({C: C_val[0]})"
   ]
  }
 ],
 "metadata": {
  "kernelspec": {
   "display_name": "Python 3 (ipykernel)",
   "language": "python",
   "name": "python3"
  },
  "language_info": {
   "codemirror_mode": {
    "name": "ipython",
    "version": 3
   },
   "file_extension": ".py",
   "mimetype": "text/x-python",
   "name": "python",
   "nbconvert_exporter": "python",
   "pygments_lexer": "ipython3",
   "version": "3.9.12"
  }
 },
 "nbformat": 4,
 "nbformat_minor": 5
}
