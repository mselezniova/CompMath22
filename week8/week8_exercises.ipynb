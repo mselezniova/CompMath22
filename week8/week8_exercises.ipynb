{
 "cells": [
  {
   "cell_type": "markdown",
   "id": "163dbbeb",
   "metadata": {},
   "source": [
    "# Exercise 8.1: SIS model\n",
    "\n",
    "An alternative to the SIR model, which we studied in one of the previous classes, is the [SIS model](https://de.wikipedia.org/wiki/SIS-Modell). In this model an individual does not become immune after recovering from an infection but becomes susceptible again. Thus, there are only two states: $S$ (susceptible) and $I$ (infectious). As before, there are also two hyperparameters: infection rate $\\beta$ and recovery/death rate $\\gamma$. Then the differential equations system describing the model are given by\n",
    "\n",
    "$$\\dfrac{dS}{dt} = -\\beta IS + \\gamma I, \\quad \\dfrac{dI}{dt} = \\beta IS - \\gamma I$$\n",
    "\n",
    "We further assume that $I+S = 1$ and denote $\\delta = \\beta-\\gamma$. Then the above system simplifies to the following single ODE:\n",
    "\n",
    "$$\\dfrac{dI}{dt} = (\\delta - \\beta I) I$$\n",
    "\n",
    "**a)** Solve the ODE with the initial condition $I(0) = I_0$ (use `sympy.dsolve` function)."
   ]
  },
  {
   "cell_type": "code",
   "execution_count": null,
   "id": "0dc4c2d5",
   "metadata": {},
   "outputs": [],
   "source": [
    "# write your code here"
   ]
  },
  {
   "cell_type": "markdown",
   "id": "02990e99",
   "metadata": {},
   "source": [
    "**b)** Check that $1-I(t)$ satisfies the equation for $S$."
   ]
  },
  {
   "cell_type": "code",
   "execution_count": null,
   "id": "54f03631",
   "metadata": {},
   "outputs": [],
   "source": [
    "# write your code here"
   ]
  },
  {
   "cell_type": "markdown",
   "id": "a7a503bb",
   "metadata": {},
   "source": [
    "**c)** The number of infectious individuals will approach a stable point (equilibrium) over time. Determine this point."
   ]
  },
  {
   "cell_type": "code",
   "execution_count": null,
   "id": "bb6990dc",
   "metadata": {},
   "outputs": [],
   "source": [
    "# write your code here"
   ]
  },
  {
   "cell_type": "markdown",
   "id": "a80ae29f",
   "metadata": {},
   "source": [
    "**d)** Plot $S, I$ for $\\beta=0.4$ and $\\gamma=0.04$ for $t\\in[0,100]$ and initial conditions $S(0)=0.997$, $I(0)=0.03$. Compare with the plots for the SIR model from Exercise 6.1."
   ]
  },
  {
   "cell_type": "code",
   "execution_count": null,
   "id": "395fe275",
   "metadata": {},
   "outputs": [],
   "source": [
    "# write your code here"
   ]
  },
  {
   "cell_type": "markdown",
   "id": "fac7715c",
   "metadata": {},
   "source": [
    "# Exercise 8.2: Python scripts and modules\n",
    "\n",
    "So far we have been using Jupyter notebook to run Python code. This option is great to examine and present your code interactively and to combine the code with plots, text, equations, etc. However, there are multiple situations (e.g. running code remotely or the exam 😉) where you need to use a more conventional way to write and run Python code, namely **Python scripts**. In this task, we learn how to use Python scripts. \n",
    "\n",
    "**What are Python scripts?** Python scripts are simply `*.py` files, which contain a set of Python commands .\n",
    "\n",
    "**How to write/edit such files?** You can use a text editor (any standard editor on your computer would work but there are also editors made specifically for code, such as [Sublime](https://www.sublimetext.com)) or a Python IDE (e.g. [PyCharm](https://www.jetbrains.com/pycharm/) or [Spyder](https://www.spyder-ide.org)). \n",
    "\n",
    "**How to run a script?** To run a Python script, you can simply type `python script_name.py` in a terminal window. If you are using an IDE, there is typically also a \"Run\" button.\n",
    "\n",
    "**How are scripts executed?** Python scripts are executed *linearly*, i.e. all the code simpy runs in the order in which the script contains it. This is in contrast with Jupyter notebooks, where you can have multiple code cells and run them in any order.\n",
    "\n",
    "**a)** Create a script `primes.py`, which contains two functions from Exercise 3.1: the function that checks whether a number is a prime and the factorization function. Within your script, check whether numbers 17, 28, 131, 1573 are primes and factorize numbers 15793 and 15797. Print all the answers in a readable way.\n",
    "\n",
    "**b)** As you know from the first exercise class, Python modules (libraries) are also simpy `*.py` files. Thus, you can turn your script into a library! Leave only the definitions of the two functions in your script. Then import your script as a module in this Jupyter notebook (`import primes`). Note that the script has to be in the same directory as the notebook for this to work. Try using the functions from your library inside the notebook.\n",
    "\n",
    "**c)** There is a well-known Python idiom `if __name__ == \"__main__\"`, which *allows you to execute code when the file runs as a script, but not when it’s imported as a module*. You can read, for example, this [tutorial](https://realpython.com/if-name-main-python/) to understand this idiom better. Modify your `primes.py` script so that it simply contains the two functions from Exercise 3.1 when it is imported as a module but prints all the results required in part **a)** of this exercise when it is executed as a script. "
   ]
  },
  {
   "cell_type": "code",
   "execution_count": null,
   "id": "808f713b",
   "metadata": {},
   "outputs": [],
   "source": [
    "# write your code here"
   ]
  },
  {
   "cell_type": "markdown",
   "id": "2f9142af",
   "metadata": {},
   "source": [
    "# Exercise 8.3: Integration\n",
    "\n",
    "In this task, we will practice integration in SymPy using the example of Gaussian distribution. The Gaussian density function is given by \n",
    "\n",
    "$$f(x) = \\dfrac{1}{\\sigma\\sqrt{2\\pi}}e^{-\\dfrac{1}{2}\\Bigl(\\dfrac{x-\\mu}{\\sigma}\\Bigr)^2}$$\n",
    "\n",
    "**a)** Define the Gaussian density function as a SymPy expression. Note that you need to specify that $\\sigma$ is positive in the above expression. Compute its definite integral with limits $(-\\infty, \\infty)$ (what should this integrals be equal to?)."
   ]
  },
  {
   "cell_type": "code",
   "execution_count": null,
   "id": "c8158dc5",
   "metadata": {},
   "outputs": [],
   "source": [
    "# write your code here"
   ]
  },
  {
   "cell_type": "markdown",
   "id": "2b25d10a",
   "metadata": {},
   "source": [
    "**b)** Compute the expectation and the variance of the Gaussian distribution using integrals of $x\\cdot f(x)$ and $x^2 \\cdot f(x)$."
   ]
  },
  {
   "cell_type": "code",
   "execution_count": null,
   "id": "3c69b4d4",
   "metadata": {},
   "outputs": [],
   "source": [
    "# write your code here"
   ]
  },
  {
   "cell_type": "markdown",
   "id": "38e1e927",
   "metadata": {},
   "source": [
    "**c)** Compute the indefinite integral of $f(x)$. Notice that `sym.integrate` does not include an integration constant, therefore, the result only matches the Gaussian CDF $\\Phi(x)$ up to a constant."
   ]
  },
  {
   "cell_type": "code",
   "execution_count": null,
   "id": "0b576688",
   "metadata": {},
   "outputs": [],
   "source": [
    "# write your code here"
   ]
  },
  {
   "cell_type": "markdown",
   "id": "9a38ba05",
   "metadata": {},
   "source": [
    "**d)** Add a costant $C$ to the indefinite integral of $f(x)$ manually and use the equation $\\int_{-\\infty}^{\\mu} f(x)dx = \\dfrac{1}{2}$ to find the correct expression for $\\Phi(x)$."
   ]
  },
  {
   "cell_type": "code",
   "execution_count": null,
   "id": "c149b7ad",
   "metadata": {},
   "outputs": [],
   "source": [
    "# write your code here"
   ]
  }
 ],
 "metadata": {
  "kernelspec": {
   "display_name": "Python 3 (ipykernel)",
   "language": "python",
   "name": "python3"
  },
  "language_info": {
   "codemirror_mode": {
    "name": "ipython",
    "version": 3
   },
   "file_extension": ".py",
   "mimetype": "text/x-python",
   "name": "python",
   "nbconvert_exporter": "python",
   "pygments_lexer": "ipython3",
   "version": "3.9.12"
  }
 },
 "nbformat": 4,
 "nbformat_minor": 5
}
