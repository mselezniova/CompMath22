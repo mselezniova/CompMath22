{
 "cells": [
  {
   "cell_type": "markdown",
   "id": "e85a8ef8",
   "metadata": {},
   "source": [
    "# Exercise 3.1: Prime numbers\n",
    "\n",
    "**a)** Write a function that tests if a number is prime. Test your function on several simple examples of prime and nonprime numbers, e.g. 17, 28, 131, 1573."
   ]
  },
  {
   "cell_type": "code",
   "execution_count": 20,
   "id": "1f8cfbbe",
   "metadata": {},
   "outputs": [],
   "source": [
    "# write your code here\n",
    "\n",
    "def is_prime(n):\n",
    "    for i in range(2,int(n/2)+1): # there are no factors of n larger than n/2  \n",
    "        if n%i == 0:\n",
    "            return False\n",
    "    return True\n"
   ]
  },
  {
   "cell_type": "code",
   "execution_count": 21,
   "id": "d4f099d0",
   "metadata": {},
   "outputs": [
    {
     "name": "stdout",
     "output_type": "stream",
     "text": [
      "17 is a prime.\n",
      "28 is not a prime.\n",
      "131 is a prime.\n",
      "1573 is not a prime.\n"
     ]
    }
   ],
   "source": [
    "tests = [17,28,131,1573]\n",
    "\n",
    "for n in tests:\n",
    "    if is_prime(n):\n",
    "        print(f\"{n} is a prime.\")\n",
    "    else:\n",
    "        print(f\"{n} is not a prime.\")"
   ]
  },
  {
   "cell_type": "markdown",
   "id": "ab891d3d",
   "metadata": {},
   "source": [
    "**b)** To assess the efficiency of your implementationt, it is useful to measure how much time your code takes to run. In Jupyter, you can do it using [IPython magic](https://ipython.readthedocs.io/en/stable/interactive/magics.html) ``%%timeit``. This command will run the cell several times and give you the average time that your code took. Choose several large numbers, e.g. 479001599 and 526891377, and check how much it takes to check if these numbers are prime using your function from task (a). Do you have any ideas how to make your function more efficient?"
   ]
  },
  {
   "cell_type": "code",
   "execution_count": 22,
   "id": "15d58370",
   "metadata": {},
   "outputs": [
    {
     "name": "stdout",
     "output_type": "stream",
     "text": [
      "13.9 s ± 66.4 ms per loop (mean ± std. dev. of 7 runs, 1 loop each)\n"
     ]
    }
   ],
   "source": [
    "%%timeit \n",
    "\n",
    "# write your code here\n",
    "\n",
    "is_prime(479001599)"
   ]
  },
  {
   "cell_type": "code",
   "execution_count": 23,
   "id": "fac1d828",
   "metadata": {},
   "outputs": [
    {
     "name": "stdout",
     "output_type": "stream",
     "text": [
      "372 ns ± 1.13 ns per loop (mean ± std. dev. of 7 runs, 1,000,000 loops each)\n"
     ]
    }
   ],
   "source": [
    "%%timeit \n",
    "\n",
    "# write your code here\n",
    "\n",
    "is_prime(526891377)"
   ]
  },
  {
   "cell_type": "markdown",
   "id": "4a191f17",
   "metadata": {},
   "source": [
    "To make your function more efficient, you can notice that any nonprime number $n$ has a factor not larger than $\\sqrt{n}$. Therefore, it is enough to run the cycle in your function until $\\sqrt{n}$ instead of $n/2$. Let us try changing the function this way and time it again:"
   ]
  },
  {
   "cell_type": "code",
   "execution_count": 2,
   "id": "f674af1a",
   "metadata": {},
   "outputs": [],
   "source": [
    "from math import sqrt \n",
    "\n",
    "def is_prime_2(n):\n",
    "    for i in range(2,int(sqrt(n))+1): \n",
    "        if n%i == 0:\n",
    "            return False\n",
    "    return True"
   ]
  },
  {
   "cell_type": "code",
   "execution_count": 4,
   "id": "5e72bb78",
   "metadata": {},
   "outputs": [
    {
     "name": "stdout",
     "output_type": "stream",
     "text": [
      "1.18 ms ± 3.99 µs per loop (mean ± std. dev. of 7 runs, 1,000 loops each)\n"
     ]
    }
   ],
   "source": [
    "%%timeit \n",
    "\n",
    "is_prime_2(479001599)"
   ]
  },
  {
   "cell_type": "code",
   "execution_count": 5,
   "id": "d570672e",
   "metadata": {},
   "outputs": [
    {
     "name": "stdout",
     "output_type": "stream",
     "text": [
      "389 ns ± 2.69 ns per loop (mean ± std. dev. of 7 runs, 1,000,000 loops each)\n"
     ]
    }
   ],
   "source": [
    "%%timeit \n",
    "\n",
    "is_prime_2(526891377)"
   ]
  },
  {
   "cell_type": "markdown",
   "id": "6c26a2a1",
   "metadata": {},
   "source": [
    "You can see that now the function runs much faster on large prime numbers!"
   ]
  },
  {
   "cell_type": "markdown",
   "id": "6f5d65e1",
   "metadata": {},
   "source": [
    "**c)** Write a function that returns *factorization* of an integer $n$, i.e. all the prime factors and their multiplicities, as a dictionary. Test your function on several numbers, e.g. 17, 28, 131, 1573. Time your function on some larger prime and nonprime numbers, e.g. 15793 (nonprime), 15797 (prime), 526891377 (nonprime), 479001599 (prime). This may take some time. Do you have any ideas how to make your function more efficient?"
   ]
  },
  {
   "cell_type": "markdown",
   "id": "ac6cb927",
   "metadata": {},
   "source": [
    "**Comment**: To compare efficiency, here we will write two functions: ``factorize_1`` and ``factorize_2``. The only difference between them is that ``factorize_1`` uses a *for* loop and ``factorize_2`` uses a *while* loop from $2$ to $n/2$. \n",
    "\n",
    "Timing both functions, we see that ``factorize_2`` runs much faster than ``factorize_1`` on large nonprime numbers. This is due to the fact that the *for* loop defines the iterator only once using the initial (large) value of $n$, so even as $n$ decreases inside the loop, the iterator does not change. Therefore, ``factorize_1`` always runs $n/2-1$ iterations. On the other hand, the *while* loop in ``factorize_2`` compares the current values of $i$ and $n$ in every iteration, so it will run fewer iterations if $n$ is not a prime. \n",
    "\n",
    "On the other hand, ``factorize_2`` is slower than ``factorize_1`` on prime numbers. This is because both functions need to run $n/2-1$ iterations for a prime $n$ but the *while* loops is slower than the *for* loop."
   ]
  },
  {
   "cell_type": "code",
   "execution_count": 24,
   "id": "8a7eeaa7",
   "metadata": {},
   "outputs": [],
   "source": [
    "# write your code here\n",
    "\n",
    "def factorize_1(n):\n",
    "    factors = dict()\n",
    "    \n",
    "    \n",
    "    for i in range(2,int(n/2)+1):\n",
    "        if n%i == 0:\n",
    "            factors[i] = 1\n",
    "            n = n/i\n",
    "        while n%i == 0:\n",
    "            n = n/i\n",
    "            factors[i] += 1\n",
    "     \n",
    "    if bool(factors) is False: # checks if the dictrionary is empty\n",
    "        factors[n] = 1\n",
    "        \n",
    "    return factors\n",
    "\n",
    "\n",
    "def factorize_2(n):\n",
    "    factors = dict()\n",
    "    \n",
    "    i = 2\n",
    "    while i <= n/2+1:\n",
    "        if n%i == 0:\n",
    "            factors[i] = 1\n",
    "            n = n/i\n",
    "        while n%i == 0:\n",
    "            n = n/i\n",
    "            factors[i] += 1\n",
    "        i += 1\n",
    "     \n",
    "    if bool(factors) is False: # checks if the dictrionary is empty\n",
    "        factors[n] = 1\n",
    "        \n",
    "    return factors\n",
    "            "
   ]
  },
  {
   "cell_type": "code",
   "execution_count": 25,
   "id": "eb72c70b",
   "metadata": {},
   "outputs": [
    {
     "name": "stdout",
     "output_type": "stream",
     "text": [
      "912 µs ± 8.62 µs per loop (mean ± std. dev. of 7 runs, 1,000 loops each)\n"
     ]
    }
   ],
   "source": [
    "%%timeit\n",
    "\n",
    "factorize_1(15793) # nonprime number"
   ]
  },
  {
   "cell_type": "code",
   "execution_count": 26,
   "id": "39475f56",
   "metadata": {},
   "outputs": [
    {
     "name": "stdout",
     "output_type": "stream",
     "text": [
      "93.6 µs ± 398 ns per loop (mean ± std. dev. of 7 runs, 10,000 loops each)\n"
     ]
    }
   ],
   "source": [
    "%%timeit\n",
    "\n",
    "factorize_2(15793) # nonprime number"
   ]
  },
  {
   "cell_type": "code",
   "execution_count": 27,
   "id": "9e6f4f2a",
   "metadata": {},
   "outputs": [
    {
     "name": "stdout",
     "output_type": "stream",
     "text": [
      "896 µs ± 3.63 µs per loop (mean ± std. dev. of 7 runs, 1,000 loops each)\n"
     ]
    }
   ],
   "source": [
    "%%timeit\n",
    "\n",
    "factorize_1(15797) # prime number"
   ]
  },
  {
   "cell_type": "code",
   "execution_count": 28,
   "id": "1f7f4db5",
   "metadata": {},
   "outputs": [
    {
     "name": "stdout",
     "output_type": "stream",
     "text": [
      "1.51 ms ± 6.93 µs per loop (mean ± std. dev. of 7 runs, 1,000 loops each)\n"
     ]
    }
   ],
   "source": [
    "%%timeit\n",
    "\n",
    "factorize_2(15797) # prime number"
   ]
  },
  {
   "cell_type": "code",
   "execution_count": 29,
   "id": "92690e90",
   "metadata": {},
   "outputs": [
    {
     "name": "stdout",
     "output_type": "stream",
     "text": [
      "31.4 s ± 119 ms per loop (mean ± std. dev. of 7 runs, 1 loop each)\n"
     ]
    }
   ],
   "source": [
    "%%timeit\n",
    "\n",
    "factorize_1(526891377) # large nonprime number"
   ]
  },
  {
   "cell_type": "code",
   "execution_count": 30,
   "id": "3e21898d",
   "metadata": {},
   "outputs": [
    {
     "name": "stdout",
     "output_type": "stream",
     "text": [
      "563 µs ± 1.5 µs per loop (mean ± std. dev. of 7 runs, 1,000 loops each)\n"
     ]
    }
   ],
   "source": [
    "%%timeit\n",
    "\n",
    "factorize_2(526891377) # large nonprime number"
   ]
  },
  {
   "cell_type": "code",
   "execution_count": 31,
   "id": "0ffc7f54",
   "metadata": {},
   "outputs": [
    {
     "name": "stdout",
     "output_type": "stream",
     "text": [
      "28.4 s ± 119 ms per loop (mean ± std. dev. of 7 runs, 1 loop each)\n"
     ]
    }
   ],
   "source": [
    "%%timeit\n",
    "\n",
    "factorize_1(479001599) # large prime number"
   ]
  },
  {
   "cell_type": "code",
   "execution_count": 32,
   "id": "9b0340dc",
   "metadata": {},
   "outputs": [
    {
     "name": "stdout",
     "output_type": "stream",
     "text": [
      "47.3 s ± 145 ms per loop (mean ± std. dev. of 7 runs, 1 loop each)\n"
     ]
    }
   ],
   "source": [
    "%%timeit\n",
    "\n",
    "factorize_2(479001599) # large prime number"
   ]
  },
  {
   "cell_type": "markdown",
   "id": "96727ca4",
   "metadata": {},
   "source": [
    "# Exercise 3.2: Let's Make a Deal!\n",
    "\n",
    "\n",
    "\n",
    "<img src=\"https://upload.wikimedia.org/wikipedia/commons/thumb/3/3f/Monty_open_door.svg/2880px-Monty_open_door.svg.png\" alt=\"Monty Hall\" width=\"500\"/>\n",
    "\n",
    "**a)** Write a text-based game that simulates the famous [Monty Hall problem](https://en.wikipedia.org/wiki/Monty_Hall_problem): \n",
    "\n",
    "<br />\n",
    "<center>\n",
    "The player is on a show and given the choice of three doors: Behind one door is a car; behind the others, goats. The player picks a door, say No. 1, and the host, who knows what's behind the doors, opens another door, say No. 3, which has a goat. He then says to the player, \"Do you want to pick door No. 2?\" (i.e. switch the choice) The player answers \"Yes\" or \"No\". The host opens the door of choice and reveals if the player won or lost the game.\n",
    "\n",
    "</center>\n",
    "\n",
    "Use ``random.choice()`` function of ``random`` module to choose a random integer out of a set. Use in-built Python method ``input()`` to record player's responses. "
   ]
  },
  {
   "cell_type": "code",
   "execution_count": 11,
   "id": "fa58f926",
   "metadata": {},
   "outputs": [],
   "source": [
    "# write your code here\n",
    "import random\n",
    "\n",
    "\n",
    "def monthy_hall(start_choice=None, change_choice=None, verbose=True):\n",
    "    '''Simulation of the Monty Hall problem. \n",
    "    \n",
    "    start_choice: If None, the player is asked to choose a door at the start of the game (as input). If start_choice is in [1,2,3], it specifies the initial door choice.\n",
    "                  \n",
    "    change_choice: If None, the player is asked if they want to change the choice or not (as input). If change_choice is in ['yes','no'], it specifies whether the player changes the choice after the host opens a door.\n",
    "                  \n",
    "    verbose: If True, the conversation between the player and the host is printed. If False, the game runs silently.\n",
    "    \n",
    "    '''\n",
    "    \n",
    "    all_doors = set([1,2,3])\n",
    "    \n",
    "    car = random.choice(list(all_doors))\n",
    "    \n",
    "    if start_choice is None:\n",
    "        \n",
    "        if verbose is True:\n",
    "            print('HOST: Guess which door has the car behind! You can type 1, 2 or 3.\\n')\n",
    "            print(\"........\\n\")\n",
    "        choice = int(input())\n",
    "        while choice not in all_doors:\n",
    "            if verbose is True:\n",
    "                print('HOST: There is no such a door! Choose 1, 2 or 3.\\n')\n",
    "            choice = int(input())\n",
    "        if verbose is True:\n",
    "            print(f'HOST: You chose door {choice}!\\n')\n",
    "            print(\"........\\n\")\n",
    "    else:\n",
    "        choice = start_choice\n",
    "        \n",
    "    door_with_goats = all_doors - set([car])\n",
    "    door_to_open = random.choice(list(door_with_goats - set([choice])))\n",
    "    door_left = list(all_doors - set([choice]) - set([door_to_open])).pop()\n",
    "    \n",
    "    if verbose is True:\n",
    "        print(f\"*The host opens door {door_to_open}*\\nHOST: There is a goat behind door {door_to_open}!\\n\")\n",
    "        print(\"........\\n\")\n",
    "        \n",
    "    if change_choice is None:\n",
    "        if verbose is True:\n",
    "            print(f\"HOST: Do you want to change your choice from door {choice} to door {door_left}? You can type 'yes' or 'no'.\\n\")\n",
    "            print(\"........\\n\")\n",
    "        change = input()\n",
    "    else:\n",
    "        change = change_choice\n",
    "    \n",
    "    if change == 'yes':\n",
    "        choice = door_left\n",
    "            \n",
    "    if verbose is True:            \n",
    "        print(f\"HOST: Your final choice is door {choice}!\\n\")\n",
    "        print(\"........\\n\")\n",
    "    \n",
    "    if choice == car:\n",
    "        if verbose is True:\n",
    "            print(\"YOU WON!\")\n",
    "            print(\"........\\n\")\n",
    "        return 1\n",
    "    else:\n",
    "        if verbose is True:\n",
    "            print(\"YOU LOST!\")\n",
    "            print(\"........\\n\")\n",
    "        return 0\n",
    "    \n",
    "        \n",
    "    return start_choice\n"
   ]
  },
  {
   "cell_type": "markdown",
   "id": "da855e60",
   "metadata": {},
   "source": [
    "**Comment:** The text in '''...''' at the beginning of the function (right after the definition) is the documentation, which you can access as ```?monthy_hall``` or ```help(monthy_hall)```."
   ]
  },
  {
   "cell_type": "code",
   "execution_count": 13,
   "id": "b8241e6c",
   "metadata": {},
   "outputs": [],
   "source": [
    "?monthy_hall"
   ]
  },
  {
   "cell_type": "code",
   "execution_count": 34,
   "id": "cf58f2a4",
   "metadata": {},
   "outputs": [
    {
     "name": "stdout",
     "output_type": "stream",
     "text": [
      "HOST: Guess which door has the car behind! You can type 1, 2 or 3.\n",
      "\n",
      "........\n",
      "\n",
      "1\n",
      "HOST: You chose door 1!\n",
      "\n",
      "........\n",
      "\n",
      "*The host opens door 3*\n",
      "HOST: There is a goat behind door 3!\n",
      "\n",
      "........\n",
      "\n",
      "HOST: Do you want to change your choice from door 1 to door 2? You can type 'yes' or 'no'.\n",
      "\n",
      "........\n",
      "\n",
      "yes\n",
      "HOST: Your final choice is door 2!\n",
      "\n",
      "........\n",
      "\n",
      "YOU WON!\n",
      "........\n",
      "\n"
     ]
    },
    {
     "data": {
      "text/plain": [
       "1"
      ]
     },
     "execution_count": 34,
     "metadata": {},
     "output_type": "execute_result"
    }
   ],
   "source": [
    "monthy_hall()"
   ]
  },
  {
   "cell_type": "markdown",
   "id": "1d9d86ea",
   "metadata": {},
   "source": [
    "**b)** Run two following scenarios of the game automatically many times:\n",
    "  1. The player starts with a random choice and then decides **not** to change the choice. \n",
    "  1. The player starts with a random choice and then decides to change the choice. \n",
    "  \n",
    "  Estimate the probability of winning the game in both scenarios using your results. Which of the two strategies is better?"
   ]
  },
  {
   "cell_type": "code",
   "execution_count": 35,
   "id": "08069160",
   "metadata": {},
   "outputs": [],
   "source": [
    "# write your code here\n",
    "n = 10000\n",
    "\n",
    "scenario_1 = []\n",
    "scenario_2 = []\n",
    "\n",
    "for i in range(n):\n",
    "    scenario_1.append(monthy_hall(start_choice=random.choice([1,2,3]),\n",
    "                                  change_choice='no', verbose=False))\n",
    "    \n",
    "for i in range(n):\n",
    "    scenario_2.append(monthy_hall(start_choice=random.choice([1,2,3]),\n",
    "                                  change_choice='yes', verbose=False))"
   ]
  },
  {
   "cell_type": "code",
   "execution_count": 36,
   "id": "76b2f88b",
   "metadata": {},
   "outputs": [
    {
     "name": "stdout",
     "output_type": "stream",
     "text": [
      "The probability to win in the first scenario is 33.18%.\n",
      "The probability to win in the second scenario is 67.13%.\n"
     ]
    }
   ],
   "source": [
    "print(f\"The probability to win in the first scenario is {sum(scenario_1)/n*100:.2f}%.\")\n",
    "print(f\"The probability to win in the second scenario is {sum(scenario_2)/n*100:.2f}%.\")"
   ]
  },
  {
   "cell_type": "markdown",
   "id": "1065b979",
   "metadata": {},
   "source": [
    "# Data types in Python"
   ]
  },
  {
   "cell_type": "code",
   "execution_count": 37,
   "id": "29ae95a3",
   "metadata": {},
   "outputs": [],
   "source": [
    "a = 10 # python recognizes types automatically when you initialize a variable"
   ]
  },
  {
   "cell_type": "code",
   "execution_count": 38,
   "id": "3bca6e4f",
   "metadata": {},
   "outputs": [
    {
     "data": {
      "text/plain": [
       "int"
      ]
     },
     "execution_count": 38,
     "metadata": {},
     "output_type": "execute_result"
    }
   ],
   "source": [
    "type(a)"
   ]
  },
  {
   "cell_type": "code",
   "execution_count": 39,
   "id": "fe6235ad",
   "metadata": {},
   "outputs": [],
   "source": [
    "a = 10."
   ]
  },
  {
   "cell_type": "code",
   "execution_count": 40,
   "id": "a82dbbd5",
   "metadata": {},
   "outputs": [
    {
     "data": {
      "text/plain": [
       "float"
      ]
     },
     "execution_count": 40,
     "metadata": {},
     "output_type": "execute_result"
    }
   ],
   "source": [
    "type(a)"
   ]
  },
  {
   "cell_type": "code",
   "execution_count": 41,
   "id": "d0dc0736",
   "metadata": {},
   "outputs": [],
   "source": [
    "a = True"
   ]
  },
  {
   "cell_type": "code",
   "execution_count": 42,
   "id": "acf983b5",
   "metadata": {},
   "outputs": [
    {
     "data": {
      "text/plain": [
       "bool"
      ]
     },
     "execution_count": 42,
     "metadata": {},
     "output_type": "execute_result"
    }
   ],
   "source": [
    "type(a)"
   ]
  },
  {
   "cell_type": "code",
   "execution_count": 43,
   "id": "f36bebbc",
   "metadata": {},
   "outputs": [],
   "source": [
    "a = 'Hello world!'"
   ]
  },
  {
   "cell_type": "code",
   "execution_count": 44,
   "id": "0ac18509",
   "metadata": {},
   "outputs": [
    {
     "data": {
      "text/plain": [
       "str"
      ]
     },
     "execution_count": 44,
     "metadata": {},
     "output_type": "execute_result"
    }
   ],
   "source": [
    "type(a)"
   ]
  },
  {
   "cell_type": "code",
   "execution_count": 45,
   "id": "9695c275",
   "metadata": {},
   "outputs": [],
   "source": [
    "a = None"
   ]
  },
  {
   "cell_type": "code",
   "execution_count": 46,
   "id": "baebaf7a",
   "metadata": {},
   "outputs": [
    {
     "data": {
      "text/plain": [
       "NoneType"
      ]
     },
     "execution_count": 46,
     "metadata": {},
     "output_type": "execute_result"
    }
   ],
   "source": [
    "type(a)"
   ]
  },
  {
   "cell_type": "markdown",
   "id": "f6479a55",
   "metadata": {},
   "source": [
    "# Data structures (containers) in Python"
   ]
  },
  {
   "cell_type": "markdown",
   "id": "7d661f84",
   "metadata": {},
   "source": [
    "**tuple**"
   ]
  },
  {
   "cell_type": "code",
   "execution_count": 47,
   "id": "95ec0fa0",
   "metadata": {},
   "outputs": [],
   "source": [
    "a = (1,'cat',True) # tuple is a fixed-length sequence of any Python types"
   ]
  },
  {
   "cell_type": "code",
   "execution_count": 48,
   "id": "7519f476",
   "metadata": {},
   "outputs": [
    {
     "data": {
      "text/plain": [
       "tuple"
      ]
     },
     "execution_count": 48,
     "metadata": {},
     "output_type": "execute_result"
    }
   ],
   "source": [
    "type(a)"
   ]
  },
  {
   "cell_type": "code",
   "execution_count": 49,
   "id": "f8830bb2",
   "metadata": {},
   "outputs": [
    {
     "ename": "TypeError",
     "evalue": "'tuple' object does not support item assignment",
     "output_type": "error",
     "traceback": [
      "\u001b[0;31m---------------------------------------------------------------------------\u001b[0m",
      "\u001b[0;31mTypeError\u001b[0m                                 Traceback (most recent call last)",
      "Input \u001b[0;32mIn [49]\u001b[0m, in \u001b[0;36m<cell line: 1>\u001b[0;34m()\u001b[0m\n\u001b[0;32m----> 1\u001b[0m a[\u001b[38;5;241m1\u001b[39m] \u001b[38;5;241m=\u001b[39m \u001b[38;5;124m'\u001b[39m\u001b[38;5;124m1\u001b[39m\u001b[38;5;124m'\u001b[39m\n",
      "\u001b[0;31mTypeError\u001b[0m: 'tuple' object does not support item assignment"
     ]
    }
   ],
   "source": [
    "a[1] = '1' # tuple is immutable! (cannot be changed)"
   ]
  },
  {
   "cell_type": "code",
   "execution_count": 50,
   "id": "f4e2acd0",
   "metadata": {},
   "outputs": [
    {
     "data": {
      "text/plain": [
       "'cat'"
      ]
     },
     "execution_count": 50,
     "metadata": {},
     "output_type": "execute_result"
    }
   ],
   "source": [
    "a1, a2, a3 = a # tuple can be \"unpacked\"\n",
    "\n",
    "a2"
   ]
  },
  {
   "cell_type": "code",
   "execution_count": 51,
   "id": "64f334b7",
   "metadata": {},
   "outputs": [
    {
     "data": {
      "text/plain": [
       "1"
      ]
     },
     "execution_count": 51,
     "metadata": {},
     "output_type": "execute_result"
    }
   ],
   "source": [
    "(a1, a2, a3) = (a3, a1, a2) # using tuple, we can swap variables\n",
    "\n",
    "a2"
   ]
  },
  {
   "cell_type": "code",
   "execution_count": 52,
   "id": "758bf45f",
   "metadata": {},
   "outputs": [],
   "source": [
    "a1, a2, a3 = a3, a1, a2 # you can also omit brackets"
   ]
  },
  {
   "cell_type": "markdown",
   "id": "255cc937",
   "metadata": {},
   "source": [
    "**list**"
   ]
  },
  {
   "cell_type": "code",
   "execution_count": 53,
   "id": "d9bb1a1b",
   "metadata": {},
   "outputs": [],
   "source": [
    "a = [1,'cat',True] # list is also a fixed-length sequence of any Python types"
   ]
  },
  {
   "cell_type": "code",
   "execution_count": 54,
   "id": "d8e51fb1",
   "metadata": {},
   "outputs": [
    {
     "data": {
      "text/plain": [
       "list"
      ]
     },
     "execution_count": 54,
     "metadata": {},
     "output_type": "execute_result"
    }
   ],
   "source": [
    "type(a)"
   ]
  },
  {
   "cell_type": "code",
   "execution_count": 55,
   "id": "3563736a",
   "metadata": {},
   "outputs": [
    {
     "data": {
      "text/plain": [
       "[2, 'cat', True]"
      ]
     },
     "execution_count": 55,
     "metadata": {},
     "output_type": "execute_result"
    }
   ],
   "source": [
    "a[0] = 2 # lists are mutable! (can be changed)\n",
    "\n",
    "a"
   ]
  },
  {
   "cell_type": "code",
   "execution_count": 56,
   "id": "db62f3a2",
   "metadata": {},
   "outputs": [
    {
     "data": {
      "text/plain": [
       "[2, 'cat', True, 1]"
      ]
     },
     "execution_count": 56,
     "metadata": {},
     "output_type": "execute_result"
    }
   ],
   "source": [
    "a.append(1) # add an element\n",
    "\n",
    "a"
   ]
  },
  {
   "cell_type": "code",
   "execution_count": 57,
   "id": "90112a6b",
   "metadata": {},
   "outputs": [
    {
     "data": {
      "text/plain": [
       "[2, 'cat', True, 1, 2, 3, 4]"
      ]
     },
     "execution_count": 57,
     "metadata": {},
     "output_type": "execute_result"
    }
   ],
   "source": [
    "a.extend([2,3,4]) # add several elements \n",
    "\n",
    "a"
   ]
  },
  {
   "cell_type": "code",
   "execution_count": 58,
   "id": "d48ce8af",
   "metadata": {},
   "outputs": [
    {
     "data": {
      "text/plain": [
       "[2, 'cat', True, 1, 2, 3]"
      ]
     },
     "execution_count": 58,
     "metadata": {},
     "output_type": "execute_result"
    }
   ],
   "source": [
    "a.pop() # remove last element\n",
    "\n",
    "a"
   ]
  },
  {
   "cell_type": "code",
   "execution_count": 59,
   "id": "8c1b4881",
   "metadata": {},
   "outputs": [
    {
     "data": {
      "text/plain": [
       "[2, True, 1, 2, 3]"
      ]
     },
     "execution_count": 59,
     "metadata": {},
     "output_type": "execute_result"
    }
   ],
   "source": [
    "a.remove('cat') # remove element by value\n",
    "\n",
    "a"
   ]
  },
  {
   "cell_type": "code",
   "execution_count": 60,
   "id": "1184c7cf",
   "metadata": {},
   "outputs": [
    {
     "data": {
      "text/plain": [
       "True"
      ]
     },
     "execution_count": 60,
     "metadata": {},
     "output_type": "execute_result"
    }
   ],
   "source": [
    "2 in a #check membership"
   ]
  },
  {
   "cell_type": "code",
   "execution_count": 61,
   "id": "4c8cd1e1",
   "metadata": {},
   "outputs": [
    {
     "data": {
      "text/plain": [
       "False"
      ]
     },
     "execution_count": 61,
     "metadata": {},
     "output_type": "execute_result"
    }
   ],
   "source": [
    "'cat' in a"
   ]
  },
  {
   "cell_type": "code",
   "execution_count": 62,
   "id": "9d531b4b",
   "metadata": {},
   "outputs": [
    {
     "data": {
      "text/plain": [
       "[1, 2, 3, 4, 5, 8, 12]"
      ]
     },
     "execution_count": 62,
     "metadata": {},
     "output_type": "execute_result"
    }
   ],
   "source": [
    "a = [1,8,5,3,12,2,4]\n",
    "a.sort() #sort list in place\n",
    "\n",
    "a"
   ]
  },
  {
   "cell_type": "code",
   "execution_count": 63,
   "id": "fd662f67",
   "metadata": {},
   "outputs": [
    {
     "data": {
      "text/plain": [
       "[2, 3, 4, 5, 8]"
      ]
     },
     "execution_count": 63,
     "metadata": {},
     "output_type": "execute_result"
    }
   ],
   "source": [
    "a[1:6] #slicing"
   ]
  },
  {
   "cell_type": "code",
   "execution_count": 64,
   "id": "e3eb90e5",
   "metadata": {},
   "outputs": [
    {
     "data": {
      "text/plain": [
       "[2, 4, 8]"
      ]
     },
     "execution_count": 64,
     "metadata": {},
     "output_type": "execute_result"
    }
   ],
   "source": [
    "a[1:6:2] #slicing with step 2"
   ]
  },
  {
   "cell_type": "code",
   "execution_count": 65,
   "id": "cf80ebf6",
   "metadata": {},
   "outputs": [
    {
     "data": {
      "text/plain": [
       "[5, 8]"
      ]
     },
     "execution_count": 65,
     "metadata": {},
     "output_type": "execute_result"
    }
   ],
   "source": [
    "a[-3:-1]"
   ]
  },
  {
   "cell_type": "code",
   "execution_count": 66,
   "id": "dcac609f",
   "metadata": {},
   "outputs": [
    {
     "data": {
      "text/plain": [
       "[12, 8, 5, 4, 3, 2, 1]"
      ]
     },
     "execution_count": 66,
     "metadata": {},
     "output_type": "execute_result"
    }
   ],
   "source": [
    "a[::-1] #reverse array\n",
    "\n",
    "# the same indexing and slicing will also work for tuple, str \n",
    "# or other sequence types"
   ]
  },
  {
   "cell_type": "markdown",
   "id": "c2fe614f",
   "metadata": {},
   "source": [
    "**dictionary**"
   ]
  },
  {
   "cell_type": "code",
   "execution_count": 67,
   "id": "4cc2d9fe",
   "metadata": {},
   "outputs": [],
   "source": [
    "a = {'key1': 'val1',  # dictionary is a set of key-value pairs\n",
    "     'key2': 2 ,\n",
    "     1: 3}"
   ]
  },
  {
   "cell_type": "code",
   "execution_count": 68,
   "id": "2541f590",
   "metadata": {},
   "outputs": [
    {
     "data": {
      "text/plain": [
       "dict"
      ]
     },
     "execution_count": 68,
     "metadata": {},
     "output_type": "execute_result"
    }
   ],
   "source": [
    "type(a)"
   ]
  },
  {
   "cell_type": "code",
   "execution_count": 69,
   "id": "7b35f387",
   "metadata": {},
   "outputs": [
    {
     "data": {
      "text/plain": [
       "dict_keys(['key1', 'key2', 1])"
      ]
     },
     "execution_count": 69,
     "metadata": {},
     "output_type": "execute_result"
    }
   ],
   "source": [
    "a.keys() # extract keys"
   ]
  },
  {
   "cell_type": "code",
   "execution_count": 70,
   "id": "810ec142",
   "metadata": {},
   "outputs": [
    {
     "data": {
      "text/plain": [
       "dict_values(['val1', 2, 3])"
      ]
     },
     "execution_count": 70,
     "metadata": {},
     "output_type": "execute_result"
    }
   ],
   "source": [
    "a.values() # extract values"
   ]
  },
  {
   "cell_type": "code",
   "execution_count": 71,
   "id": "22888b05",
   "metadata": {},
   "outputs": [
    {
     "data": {
      "text/plain": [
       "'val1'"
      ]
     },
     "execution_count": 71,
     "metadata": {},
     "output_type": "execute_result"
    }
   ],
   "source": [
    "a['key1'] # doctionary can be indexed by keys\n",
    "          # note that dictionaries are otherwise unordered"
   ]
  },
  {
   "cell_type": "code",
   "execution_count": 72,
   "id": "de446b81",
   "metadata": {},
   "outputs": [
    {
     "ename": "KeyError",
     "evalue": "2",
     "output_type": "error",
     "traceback": [
      "\u001b[0;31m---------------------------------------------------------------------------\u001b[0m",
      "\u001b[0;31mKeyError\u001b[0m                                  Traceback (most recent call last)",
      "Input \u001b[0;32mIn [72]\u001b[0m, in \u001b[0;36m<cell line: 1>\u001b[0;34m()\u001b[0m\n\u001b[0;32m----> 1\u001b[0m \u001b[43ma\u001b[49m\u001b[43m[\u001b[49m\u001b[38;5;241;43m2\u001b[39;49m\u001b[43m]\u001b[49m\n",
      "\u001b[0;31mKeyError\u001b[0m: 2"
     ]
    }
   ],
   "source": [
    "a[2]"
   ]
  },
  {
   "cell_type": "code",
   "execution_count": 73,
   "id": "b24907d0",
   "metadata": {},
   "outputs": [
    {
     "data": {
      "text/plain": [
       "{'key1': 'val1', 'key2': 2, 1: 3, 2: 'new_val'}"
      ]
     },
     "execution_count": 73,
     "metadata": {},
     "output_type": "execute_result"
    }
   ],
   "source": [
    "a[2] = 'new_val' # you can a new key-value pair like this\n",
    "\n",
    "a"
   ]
  },
  {
   "cell_type": "code",
   "execution_count": 74,
   "id": "e9542c23",
   "metadata": {},
   "outputs": [
    {
     "data": {
      "text/plain": [
       "True"
      ]
     },
     "execution_count": 74,
     "metadata": {},
     "output_type": "execute_result"
    }
   ],
   "source": [
    "'key1' in a # you can check whether a key is in the dictionary"
   ]
  },
  {
   "cell_type": "markdown",
   "id": "b3aea7b2",
   "metadata": {},
   "source": [
    "**set**"
   ]
  },
  {
   "cell_type": "code",
   "execution_count": 75,
   "id": "2be40810",
   "metadata": {},
   "outputs": [],
   "source": [
    "a = set([0,1,2,2,2,3,3,4,5]) # set is an unordered and contains unique elements"
   ]
  },
  {
   "cell_type": "code",
   "execution_count": 76,
   "id": "06b79cdb",
   "metadata": {},
   "outputs": [
    {
     "data": {
      "text/plain": [
       "set"
      ]
     },
     "execution_count": 76,
     "metadata": {},
     "output_type": "execute_result"
    }
   ],
   "source": [
    "type(a)"
   ]
  },
  {
   "cell_type": "code",
   "execution_count": 77,
   "id": "5c0393c5",
   "metadata": {},
   "outputs": [
    {
     "data": {
      "text/plain": [
       "{0, 1, 2, 3, 4, 5}"
      ]
     },
     "execution_count": 77,
     "metadata": {},
     "output_type": "execute_result"
    }
   ],
   "source": [
    "a"
   ]
  },
  {
   "cell_type": "code",
   "execution_count": 78,
   "id": "377effb8",
   "metadata": {},
   "outputs": [
    {
     "ename": "TypeError",
     "evalue": "'set' object is not subscriptable",
     "output_type": "error",
     "traceback": [
      "\u001b[0;31m---------------------------------------------------------------------------\u001b[0m",
      "\u001b[0;31mTypeError\u001b[0m                                 Traceback (most recent call last)",
      "Input \u001b[0;32mIn [78]\u001b[0m, in \u001b[0;36m<cell line: 1>\u001b[0;34m()\u001b[0m\n\u001b[0;32m----> 1\u001b[0m \u001b[43ma\u001b[49m\u001b[43m[\u001b[49m\u001b[38;5;241;43m1\u001b[39;49m\u001b[43m]\u001b[49m\n",
      "\u001b[0;31mTypeError\u001b[0m: 'set' object is not subscriptable"
     ]
    }
   ],
   "source": [
    "a[1] # since sets are unordered, you cannot index them!"
   ]
  },
  {
   "cell_type": "code",
   "execution_count": 79,
   "id": "ded1f661",
   "metadata": {},
   "outputs": [
    {
     "data": {
      "text/plain": [
       "True"
      ]
     },
     "execution_count": 79,
     "metadata": {},
     "output_type": "execute_result"
    }
   ],
   "source": [
    "3 in a # check if element is in the set"
   ]
  },
  {
   "cell_type": "code",
   "execution_count": 80,
   "id": "8aa77796",
   "metadata": {},
   "outputs": [],
   "source": [
    "b = set([-3,-2,-1,0])"
   ]
  },
  {
   "cell_type": "code",
   "execution_count": 81,
   "id": "0565b86a",
   "metadata": {},
   "outputs": [
    {
     "data": {
      "text/plain": [
       "{0}"
      ]
     },
     "execution_count": 81,
     "metadata": {},
     "output_type": "execute_result"
    }
   ],
   "source": [
    "a & b # set intersection"
   ]
  },
  {
   "cell_type": "code",
   "execution_count": 82,
   "id": "1c87ea84",
   "metadata": {},
   "outputs": [
    {
     "data": {
      "text/plain": [
       "{-3, -2, -1, 0, 1, 2, 3, 4, 5}"
      ]
     },
     "execution_count": 82,
     "metadata": {},
     "output_type": "execute_result"
    }
   ],
   "source": [
    "a | b # set union"
   ]
  },
  {
   "cell_type": "code",
   "execution_count": 83,
   "id": "6c80267b",
   "metadata": {},
   "outputs": [
    {
     "data": {
      "text/plain": [
       "{1, 2, 3, 4, 5}"
      ]
     },
     "execution_count": 83,
     "metadata": {},
     "output_type": "execute_result"
    }
   ],
   "source": [
    "a - b # set difference"
   ]
  },
  {
   "cell_type": "code",
   "execution_count": 84,
   "id": "9c8ea7b0",
   "metadata": {},
   "outputs": [
    {
     "data": {
      "text/plain": [
       "{-3, -2, -1, 1, 2, 3, 4, 5}"
      ]
     },
     "execution_count": 84,
     "metadata": {},
     "output_type": "execute_result"
    }
   ],
   "source": [
    "a ^ b # xor"
   ]
  },
  {
   "cell_type": "markdown",
   "id": "eb77a988",
   "metadata": {},
   "source": [
    "# If/else operators"
   ]
  },
  {
   "cell_type": "code",
   "execution_count": 85,
   "id": "93b335ca",
   "metadata": {},
   "outputs": [
    {
     "name": "stdout",
     "output_type": "stream",
     "text": [
      "hello\n"
     ]
    }
   ],
   "source": [
    "a = [1,2,3]\n",
    "\n",
    "if 2 in a:\n",
    "    print('hello')\n",
    "\n",
    "if 5 in a:\n",
    "    print('hello')"
   ]
  },
  {
   "cell_type": "code",
   "execution_count": 86,
   "id": "68f9cace",
   "metadata": {},
   "outputs": [
    {
     "name": "stdout",
     "output_type": "stream",
     "text": [
      "hello\n"
     ]
    }
   ],
   "source": [
    "if (2 in a) and (3 in a):\n",
    "    print('hello')"
   ]
  },
  {
   "cell_type": "code",
   "execution_count": 87,
   "id": "b0afdbdf",
   "metadata": {},
   "outputs": [],
   "source": [
    "if not((2 in a) and (3 in a)):\n",
    "    print('hello')"
   ]
  },
  {
   "cell_type": "code",
   "execution_count": 88,
   "id": "b29dddd2",
   "metadata": {},
   "outputs": [
    {
     "name": "stdout",
     "output_type": "stream",
     "text": [
      "hello\n"
     ]
    }
   ],
   "source": [
    "if (5 in a) or (3 in a):\n",
    "    print('hello')"
   ]
  },
  {
   "cell_type": "markdown",
   "id": "5ecdee0e",
   "metadata": {},
   "source": [
    "# Cycles and iterators"
   ]
  },
  {
   "cell_type": "code",
   "execution_count": 89,
   "id": "3421f9de",
   "metadata": {},
   "outputs": [
    {
     "name": "stdout",
     "output_type": "stream",
     "text": [
      "1\n",
      "2\n",
      "5\n"
     ]
    }
   ],
   "source": [
    "for i in [1,2,5]: # Python cycles can be over any iterable object (e.g. list, tuple, dictionary, string)\n",
    "    print(i)"
   ]
  },
  {
   "cell_type": "markdown",
   "id": "2509382c",
   "metadata": {},
   "source": [
    "Technically, an **iterable** is any object that has method ``__iter__()``, which creates an **iterator**. Iterator is an object that has method ``__next__()``, which returns the next element of the iterable object or ``StopIteration`` exception when no more elements are available."
   ]
  },
  {
   "cell_type": "code",
   "execution_count": 90,
   "id": "351272b7",
   "metadata": {},
   "outputs": [],
   "source": [
    "a = [1,2,3]\n",
    "\n",
    "a_iterator = a.__iter__()"
   ]
  },
  {
   "cell_type": "code",
   "execution_count": 91,
   "id": "bd401b91",
   "metadata": {},
   "outputs": [
    {
     "data": {
      "text/plain": [
       "1"
      ]
     },
     "execution_count": 91,
     "metadata": {},
     "output_type": "execute_result"
    }
   ],
   "source": [
    "a_iterator.__next__()"
   ]
  },
  {
   "cell_type": "code",
   "execution_count": 92,
   "id": "3b798eda",
   "metadata": {},
   "outputs": [
    {
     "data": {
      "text/plain": [
       "range"
      ]
     },
     "execution_count": 92,
     "metadata": {},
     "output_type": "execute_result"
    }
   ],
   "source": [
    "a = range(1,10,2) # range is an iterable that only stores start, end and step values\n",
    "\n",
    "type(a)"
   ]
  },
  {
   "cell_type": "code",
   "execution_count": 93,
   "id": "abca6647",
   "metadata": {},
   "outputs": [
    {
     "data": {
      "text/plain": [
       "[1, 3, 5, 7, 9]"
      ]
     },
     "execution_count": 93,
     "metadata": {},
     "output_type": "execute_result"
    }
   ],
   "source": [
    "list(a)"
   ]
  },
  {
   "cell_type": "code",
   "execution_count": 94,
   "id": "607049d2",
   "metadata": {},
   "outputs": [
    {
     "name": "stdout",
     "output_type": "stream",
     "text": [
      "0\n",
      "1\n",
      "2\n",
      "3\n",
      "4\n"
     ]
    }
   ],
   "source": [
    "for i in range(5):\n",
    "    print(i)"
   ]
  },
  {
   "cell_type": "code",
   "execution_count": 95,
   "id": "729539e7",
   "metadata": {},
   "outputs": [
    {
     "name": "stdout",
     "output_type": "stream",
     "text": [
      "b\n",
      "a\n",
      "n\n",
      "a\n",
      "n\n",
      "a\n"
     ]
    }
   ],
   "source": [
    "for i in 'banana': #string is also an iterable\n",
    "    print(i)"
   ]
  },
  {
   "cell_type": "code",
   "execution_count": 96,
   "id": "a12be32d",
   "metadata": {},
   "outputs": [
    {
     "data": {
      "text/plain": [
       "[(1, 3), (2, 2), (3, 1)]"
      ]
     },
     "execution_count": 96,
     "metadata": {},
     "output_type": "execute_result"
    }
   ],
   "source": [
    "list(zip([1,2,3],[3,2,1])) # built-in zip function "
   ]
  },
  {
   "cell_type": "code",
   "execution_count": 97,
   "id": "2351d169",
   "metadata": {},
   "outputs": [
    {
     "name": "stdout",
     "output_type": "stream",
     "text": [
      "1 3 2\n",
      "2 2 1\n",
      "3 1 3\n"
     ]
    }
   ],
   "source": [
    "for i,j,k in zip([1,2,3],[3,2,1],[2,1,3]):\n",
    "    print(i,j,k)"
   ]
  },
  {
   "cell_type": "code",
   "execution_count": 98,
   "id": "872c734c",
   "metadata": {},
   "outputs": [
    {
     "data": {
      "text/plain": [
       "[(0, 'a'), (1, 'b'), (2, 'c')]"
      ]
     },
     "execution_count": 98,
     "metadata": {},
     "output_type": "execute_result"
    }
   ],
   "source": [
    "list(enumerate(['a','b','c'])) # built-in enumerate function"
   ]
  },
  {
   "cell_type": "code",
   "execution_count": 99,
   "id": "63ceb49f",
   "metadata": {},
   "outputs": [
    {
     "name": "stdout",
     "output_type": "stream",
     "text": [
      "0 a\n",
      "1 b\n",
      "2 c\n"
     ]
    }
   ],
   "source": [
    "for i,val in enumerate(['a','b','c']):\n",
    "    print(i,val)"
   ]
  },
  {
   "cell_type": "code",
   "execution_count": null,
   "id": "ef9e22bb",
   "metadata": {},
   "outputs": [],
   "source": []
  }
 ],
 "metadata": {
  "kernelspec": {
   "display_name": "Python 3 (ipykernel)",
   "language": "python",
   "name": "python3"
  },
  "language_info": {
   "codemirror_mode": {
    "name": "ipython",
    "version": 3
   },
   "file_extension": ".py",
   "mimetype": "text/x-python",
   "name": "python",
   "nbconvert_exporter": "python",
   "pygments_lexer": "ipython3",
   "version": "3.9.12"
  }
 },
 "nbformat": 4,
 "nbformat_minor": 5
}
