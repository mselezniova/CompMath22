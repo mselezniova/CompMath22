{
 "cells": [
  {
   "cell_type": "markdown",
   "id": "e85a8ef8",
   "metadata": {},
   "source": [
    "# Exercise 3.1: Prime numbers\n",
    "\n",
    "**a)** Write a function that tests if a number is prime."
   ]
  },
  {
   "cell_type": "code",
   "execution_count": null,
   "id": "1f8cfbbe",
   "metadata": {},
   "outputs": [],
   "source": [
    "# write your code here\n",
    "\n",
    "\n"
   ]
  },
  {
   "cell_type": "markdown",
   "id": "a761f5fa",
   "metadata": {},
   "source": [
    "**b)** To assess the efficiency of your implementationt, it is useful to measure how much time your code takes to run. In Jupyter, you can do it using [IPython magic](https://ipython.readthedocs.io/en/stable/interactive/magics.html) ``%%timeit``. This command will run the cell several times and give you the average time that your code took. Choose several large numbers, e.g. 479001599 and 526891377, and check how much it takes to check if these numbers are prime using your function from task (a). Do you have any ideas how to make your function more efficient?"
   ]
  },
  {
   "cell_type": "code",
   "execution_count": null,
   "id": "31a98174",
   "metadata": {},
   "outputs": [],
   "source": [
    "%%timeit\n",
    "\n",
    "# write your code here\n",
    "\n",
    "\n"
   ]
  },
  {
   "cell_type": "markdown",
   "id": "6f5d65e1",
   "metadata": {},
   "source": [
    "**c)** Write a function that returns *factorization* of an integer $n$, i.e. all the prime factors and their multiplicities, as a dictionary. Test your function on several numbers, e.g. 17, 28, 131, 1573. Time your function on large numbers, e.g. 526891377 (this may take some time). Do you have any ideas how to make your function more efficient?"
   ]
  },
  {
   "cell_type": "code",
   "execution_count": null,
   "id": "8a7eeaa7",
   "metadata": {},
   "outputs": [],
   "source": [
    "# write your code here\n",
    "\n",
    "\n"
   ]
  },
  {
   "cell_type": "markdown",
   "id": "96727ca4",
   "metadata": {},
   "source": [
    "# Exercise 3.2: Let's Make a Deal!\n",
    "\n",
    "\n",
    "\n",
    "<img src=\"https://upload.wikimedia.org/wikipedia/commons/thumb/3/3f/Monty_open_door.svg/2880px-Monty_open_door.svg.png\" alt=\"Monty Hall\" width=\"500\"/>\n",
    "\n",
    "**a)** Write a text-based game that simulates the famous [Monty Hall problem](https://en.wikipedia.org/wiki/Monty_Hall_problem): \n",
    "\n",
    "<br />\n",
    "<center>\n",
    "The player is on a show and given the choice of three doors: Behind one door is a car; behind the others, goats. The player picks a door, say No. 1, and the host, who knows what's behind the doors, opens another door, say No. 3, which has a goat. He then says to the player, \"Do you want to pick door No. 2?\" (i.e. switch the choice) The player answers \"Yes\" or \"No\". The host opens the door of choice and reveals if the player won or lost the game.\n",
    "\n",
    "</center>\n",
    "\n",
    "Use ``random.choice()`` function of ``random`` module to choose a random integer out of a set. Use in-built Python method ``input()`` to record player's responses. "
   ]
  },
  {
   "cell_type": "code",
   "execution_count": null,
   "id": "fa58f926",
   "metadata": {},
   "outputs": [],
   "source": [
    "# write your code here\n",
    "\n"
   ]
  },
  {
   "cell_type": "markdown",
   "id": "1d9d86ea",
   "metadata": {},
   "source": [
    "**b)** Run two following scenarios of the game automatically many times:\n",
    "  1. The player starts with a random choice and then decides **not** to change the choice. \n",
    "  1. The player starts with a random choice and then decides to change the choice. \n",
    "  \n",
    "  Estimate the probability of winning the game in both scenarios using your results. Which of the two strategies is better?"
   ]
  },
  {
   "cell_type": "code",
   "execution_count": null,
   "id": "08069160",
   "metadata": {},
   "outputs": [],
   "source": [
    "# write your code here\n",
    "\n",
    "\n"
   ]
  },
  {
   "cell_type": "markdown",
   "id": "1065b979",
   "metadata": {},
   "source": [
    "# Data types in Python"
   ]
  },
  {
   "cell_type": "code",
   "execution_count": null,
   "id": "29ae95a3",
   "metadata": {},
   "outputs": [],
   "source": [
    "a = 10 # python recognizes types automatically when you initialize a variable"
   ]
  },
  {
   "cell_type": "code",
   "execution_count": null,
   "id": "3bca6e4f",
   "metadata": {},
   "outputs": [],
   "source": [
    "type(a)"
   ]
  },
  {
   "cell_type": "code",
   "execution_count": null,
   "id": "fe6235ad",
   "metadata": {},
   "outputs": [],
   "source": [
    "a = 10."
   ]
  },
  {
   "cell_type": "code",
   "execution_count": null,
   "id": "a82dbbd5",
   "metadata": {},
   "outputs": [],
   "source": [
    "type(a)"
   ]
  },
  {
   "cell_type": "code",
   "execution_count": null,
   "id": "d0dc0736",
   "metadata": {},
   "outputs": [],
   "source": [
    "a = True"
   ]
  },
  {
   "cell_type": "code",
   "execution_count": null,
   "id": "acf983b5",
   "metadata": {},
   "outputs": [],
   "source": [
    "type(a)"
   ]
  },
  {
   "cell_type": "code",
   "execution_count": null,
   "id": "f36bebbc",
   "metadata": {},
   "outputs": [],
   "source": [
    "a = 'Hello world!'"
   ]
  },
  {
   "cell_type": "code",
   "execution_count": null,
   "id": "0ac18509",
   "metadata": {},
   "outputs": [],
   "source": [
    "type(a)"
   ]
  },
  {
   "cell_type": "code",
   "execution_count": null,
   "id": "9695c275",
   "metadata": {},
   "outputs": [],
   "source": [
    "a = None"
   ]
  },
  {
   "cell_type": "code",
   "execution_count": null,
   "id": "baebaf7a",
   "metadata": {},
   "outputs": [],
   "source": [
    "type(a)"
   ]
  },
  {
   "cell_type": "markdown",
   "id": "f6479a55",
   "metadata": {},
   "source": [
    "# Data structures (containers) in Python"
   ]
  },
  {
   "cell_type": "markdown",
   "id": "7d661f84",
   "metadata": {},
   "source": [
    "**tuple**"
   ]
  },
  {
   "cell_type": "code",
   "execution_count": null,
   "id": "95ec0fa0",
   "metadata": {},
   "outputs": [],
   "source": [
    "a = (1,'cat',True) # tuple is a fixed-length sequence of any Python types"
   ]
  },
  {
   "cell_type": "code",
   "execution_count": null,
   "id": "7519f476",
   "metadata": {},
   "outputs": [],
   "source": [
    "type(a)"
   ]
  },
  {
   "cell_type": "code",
   "execution_count": null,
   "id": "f8830bb2",
   "metadata": {},
   "outputs": [],
   "source": [
    "a[1] = '1' # tuple is immutable! (cannot be changed)"
   ]
  },
  {
   "cell_type": "code",
   "execution_count": null,
   "id": "f4e2acd0",
   "metadata": {},
   "outputs": [],
   "source": [
    "a1, a2, a3 = a # tuple can be \"unpacked\"\n",
    "\n",
    "a2"
   ]
  },
  {
   "cell_type": "code",
   "execution_count": null,
   "id": "64f334b7",
   "metadata": {},
   "outputs": [],
   "source": [
    "(a1, a2, a3) = (a3, a1, a2) # using tuple, we can swap variables\n",
    "\n",
    "a2"
   ]
  },
  {
   "cell_type": "code",
   "execution_count": null,
   "id": "758bf45f",
   "metadata": {},
   "outputs": [],
   "source": [
    "a1, a2, a3 = a3, a1, a2 # you can also omit brackets"
   ]
  },
  {
   "cell_type": "markdown",
   "id": "255cc937",
   "metadata": {},
   "source": [
    "**list**"
   ]
  },
  {
   "cell_type": "code",
   "execution_count": null,
   "id": "d9bb1a1b",
   "metadata": {},
   "outputs": [],
   "source": [
    "a = [1,'cat',True] # list is also a fixed-length sequence of any Python types"
   ]
  },
  {
   "cell_type": "code",
   "execution_count": null,
   "id": "d8e51fb1",
   "metadata": {},
   "outputs": [],
   "source": [
    "type(a)"
   ]
  },
  {
   "cell_type": "code",
   "execution_count": null,
   "id": "3563736a",
   "metadata": {},
   "outputs": [],
   "source": [
    "a[0] = 2 # lists are mutable! (can be changed)\n",
    "\n",
    "a"
   ]
  },
  {
   "cell_type": "code",
   "execution_count": null,
   "id": "db62f3a2",
   "metadata": {},
   "outputs": [],
   "source": [
    "a.append(1) # add an element\n",
    "\n",
    "a"
   ]
  },
  {
   "cell_type": "code",
   "execution_count": null,
   "id": "90112a6b",
   "metadata": {},
   "outputs": [],
   "source": [
    "a.extend([2,3,4]) # add several elements \n",
    "\n",
    "a"
   ]
  },
  {
   "cell_type": "code",
   "execution_count": null,
   "id": "d48ce8af",
   "metadata": {},
   "outputs": [],
   "source": [
    "a.pop() # remove last element\n",
    "\n",
    "a"
   ]
  },
  {
   "cell_type": "code",
   "execution_count": null,
   "id": "8c1b4881",
   "metadata": {},
   "outputs": [],
   "source": [
    "a.remove('cat') # remove element by value\n",
    "\n",
    "a"
   ]
  },
  {
   "cell_type": "code",
   "execution_count": null,
   "id": "1184c7cf",
   "metadata": {},
   "outputs": [],
   "source": [
    "2 in a #check membership"
   ]
  },
  {
   "cell_type": "code",
   "execution_count": null,
   "id": "4c8cd1e1",
   "metadata": {},
   "outputs": [],
   "source": [
    "'cat' in a"
   ]
  },
  {
   "cell_type": "code",
   "execution_count": null,
   "id": "9d531b4b",
   "metadata": {},
   "outputs": [],
   "source": [
    "a = [1,8,5,3,12,2,4]\n",
    "a.sort() #sort list in place\n",
    "\n",
    "a"
   ]
  },
  {
   "cell_type": "code",
   "execution_count": null,
   "id": "fd662f67",
   "metadata": {},
   "outputs": [],
   "source": [
    "a[1:6] #slicing"
   ]
  },
  {
   "cell_type": "code",
   "execution_count": null,
   "id": "e3eb90e5",
   "metadata": {},
   "outputs": [],
   "source": [
    "a[1:6:2] #slicing with step 2"
   ]
  },
  {
   "cell_type": "code",
   "execution_count": null,
   "id": "cf80ebf6",
   "metadata": {},
   "outputs": [],
   "source": [
    "a[-3:-1]"
   ]
  },
  {
   "cell_type": "code",
   "execution_count": null,
   "id": "dcac609f",
   "metadata": {},
   "outputs": [],
   "source": [
    "a[::-1] #reverse array\n",
    "\n",
    "# the same indexing and slicing will also work for tuple, str \n",
    "# or other sequence types"
   ]
  },
  {
   "cell_type": "markdown",
   "id": "c2fe614f",
   "metadata": {},
   "source": [
    "**dictionary**"
   ]
  },
  {
   "cell_type": "code",
   "execution_count": null,
   "id": "4cc2d9fe",
   "metadata": {},
   "outputs": [],
   "source": [
    "a = {'key1': 'val1',  # dictionary is a set of key-value pairs\n",
    "     'key2': 2 ,\n",
    "     1: 3}"
   ]
  },
  {
   "cell_type": "code",
   "execution_count": null,
   "id": "2541f590",
   "metadata": {},
   "outputs": [],
   "source": [
    "type(a)"
   ]
  },
  {
   "cell_type": "code",
   "execution_count": null,
   "id": "7b35f387",
   "metadata": {},
   "outputs": [],
   "source": [
    "a.keys() # extract keys"
   ]
  },
  {
   "cell_type": "code",
   "execution_count": null,
   "id": "810ec142",
   "metadata": {},
   "outputs": [],
   "source": [
    "a.values() # extract values"
   ]
  },
  {
   "cell_type": "code",
   "execution_count": null,
   "id": "22888b05",
   "metadata": {},
   "outputs": [],
   "source": [
    "a['key1'] # doctionary can be indexed by keys\n",
    "          # note that dictionaries are otherwise unordered"
   ]
  },
  {
   "cell_type": "code",
   "execution_count": null,
   "id": "de446b81",
   "metadata": {},
   "outputs": [],
   "source": [
    "a[2]"
   ]
  },
  {
   "cell_type": "code",
   "execution_count": null,
   "id": "b24907d0",
   "metadata": {},
   "outputs": [],
   "source": [
    "a[2] = 'new_val' # you can a new key-value pair like this\n",
    "\n",
    "a"
   ]
  },
  {
   "cell_type": "code",
   "execution_count": null,
   "id": "e9542c23",
   "metadata": {},
   "outputs": [],
   "source": [
    "'key1' in a # you can check whether a key is in the dictionary"
   ]
  },
  {
   "cell_type": "markdown",
   "id": "b3aea7b2",
   "metadata": {},
   "source": [
    "**set**"
   ]
  },
  {
   "cell_type": "code",
   "execution_count": null,
   "id": "2be40810",
   "metadata": {},
   "outputs": [],
   "source": [
    "a = set([0,1,2,2,2,3,3,4,5]) # set is an unordered and contains unique elements"
   ]
  },
  {
   "cell_type": "code",
   "execution_count": null,
   "id": "06b79cdb",
   "metadata": {},
   "outputs": [],
   "source": [
    "type(a)"
   ]
  },
  {
   "cell_type": "code",
   "execution_count": null,
   "id": "5c0393c5",
   "metadata": {},
   "outputs": [],
   "source": [
    "a"
   ]
  },
  {
   "cell_type": "code",
   "execution_count": null,
   "id": "377effb8",
   "metadata": {},
   "outputs": [],
   "source": [
    "a[1] # since sets are unordered, you cannot index them!"
   ]
  },
  {
   "cell_type": "code",
   "execution_count": null,
   "id": "ded1f661",
   "metadata": {},
   "outputs": [],
   "source": [
    "3 in a # check if element is in the set"
   ]
  },
  {
   "cell_type": "code",
   "execution_count": null,
   "id": "8aa77796",
   "metadata": {},
   "outputs": [],
   "source": [
    "b = set([-3,-2,-1,0])"
   ]
  },
  {
   "cell_type": "code",
   "execution_count": null,
   "id": "0565b86a",
   "metadata": {},
   "outputs": [],
   "source": [
    "a & b # set intersection"
   ]
  },
  {
   "cell_type": "code",
   "execution_count": null,
   "id": "1c87ea84",
   "metadata": {},
   "outputs": [],
   "source": [
    "a | b # set union"
   ]
  },
  {
   "cell_type": "code",
   "execution_count": null,
   "id": "6c80267b",
   "metadata": {},
   "outputs": [],
   "source": [
    "a - b # set difference"
   ]
  },
  {
   "cell_type": "code",
   "execution_count": null,
   "id": "9c8ea7b0",
   "metadata": {},
   "outputs": [],
   "source": [
    "a ^ b # xor"
   ]
  },
  {
   "cell_type": "markdown",
   "id": "eb77a988",
   "metadata": {},
   "source": [
    "# If/else operators"
   ]
  },
  {
   "cell_type": "code",
   "execution_count": null,
   "id": "93b335ca",
   "metadata": {},
   "outputs": [],
   "source": [
    "a = [1,2,3]\n",
    "\n",
    "if 2 in a:\n",
    "    print('hello')\n",
    "\n",
    "if 5 in a:\n",
    "    print('hello')"
   ]
  },
  {
   "cell_type": "code",
   "execution_count": null,
   "id": "68f9cace",
   "metadata": {},
   "outputs": [],
   "source": [
    "if (2 in a) and (3 in a):\n",
    "    print('hello')"
   ]
  },
  {
   "cell_type": "code",
   "execution_count": null,
   "id": "b0afdbdf",
   "metadata": {},
   "outputs": [],
   "source": [
    "if not((2 in a) and (3 in a)):\n",
    "    print('hello')"
   ]
  },
  {
   "cell_type": "code",
   "execution_count": null,
   "id": "b29dddd2",
   "metadata": {},
   "outputs": [],
   "source": [
    "if (5 in a) or (3 in a):\n",
    "    print('hello')"
   ]
  },
  {
   "cell_type": "markdown",
   "id": "5ecdee0e",
   "metadata": {},
   "source": [
    "# Cycles and iterators"
   ]
  },
  {
   "cell_type": "code",
   "execution_count": null,
   "id": "3421f9de",
   "metadata": {},
   "outputs": [],
   "source": [
    "for i in [1,2,5]: # Python cycles can be over any iterable object (e.g. list, tuple, dictionary, string)\n",
    "    print(i)"
   ]
  },
  {
   "cell_type": "markdown",
   "id": "2509382c",
   "metadata": {},
   "source": [
    "Technically, an **iterable** is any object that has method ``__iter__()``, which creates an **iterator**. Iterator is an object that has method ``__next__()``, which returns the next element of the iterable object or ``StopIteration`` exception when no more elements are available."
   ]
  },
  {
   "cell_type": "code",
   "execution_count": null,
   "id": "351272b7",
   "metadata": {},
   "outputs": [],
   "source": [
    "a = [1,2,3]\n",
    "\n",
    "a_iterator = a.__iter__()"
   ]
  },
  {
   "cell_type": "code",
   "execution_count": null,
   "id": "bd401b91",
   "metadata": {},
   "outputs": [],
   "source": [
    "a_iterator.__next__()"
   ]
  },
  {
   "cell_type": "code",
   "execution_count": null,
   "id": "3b798eda",
   "metadata": {},
   "outputs": [],
   "source": [
    "a = range(1,10,2) # range is an iterable that only stores start, end and step values\n",
    "\n",
    "type(a)"
   ]
  },
  {
   "cell_type": "code",
   "execution_count": null,
   "id": "abca6647",
   "metadata": {},
   "outputs": [],
   "source": [
    "list(a)"
   ]
  },
  {
   "cell_type": "code",
   "execution_count": null,
   "id": "607049d2",
   "metadata": {},
   "outputs": [],
   "source": [
    "for i in range(5):\n",
    "    print(i)"
   ]
  },
  {
   "cell_type": "code",
   "execution_count": null,
   "id": "729539e7",
   "metadata": {},
   "outputs": [],
   "source": [
    "for i in 'banana': #string is also an iterable\n",
    "    print(i)"
   ]
  },
  {
   "cell_type": "code",
   "execution_count": null,
   "id": "a12be32d",
   "metadata": {},
   "outputs": [],
   "source": [
    "list(zip([1,2,3],[3,2,1])) # built-in zip function "
   ]
  },
  {
   "cell_type": "code",
   "execution_count": null,
   "id": "2351d169",
   "metadata": {},
   "outputs": [],
   "source": [
    "for i,j,k in zip([1,2,3],[3,2,1],[2,1,3]):\n",
    "    print(i,j,k)"
   ]
  },
  {
   "cell_type": "code",
   "execution_count": null,
   "id": "872c734c",
   "metadata": {},
   "outputs": [],
   "source": [
    "list(enumerate(['a','b','c'])) # built-in enumerate function"
   ]
  },
  {
   "cell_type": "code",
   "execution_count": null,
   "id": "63ceb49f",
   "metadata": {},
   "outputs": [],
   "source": [
    "for i,val in enumerate(['a','b','c']):\n",
    "    print(i,val)"
   ]
  }
 ],
 "metadata": {
  "kernelspec": {
   "display_name": "Python 3 (ipykernel)",
   "language": "python",
   "name": "python3"
  },
  "language_info": {
   "codemirror_mode": {
    "name": "ipython",
    "version": 3
   },
   "file_extension": ".py",
   "mimetype": "text/x-python",
   "name": "python",
   "nbconvert_exporter": "python",
   "pygments_lexer": "ipython3",
   "version": "3.9.12"
  }
 },
 "nbformat": 4,
 "nbformat_minor": 5
}
