{
 "cells": [
  {
   "cell_type": "markdown",
   "id": "9bf671de",
   "metadata": {},
   "source": [
    "# Exercise 11.1: Irises II\n",
    "\n",
    "We continue working with [the iris flower dataset](https://en.wikipedia.org/wiki/Iris_flower_data_set) in this exercise. \n",
    "\n",
    "**a)** Download the `iris.csv` file and load it in Python (you can use `pandas.read_csv` function)."
   ]
  },
  {
   "cell_type": "code",
   "execution_count": 1,
   "id": "bd1130d5",
   "metadata": {},
   "outputs": [],
   "source": [
    "# write your code here"
   ]
  },
  {
   "cell_type": "markdown",
   "id": "18402a96",
   "metadata": {},
   "source": [
    "**b)** Calculate mean, standard deviation, maximal and minimal values of the dataset columns. "
   ]
  },
  {
   "cell_type": "code",
   "execution_count": 2,
   "id": "4ad884ab",
   "metadata": {},
   "outputs": [],
   "source": [
    "# write your code here"
   ]
  },
  {
   "cell_type": "markdown",
   "id": "bc8b17f2",
   "metadata": {},
   "source": [
    "**c)** Plot histograms for column `sepal_length` and for column `petal_length`."
   ]
  },
  {
   "cell_type": "code",
   "execution_count": 3,
   "id": "b4f2f162",
   "metadata": {},
   "outputs": [],
   "source": [
    "# write your code here"
   ]
  },
  {
   "cell_type": "markdown",
   "id": "2f15affd",
   "metadata": {},
   "source": [
    "**d)** Calculate the standart deviation of `sepal_length` for the irises of *virginica* species."
   ]
  },
  {
   "cell_type": "code",
   "execution_count": 4,
   "id": "9363c647",
   "metadata": {},
   "outputs": [],
   "source": [
    "# write your code here"
   ]
  },
  {
   "cell_type": "markdown",
   "id": "7a2e52c7",
   "metadata": {},
   "source": [
    "**e)** Generate a scatter plot of the dataset (use `pandas.DataFrame.plot.scatter`) with `sepal_length` in the x-axis and `petal_length` in the y-axis. You clearly see two different populations in this plot. Calculate the mean petal length value for the larger of the two populations."
   ]
  },
  {
   "cell_type": "code",
   "execution_count": 5,
   "id": "e5d79357",
   "metadata": {},
   "outputs": [],
   "source": [
    "# write your code here"
   ]
  },
  {
   "cell_type": "markdown",
   "id": "bbc522c8",
   "metadata": {},
   "source": [
    "**f)** Compare the values of sepal width for irises of species *versicolor* und *virginica* using a boxplot (`df.groupby(...).boxplot`).  "
   ]
  },
  {
   "cell_type": "code",
   "execution_count": 6,
   "id": "ea82d53e",
   "metadata": {},
   "outputs": [],
   "source": [
    "# write your code here"
   ]
  },
  {
   "cell_type": "markdown",
   "id": "0830d6cc",
   "metadata": {},
   "source": [
    "**g)** Test the hypothesis that both species have the same sepal width on average (use `scipy.stats.ttest_ind`)."
   ]
  },
  {
   "cell_type": "code",
   "execution_count": 7,
   "id": "cedf991f",
   "metadata": {},
   "outputs": [],
   "source": [
    "# write your code here"
   ]
  },
  {
   "cell_type": "markdown",
   "id": "04cf8309",
   "metadata": {},
   "source": [
    "**h)** Perform a 1-sample test to check how likely it is that the *virginica* sample has mean value 2.77 (i.e. equal to the mean value of the *versicolor* sample)."
   ]
  },
  {
   "cell_type": "code",
   "execution_count": 8,
   "id": "981681d2",
   "metadata": {},
   "outputs": [],
   "source": [
    "# write your code here"
   ]
  }
 ],
 "metadata": {
  "kernelspec": {
   "display_name": "Python 3 (ipykernel)",
   "language": "python",
   "name": "python3"
  },
  "language_info": {
   "codemirror_mode": {
    "name": "ipython",
    "version": 3
   },
   "file_extension": ".py",
   "mimetype": "text/x-python",
   "name": "python",
   "nbconvert_exporter": "python",
   "pygments_lexer": "ipython3",
   "version": "3.9.12"
  }
 },
 "nbformat": 4,
 "nbformat_minor": 5
}
