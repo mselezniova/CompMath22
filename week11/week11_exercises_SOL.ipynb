{
 "cells": [
  {
   "cell_type": "markdown",
   "id": "9bf671de",
   "metadata": {},
   "source": [
    "# Exercise 11.1: Irises II\n",
    "\n",
    "We continue working with [the iris flower dataset](https://en.wikipedia.org/wiki/Iris_flower_data_set) in this exercise. \n",
    "\n",
    "**a)** Download the `iris.csv` file and load it in Python (you can use `pandas.read_csv` function)."
   ]
  },
  {
   "cell_type": "code",
   "execution_count": 1,
   "id": "bd1130d5",
   "metadata": {},
   "outputs": [],
   "source": [
    "import pandas as pd\n",
    "import matplotlib.pyplot as plt\n",
    "\n",
    "df = pd.read_csv('iris.csv')"
   ]
  },
  {
   "cell_type": "markdown",
   "id": "18402a96",
   "metadata": {},
   "source": [
    "**b)** Calculate mean, standard deviation, maximal and minimal values of the dataset columns. "
   ]
  },
  {
   "cell_type": "code",
   "execution_count": 2,
   "id": "4ad884ab",
   "metadata": {},
   "outputs": [
    {
     "data": {
      "text/html": [
       "<div>\n",
       "<style scoped>\n",
       "    .dataframe tbody tr th:only-of-type {\n",
       "        vertical-align: middle;\n",
       "    }\n",
       "\n",
       "    .dataframe tbody tr th {\n",
       "        vertical-align: top;\n",
       "    }\n",
       "\n",
       "    .dataframe thead th {\n",
       "        text-align: right;\n",
       "    }\n",
       "</style>\n",
       "<table border=\"1\" class=\"dataframe\">\n",
       "  <thead>\n",
       "    <tr style=\"text-align: right;\">\n",
       "      <th></th>\n",
       "      <th>sepal_length</th>\n",
       "      <th>sepal_width</th>\n",
       "      <th>petal_length</th>\n",
       "      <th>petal_width</th>\n",
       "    </tr>\n",
       "  </thead>\n",
       "  <tbody>\n",
       "    <tr>\n",
       "      <th>count</th>\n",
       "      <td>150.000000</td>\n",
       "      <td>150.000000</td>\n",
       "      <td>150.000000</td>\n",
       "      <td>150.000000</td>\n",
       "    </tr>\n",
       "    <tr>\n",
       "      <th>mean</th>\n",
       "      <td>5.843333</td>\n",
       "      <td>3.054000</td>\n",
       "      <td>3.758667</td>\n",
       "      <td>1.198667</td>\n",
       "    </tr>\n",
       "    <tr>\n",
       "      <th>std</th>\n",
       "      <td>0.828066</td>\n",
       "      <td>0.433594</td>\n",
       "      <td>1.764420</td>\n",
       "      <td>0.763161</td>\n",
       "    </tr>\n",
       "    <tr>\n",
       "      <th>min</th>\n",
       "      <td>4.300000</td>\n",
       "      <td>2.000000</td>\n",
       "      <td>1.000000</td>\n",
       "      <td>0.100000</td>\n",
       "    </tr>\n",
       "    <tr>\n",
       "      <th>25%</th>\n",
       "      <td>5.100000</td>\n",
       "      <td>2.800000</td>\n",
       "      <td>1.600000</td>\n",
       "      <td>0.300000</td>\n",
       "    </tr>\n",
       "    <tr>\n",
       "      <th>50%</th>\n",
       "      <td>5.800000</td>\n",
       "      <td>3.000000</td>\n",
       "      <td>4.350000</td>\n",
       "      <td>1.300000</td>\n",
       "    </tr>\n",
       "    <tr>\n",
       "      <th>75%</th>\n",
       "      <td>6.400000</td>\n",
       "      <td>3.300000</td>\n",
       "      <td>5.100000</td>\n",
       "      <td>1.800000</td>\n",
       "    </tr>\n",
       "    <tr>\n",
       "      <th>max</th>\n",
       "      <td>7.900000</td>\n",
       "      <td>4.400000</td>\n",
       "      <td>6.900000</td>\n",
       "      <td>2.500000</td>\n",
       "    </tr>\n",
       "  </tbody>\n",
       "</table>\n",
       "</div>"
      ],
      "text/plain": [
       "       sepal_length  sepal_width  petal_length  petal_width\n",
       "count    150.000000   150.000000    150.000000   150.000000\n",
       "mean       5.843333     3.054000      3.758667     1.198667\n",
       "std        0.828066     0.433594      1.764420     0.763161\n",
       "min        4.300000     2.000000      1.000000     0.100000\n",
       "25%        5.100000     2.800000      1.600000     0.300000\n",
       "50%        5.800000     3.000000      4.350000     1.300000\n",
       "75%        6.400000     3.300000      5.100000     1.800000\n",
       "max        7.900000     4.400000      6.900000     2.500000"
      ]
     },
     "execution_count": 2,
     "metadata": {},
     "output_type": "execute_result"
    }
   ],
   "source": [
    "df.describe() "
   ]
  },
  {
   "cell_type": "markdown",
   "id": "bc8b17f2",
   "metadata": {},
   "source": [
    "**c)** Plot histograms for column `sepal_length` and for column `petal_length`."
   ]
  },
  {
   "cell_type": "code",
   "execution_count": 3,
   "id": "b4f2f162",
   "metadata": {},
   "outputs": [
    {
     "data": {
      "text/plain": [
       "array([[<AxesSubplot:title={'center':'sepal_length'}>]], dtype=object)"
      ]
     },
     "execution_count": 3,
     "metadata": {},
     "output_type": "execute_result"
    },
    {
     "data": {
      "image/png": "[encoded data removed]",
      "text/plain": [
       "<Figure size 432x288 with 1 Axes>"
      ]
     },
     "metadata": {
      "needs_background": "light"
     },
     "output_type": "display_data"
    }
   ],
   "source": [
    "df.hist(column=('sepal_length'))\n",
    "\n",
    "# alternatively, you can use matplotlib.pyplot.hist"
   ]
  },
  {
   "cell_type": "code",
   "execution_count": 4,
   "id": "6d9c4668",
   "metadata": {},
   "outputs": [
    {
     "data": {
      "text/plain": [
       "array([[<AxesSubplot:title={'center':'petal_length'}>]], dtype=object)"
      ]
     },
     "execution_count": 4,
     "metadata": {},
     "output_type": "execute_result"
    },
    {
     "data": {
      "image/png": "[encoded data removed]",
      "text/plain": [
       "<Figure size 432x288 with 1 Axes>"
      ]
     },
     "metadata": {
      "needs_background": "light"
     },
     "output_type": "display_data"
    }
   ],
   "source": [
    "df.hist(column=('petal_length'))"
   ]
  },
  {
   "cell_type": "markdown",
   "id": "2f15affd",
   "metadata": {},
   "source": [
    "**d)** Calculate the standart deviation of `sepal_length` for the irises of *virginica* species."
   ]
  },
  {
   "cell_type": "code",
   "execution_count": 5,
   "id": "9363c647",
   "metadata": {},
   "outputs": [
    {
     "data": {
      "text/plain": [
       "0.635879593274432"
      ]
     },
     "execution_count": 5,
     "metadata": {},
     "output_type": "execute_result"
    }
   ],
   "source": [
    "df[df['name']=='virginica']['sepal_length'].std()"
   ]
  },
  {
   "cell_type": "markdown",
   "id": "7a2e52c7",
   "metadata": {},
   "source": [
    "**e)** Generate a scatter plot of the dataset (use `pandas.DataFrame.plot.scatter`) with `sepal_length` in the x-axis and `petal_length` in the y-axis. You clearly see two different populations in this plot. Calculate the mean petal length value for the larger of the two populations."
   ]
  },
  {
   "cell_type": "code",
   "execution_count": 6,
   "id": "e5d79357",
   "metadata": {},
   "outputs": [
    {
     "data": {
      "text/plain": [
       "<AxesSubplot:xlabel='sepal_length', ylabel='petal_length'>"
      ]
     },
     "execution_count": 6,
     "metadata": {},
     "output_type": "execute_result"
    },
    {
     "data": {
      "image/png": "[encoded data removed]",
      "text/plain": [
       "<Figure size 432x288 with 1 Axes>"
      ]
     },
     "metadata": {
      "needs_background": "light"
     },
     "output_type": "display_data"
    }
   ],
   "source": [
    "df.plot.scatter('sepal_length', 'petal_length')\n",
    "\n",
    "# alternatively, you can use matplotlib.pyplot.plot(data['sepal_length'],data['petal_length'], 'o')"
   ]
  },
  {
   "cell_type": "code",
   "execution_count": 7,
   "id": "4199f08b",
   "metadata": {},
   "outputs": [
    {
     "data": {
      "text/plain": [
       "4.906000000000001"
      ]
     },
     "execution_count": 7,
     "metadata": {},
     "output_type": "execute_result"
    }
   ],
   "source": [
    "df[df['petal_length']>2.5]['petal_length'].mean()\n",
    "\n",
    "# mean of the upper group of points in the graph\n",
    "# you can see that petal_length > 2.5 for this group"
   ]
  },
  {
   "cell_type": "markdown",
   "id": "bbc522c8",
   "metadata": {},
   "source": [
    "**f)** Compare the values of sepal width for irises of species *versicolor* und *virginica* using a boxplot (`df.groupby(...).boxplot`).  "
   ]
  },
  {
   "cell_type": "code",
   "execution_count": 8,
   "id": "ea82d53e",
   "metadata": {},
   "outputs": [
    {
     "data": {
      "text/plain": [
       "versicolor         AxesSubplot(0.1,0.15;0.363636x0.75)\n",
       "virginica     AxesSubplot(0.536364,0.15;0.363636x0.75)\n",
       "dtype: object"
      ]
     },
     "execution_count": 8,
     "metadata": {},
     "output_type": "execute_result"
    },
    {
     "data": {
      "image/png": "[encoded data removed]",
      "text/plain": [
       "<Figure size 432x288 with 2 Axes>"
      ]
     },
     "metadata": {
      "needs_background": "light"
     },
     "output_type": "display_data"
    }
   ],
   "source": [
    "groupby_name = df[df['name']!= 'setosa'].groupby('name')\n",
    "# we exclude the setosa irises and then group by name \n",
    "\n",
    "groupby_name.boxplot(column = ['sepal_width'])"
   ]
  },
  {
   "cell_type": "markdown",
   "id": "0830d6cc",
   "metadata": {},
   "source": [
    "**g)** Test the hypothesis that both species have the same sepal width on average (use `scipy.stats.ttest_ind`)."
   ]
  },
  {
   "cell_type": "code",
   "execution_count": 9,
   "id": "cedf991f",
   "metadata": {},
   "outputs": [],
   "source": [
    "sepal_width_ver, sepal_width_vir = [g[1]['sepal_width'] for g in groupby_name]\n",
    "# we extract the sepal_width values for the two groups separately"
   ]
  },
  {
   "cell_type": "code",
   "execution_count": 10,
   "id": "992de9bf",
   "metadata": {},
   "outputs": [
    {
     "data": {
      "text/plain": [
       "Ttest_indResult(statistic=-3.2057607502218186, pvalue=0.0018191004238894803)"
      ]
     },
     "execution_count": 10,
     "metadata": {},
     "output_type": "execute_result"
    }
   ],
   "source": [
    "from scipy import stats\n",
    "\n",
    "# two-sample test for equality of means\n",
    "stats.ttest_ind(sepal_width_ver, sepal_width_vir)\n",
    "\n",
    "# small p-value (e.g. <0.01) indicates that the means are very unlikely to be equal "
   ]
  },
  {
   "cell_type": "markdown",
   "id": "04cf8309",
   "metadata": {},
   "source": [
    "**h)** Perform a 1-sample test to check how likely it is that the *virginica* sample has mean value 2.77 (i.e. equal to the mean value of the *versicolor* sample)."
   ]
  },
  {
   "cell_type": "code",
   "execution_count": 11,
   "id": "981681d2",
   "metadata": {},
   "outputs": [
    {
     "data": {
      "text/plain": [
       "Ttest_1sampResult(statistic=4.472908126404603, pvalue=4.587215749485262e-05)"
      ]
     },
     "execution_count": 11,
     "metadata": {},
     "output_type": "execute_result"
    }
   ],
   "source": [
    "# one-sample test for equality of mean to a given value \n",
    "stats.ttest_1samp(sepal_width_vir, sepal_width_ver.mean())\n",
    "\n",
    "# small p-value (e.g. <0.01) indicates that the mean is unlikely to have the given value"
   ]
  }
 ],
 "metadata": {
  "kernelspec": {
   "display_name": "Python 3 (ipykernel)",
   "language": "python",
   "name": "python3"
  },
  "language_info": {
   "codemirror_mode": {
    "name": "ipython",
    "version": 3
   },
   "file_extension": ".py",
   "mimetype": "text/x-python",
   "name": "python",
   "nbconvert_exporter": "python",
   "pygments_lexer": "ipython3",
   "version": "3.9.12"
  }
 },
 "nbformat": 4,
 "nbformat_minor": 5
}
