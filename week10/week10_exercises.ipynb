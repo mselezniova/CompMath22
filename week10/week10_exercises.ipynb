{
 "cells": [
  {
   "cell_type": "markdown",
   "id": "94b12c25",
   "metadata": {},
   "source": [
    "# Exercise 10.1: Irises\n",
    "\n",
    "<table><tr>\n",
    "<td> <img src=\"https://upload.wikimedia.org/wikipedia/commons/5/56/Kosaciec_szczecinkowaty_Iris_setosa.jpg\" alt=\"Iris setosa\" width=\"200\"/> </td> \n",
    "<td> <img src=\"https://upload.wikimedia.org/wikipedia/commons/thumb/9/9f/Iris_virginica.jpg/1920px-Iris_virginica.jpg\" alt=\"Iris virginica\" width=\"325\"/> </td>\n",
    "<td> <img src=\"https://upload.wikimedia.org/wikipedia/commons/4/41/Iris_versicolor_3.jpg\" alt=\"Iris versicolor\" width=\"355\"/> </td>\n",
    "</tr></table>\n",
    "\n",
    "[The iris flower dataset](https://en.wikipedia.org/wiki/Iris_flower_data_set) is a famous dataset that is often used as an example dataset for data analysis methods. This dataset consists of 50 samples from each of three species of Iris (Iris setosa, Iris virginica and Iris versicolor) and contains four features: the length and the width of the sepals and petals, in centimeters. The goal is to distiguish between the species of irises based on these features.\n",
    "\n",
    "**a)** Download the `iris.csv` file and load it in Python (you can use `pandas.read_csv` function)."
   ]
  },
  {
   "cell_type": "code",
   "execution_count": null,
   "id": "29b1549e",
   "metadata": {},
   "outputs": [],
   "source": [
    "# write your code here"
   ]
  },
  {
   "cell_type": "markdown",
   "id": "361c624d",
   "metadata": {},
   "source": [
    "**b)** Get familiar with the data. You can use `df.head` and `df.tail` methods of a Pandas dataframe `df` to display first and last rows of the dataset. You can also use `df.describe` to compute basic descriptive statistics of the data."
   ]
  },
  {
   "cell_type": "code",
   "execution_count": null,
   "id": "64328ca3",
   "metadata": {},
   "outputs": [],
   "source": [
    "# write your code here"
   ]
  },
  {
   "cell_type": "markdown",
   "id": "2bce4b14",
   "metadata": {},
   "source": [
    "**c)** Use `pd.plotting.scatter_matrix` function to plot a matrix of all the two-dimensional projections of the data together with histograms of each feature."
   ]
  },
  {
   "cell_type": "code",
   "execution_count": null,
   "id": "3cbdcd90",
   "metadata": {},
   "outputs": [],
   "source": [
    "# write your code here"
   ]
  },
  {
   "cell_type": "markdown",
   "id": "35b7facf",
   "metadata": {},
   "source": [
    "**d)** Generate a scatter plot with `sepal_length` feature in x-axis and `petal_width` feature in y-axis, which shows the points corresponding to different classes with different colors. You can use `matplotlib` library here."
   ]
  },
  {
   "cell_type": "code",
   "execution_count": null,
   "id": "6c8c38b4",
   "metadata": {},
   "outputs": [],
   "source": [
    "# write your code here"
   ]
  },
  {
   "cell_type": "markdown",
   "id": "c9d88198",
   "metadata": {},
   "source": [
    "**e)** Now use `pd.plotting.scatter_matrix` to plot all the data projections with colors indicating classes. Note that you can use argument `c` here as you would use it for `df.plot.scatter` method. However, the column used to determine colors cannot have string values (as the `name` column in our data). Thus, create a new data column `class` that replaces labels 'setosa', 'versicolor' and 'virginica' with class labels 0, 1 and 2 (use `df.replace` method)."
   ]
  },
  {
   "cell_type": "code",
   "execution_count": null,
   "id": "8f15fefa",
   "metadata": {},
   "outputs": [],
   "source": [
    "# write your code here"
   ]
  },
  {
   "cell_type": "markdown",
   "id": "beb84b91",
   "metadata": {},
   "source": [
    "**f)** Use `df.groupby` to compute mean and variance of all the features separately for each class of irises."
   ]
  },
  {
   "cell_type": "code",
   "execution_count": null,
   "id": "88811094",
   "metadata": {},
   "outputs": [],
   "source": [
    "# write your code here"
   ]
  },
  {
   "cell_type": "markdown",
   "id": "e66b7677",
   "metadata": {},
   "source": [
    "**g)** Use `df.groupby(...).boxplot` method to generate boxplots of all the features separately for each class."
   ]
  },
  {
   "cell_type": "code",
   "execution_count": null,
   "id": "eed6ac31",
   "metadata": {},
   "outputs": [],
   "source": [
    "# write your code here"
   ]
  },
  {
   "cell_type": "markdown",
   "id": "3f004294",
   "metadata": {},
   "source": [
    "---"
   ]
  },
  {
   "cell_type": "markdown",
   "id": "e4bd77f5",
   "metadata": {},
   "source": [
    "<center><font size=5> Merry Christmas and Happy New Year! </font></center> \n",
    "    \n",
    "<center><font size=5> See you after the holidays. </font></center> "
   ]
  }
 ],
 "metadata": {
  "kernelspec": {
   "display_name": "Python 3 (ipykernel)",
   "language": "python",
   "name": "python3"
  },
  "language_info": {
   "codemirror_mode": {
    "name": "ipython",
    "version": 3
   },
   "file_extension": ".py",
   "mimetype": "text/x-python",
   "name": "python",
   "nbconvert_exporter": "python",
   "pygments_lexer": "ipython3",
   "version": "3.9.12"
  }
 },
 "nbformat": 4,
 "nbformat_minor": 5
}
