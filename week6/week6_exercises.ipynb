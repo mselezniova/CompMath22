{
 "cells": [
  {
   "cell_type": "markdown",
   "id": "e8f74fe0",
   "metadata": {},
   "source": [
    "# Exercise 6.1: SIR model\n",
    "\n",
    "[The SIR model](https://en.wikipedia.org/wiki/Compartmental_models_in_epidemiology) is a simple mathematical model to simulate epidemics. The population is divided into three groups: **S**usceptible, **I**nfectious and **R**emoved (recovered or dead). The size of the respective groups is given as functions of time $S(t)$, $I(t)$ and $R(t)$. It is also assumed that there is an infection rate $\\beta$ and a recovery/death rate $\\gamma$. Then the model is defined by the following differential equations:\n",
    "\n",
    "$$\\dfrac{dS}{dt} = -\\beta I S, \\quad \\dfrac{dI}{dt} = \\beta I S - \\gamma I, \\quad \\dfrac{dR}{dt} = \\gamma I$$\n",
    "\n",
    "**a)** Plot $S, I$ an $R$ for $\\beta=0.4$ and $\\gamma=0.04$ for $t\\in[0,100]$ and initial conditions $S(0)=0.997$, $I(0)=0.03$ and $R(0)=0$ (you can use `scipy.integrate.solve_ivp` function). Add all the necessary captions to the plot."
   ]
  },
  {
   "cell_type": "code",
   "execution_count": 1,
   "id": "29109976",
   "metadata": {},
   "outputs": [],
   "source": [
    "# write your code here"
   ]
  },
  {
   "cell_type": "markdown",
   "id": "79996e74",
   "metadata": {},
   "source": [
    "**b)** Determine the point with the maximum fraction of infectious individuals and mark this point in the plot."
   ]
  },
  {
   "cell_type": "code",
   "execution_count": 2,
   "id": "6a1cfb2a",
   "metadata": {},
   "outputs": [],
   "source": [
    "# write your code here"
   ]
  },
  {
   "cell_type": "markdown",
   "id": "acc4f539",
   "metadata": {},
   "source": [
    "**c)** Determine the maximal infection rate $\\beta'$ such that for $\\gamma=0.04$ and all $\\beta\\leq\\beta'$ the epidemic does not break out, i.e. $I(t) < I(0)$ for any $t>0$."
   ]
  },
  {
   "cell_type": "code",
   "execution_count": 3,
   "id": "be1c61f7",
   "metadata": {},
   "outputs": [],
   "source": [
    "# write your code here"
   ]
  },
  {
   "cell_type": "markdown",
   "id": "cd9182d4",
   "metadata": {},
   "source": [
    "# Exercise 6.2: Anscombe's quartet \n",
    "\n",
    "[Anscombe's quartet](https://en.wikipedia.org/wiki/Anscombe%27s_quartet) comprises four data sets that have nearly identical simple descriptive statistics, yet have very different distributions and appear very different when graphed. The goal of these task is to investigate these datasets.\n",
    "\n",
    "**a)** Load these datasets from `Anscombe.txt` file and store them in appropriate numpy arrays (you can use `numpy.loadtxt` function)."
   ]
  },
  {
   "cell_type": "code",
   "execution_count": 4,
   "id": "ca17f354",
   "metadata": {},
   "outputs": [],
   "source": [
    "# write your code here"
   ]
  },
  {
   "cell_type": "markdown",
   "id": "c53c0f74",
   "metadata": {},
   "source": [
    "**b)** Compare the statistical characteristics of the four datasets: expected value (`np.mean`) and variance (`np.var`) ."
   ]
  },
  {
   "cell_type": "code",
   "execution_count": 5,
   "id": "fe6e67b3",
   "metadata": {},
   "outputs": [],
   "source": [
    "# write your code here"
   ]
  },
  {
   "cell_type": "markdown",
   "id": "adb11fb7",
   "metadata": {},
   "source": [
    "**c)** Determine the linear regression line for each data set and plot the data sets with lines (you can use e.g. `np.polyfit` function). What do you notice?"
   ]
  },
  {
   "cell_type": "code",
   "execution_count": 6,
   "id": "a534353c",
   "metadata": {},
   "outputs": [],
   "source": [
    "# write your code here"
   ]
  }
 ],
 "metadata": {
  "kernelspec": {
   "display_name": "Python 3 (ipykernel)",
   "language": "python",
   "name": "python3"
  },
  "language_info": {
   "codemirror_mode": {
    "name": "ipython",
    "version": 3
   },
   "file_extension": ".py",
   "mimetype": "text/x-python",
   "name": "python",
   "nbconvert_exporter": "python",
   "pygments_lexer": "ipython3",
   "version": "3.9.12"
  }
 },
 "nbformat": 4,
 "nbformat_minor": 5
}
