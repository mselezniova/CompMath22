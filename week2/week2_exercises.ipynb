{
 "cells": [
  {
   "cell_type": "markdown",
   "id": "1e927acf",
   "metadata": {},
   "source": [
    "## Exercise 2.1: Arithmetics \n",
    "\n",
    "Using functions and constants from the ``math`` library, solve the following tasks:\n",
    "\n",
    "  **a)** Calculate $|\\pi^e-e^\\pi|$"
   ]
  },
  {
   "cell_type": "code",
   "execution_count": null,
   "id": "415fcb53",
   "metadata": {},
   "outputs": [],
   "source": [
    "# write your code here\n",
    "\n",
    "\n",
    "\n",
    "\n"
   ]
  },
  {
   "cell_type": "markdown",
   "id": "a3857bc1",
   "metadata": {},
   "source": [
    "**b)** Calculate $\\sqrt{n + \\sqrt{n}} - \\sqrt{n - \\sqrt{n}}$ for $n=1000$"
   ]
  },
  {
   "cell_type": "code",
   "execution_count": null,
   "id": "bb0e29f9",
   "metadata": {},
   "outputs": [],
   "source": [
    "# write your code here\n",
    "\n",
    "\n",
    "\n",
    "\n"
   ]
  },
  {
   "cell_type": "markdown",
   "id": "c543675e",
   "metadata": {},
   "source": [
    "**c)** Stirling's approximation approximates the factorial for large $n$ as follows:\n",
    "\n",
    "$$n! \\approx S = \\sqrt{2\\pi}n^{n+1/2}e^{-n}$$\n",
    "\n",
    "Calculate $S$ for $n\\in\\{5,10,15,20\\}$ and compare with the value of $n!$ given by the ``math`` library function."
   ]
  },
  {
   "cell_type": "code",
   "execution_count": null,
   "id": "f544c6bc",
   "metadata": {},
   "outputs": [],
   "source": [
    "# write your code here\n",
    "\n",
    "\n",
    "\n",
    "\n"
   ]
  },
  {
   "cell_type": "markdown",
   "id": "b6819e00",
   "metadata": {},
   "source": [
    "## Exercise 2.2: Basic functions\n",
    "\n",
    "**a)** Write a function to calculate the volume of a cuboid with edge lengths $a,b,c$. Test your code on sample values such as \n",
    "\n",
    "  1. $a=1,b=1,c=1 $ (result should be 1);\n",
    "  2. $a=1,b=2,c=3.5$ (result should be 7.0);\n",
    "  3. $a=0,b=1,c=1$ (result should be 0);\n",
    "  4. $a=2,b=-1,c=1$ (what do you think the result should be?)."
   ]
  },
  {
   "cell_type": "code",
   "execution_count": null,
   "id": "61d4b5d8",
   "metadata": {},
   "outputs": [],
   "source": [
    "# write your code here\n",
    "\n",
    "\n",
    "\n",
    "\n"
   ]
  },
  {
   "cell_type": "markdown",
   "id": "9c6a5a87",
   "metadata": {},
   "source": [
    "**b)** Write a function to compute the time (in seconds) taken for an object to fall from a height $H$ (in metres) to the ground, using the following formula:\n",
    "\n",
    "$$H = \\dfrac 1 2 g t^2$$\n",
    "\n",
    "Use the value of the acceleration due to gravity $g$ from ``scipy.constants.g``. Test your code on sample values such as\n",
    "\n",
    "  1. $H = 1$m (result should be $\\approx$ 0.452s);\n",
    "  2. $H = 10$m (result should be $\\approx$ 1.428s);\n",
    "  3. $H = 0$m (result should be 0s);\n",
    "  4. $H = -1$m (what do you think the result should be?)."
   ]
  },
  {
   "cell_type": "code",
   "execution_count": null,
   "id": "49d5e0b9",
   "metadata": {},
   "outputs": [],
   "source": [
    "# write your code here\n",
    "\n",
    "\n",
    "\n",
    "\n"
   ]
  },
  {
   "cell_type": "markdown",
   "id": "8a2cd340",
   "metadata": {},
   "source": [
    "## Exercise 2.3: Floating point numbers\n",
    "\n",
    "**a)** Computers cannot, in principle, represent real numbers perfectly. This can lead to problems of accuracy. For example, if \n",
    "\n",
    "$$x = 1,\\quad y = 1 + 10^{-14}\\sqrt{3}$$\n",
    "\n",
    "then it should be true that\n",
    "\n",
    "$$10^{14}(y-x) = \\sqrt{3}$$\n",
    "\n",
    "Check how accurately this equation holds in Python. Also try using $10^{\\pm 15}, 10^{\\pm 16}, 10^{\\pm 17}$ instead of $10^{\\pm 14}$ and see what this implies about the accuracy of subtracting two numbers that are close together."
   ]
  },
  {
   "cell_type": "code",
   "execution_count": null,
   "id": "2b84b710",
   "metadata": {},
   "outputs": [],
   "source": [
    "# write your code here\n",
    "\n",
    "\n",
    "\n",
    "\n",
    "\n"
   ]
  },
  {
   "cell_type": "markdown",
   "id": "cf8ec702",
   "metadata": {},
   "source": [
    "**a)** Roots of a qudratic polynom \n",
    "\n",
    "$$x^2 - 2px + q$$ \n",
    "\n",
    "can be found using the formula \n",
    "\n",
    "$$x_{1,2} = p \\pm \\sqrt{p^2-q}$$\n",
    "\n",
    "Alternatively, we can calculate only $x_1$ and then find $x_2$ using Vieta's formula:\n",
    "\n",
    "$$x_2 = \\dfrac q x_1$$\n",
    "\n",
    "Write two functions: one that calculated the roots of a given polynom using the first method and another one that calculates the roots using the second method. Test the functions on values $p=(a+1/a)/2$ and $q=1$ for large and small values of $a>0$. How do the results of the two methods compare? Which method gives (more) correct results?"
   ]
  },
  {
   "cell_type": "code",
   "execution_count": null,
   "id": "ad741eb4",
   "metadata": {},
   "outputs": [],
   "source": [
    "# write your code here\n",
    "\n",
    "\n",
    "\n",
    "\n"
   ]
  },
  {
   "cell_type": "markdown",
   "id": "372e72b2",
   "metadata": {},
   "source": [
    "## Functions in Python"
   ]
  },
  {
   "cell_type": "code",
   "execution_count": 3,
   "id": "38763bfe",
   "metadata": {},
   "outputs": [],
   "source": [
    "def append_one(a): # python syntax to define a function\n",
    "    a.append(1)\n",
    "    return a"
   ]
  },
  {
   "cell_type": "code",
   "execution_count": 4,
   "id": "476687e2",
   "metadata": {},
   "outputs": [
    {
     "data": {
      "text/plain": [
       "[1, 2, 3, 1]"
      ]
     },
     "execution_count": 4,
     "metadata": {},
     "output_type": "execute_result"
    }
   ],
   "source": [
    "a = [1,2,3] \n",
    "append_one(a)\n",
    " \n",
    "a # the value of a changed, because Python passes arguments by reference!"
   ]
  },
  {
   "cell_type": "code",
   "execution_count": 5,
   "id": "b27fab02",
   "metadata": {},
   "outputs": [
    {
     "data": {
      "text/plain": [
       "16"
      ]
     },
     "execution_count": 5,
     "metadata": {},
     "output_type": "execute_result"
    }
   ],
   "source": [
    "(lambda x : x**2)(4) # lambda functions are \"anonymous\"!\n",
    "                     # this is f(4), where f(x)=x^2"
   ]
  },
  {
   "cell_type": "code",
   "execution_count": 6,
   "id": "5e5ff631",
   "metadata": {},
   "outputs": [],
   "source": [
    "def mul(a,b):\n",
    "    return a*b\n",
    "\n",
    "mul_by_3 = lambda x: mul(x,3) #lambda functions can be handy to define a function in one line\n",
    "mul_by_2 = lambda x: mul(x,2)"
   ]
  },
  {
   "cell_type": "code",
   "execution_count": 7,
   "id": "f5157a96",
   "metadata": {},
   "outputs": [
    {
     "data": {
      "text/plain": [
       "(9, 6)"
      ]
     },
     "execution_count": 7,
     "metadata": {},
     "output_type": "execute_result"
    }
   ],
   "source": [
    "mul_by_3(3), mul_by_2(3)"
   ]
  },
  {
   "cell_type": "code",
   "execution_count": 11,
   "id": "f2ef578a",
   "metadata": {},
   "outputs": [],
   "source": [
    "def f(x=1):\n",
    "    return x"
   ]
  },
  {
   "cell_type": "code",
   "execution_count": 12,
   "id": "4eaee497",
   "metadata": {},
   "outputs": [
    {
     "data": {
      "text/plain": [
       "(1, 2)"
      ]
     },
     "execution_count": 12,
     "metadata": {},
     "output_type": "execute_result"
    }
   ],
   "source": [
    "f(), f(x=2)"
   ]
  },
  {
   "cell_type": "code",
   "execution_count": null,
   "id": "5915b995",
   "metadata": {},
   "outputs": [],
   "source": []
  }
 ],
 "metadata": {
  "kernelspec": {
   "display_name": "Python 3 (ipykernel)",
   "language": "python",
   "name": "python3"
  },
  "language_info": {
   "codemirror_mode": {
    "name": "ipython",
    "version": 3
   },
   "file_extension": ".py",
   "mimetype": "text/x-python",
   "name": "python",
   "nbconvert_exporter": "python",
   "pygments_lexer": "ipython3",
   "version": "3.9.12"
  }
 },
 "nbformat": 4,
 "nbformat_minor": 5
}
