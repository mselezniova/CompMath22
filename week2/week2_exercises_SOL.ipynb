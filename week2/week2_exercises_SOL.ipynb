{
 "cells": [
  {
   "cell_type": "markdown",
   "id": "1e927acf",
   "metadata": {},
   "source": [
    "## Exercise 2.1: Arithmetics \n",
    "\n",
    "Using functions and constants from the ``math`` library, solve the following tasks:\n",
    "\n",
    "  **a)** Calculate $|\\pi^e-e^\\pi|$"
   ]
  },
  {
   "cell_type": "code",
   "execution_count": 1,
   "id": "415fcb53",
   "metadata": {},
   "outputs": [
    {
     "name": "stdout",
     "output_type": "stream",
     "text": [
      "The solution to exercise a) is 0.682\n"
     ]
    }
   ],
   "source": [
    "# write your code here\n",
    "\n",
    "from math import pi, e\n",
    "\n",
    "res = abs(pi ** e - e ** pi)\n",
    "\n",
    "print(f\"The solution to exercise a) is {res:.3}\") # '.3' means that we round to the first 3 digits"
   ]
  },
  {
   "cell_type": "markdown",
   "id": "77dc0600",
   "metadata": {},
   "source": [
    "**Comment:**\n",
    "\n",
    "- ``abs()`` is a built-in Python function to compute the absolute value.\n",
    "- Our output in the printing function is an *f-string* (we create it as ``f\"...\"``), which is the preferred way to format strings since Python 3.6. You can read more about the ways to format strings in Python [here](https://realpython.com/python-f-strings/#old-school-string-formatting-in-python).\n",
    "- You can also read more about f-strings in [Python docs](https://docs.python.org/3/reference/lexical_analysis.html#f-strings)."
   ]
  },
  {
   "cell_type": "markdown",
   "id": "a3857bc1",
   "metadata": {},
   "source": [
    "**b)** Calculate $\\sqrt{n + \\sqrt{n}} - \\sqrt{n - \\sqrt{n}}$ for $n=1000$"
   ]
  },
  {
   "cell_type": "code",
   "execution_count": 2,
   "id": "bb0e29f9",
   "metadata": {},
   "outputs": [
    {
     "name": "stdout",
     "output_type": "stream",
     "text": [
      "The solution to exercise b) is 1.0001250547197529\n"
     ]
    }
   ],
   "source": [
    "# write your code here\n",
    "\n",
    "from math import sqrt\n",
    "\n",
    "n = 1000\n",
    "res = sqrt(n + sqrt(n)) - sqrt(n - sqrt(n))\n",
    "\n",
    "print(f\"The solution to exercise b) is {res}\") "
   ]
  },
  {
   "cell_type": "markdown",
   "id": "c543675e",
   "metadata": {},
   "source": [
    "**c)** Stirling's approximation approximates the factorial for large $n$ as follows:\n",
    "\n",
    "$$n! \\approx S = \\sqrt{2\\pi}n^{n+1/2}e^{-n}$$\n",
    "\n",
    "Calculate $S$ for $n\\in\\{5,10,15,20\\}$ and compare with the value of $n!$ given by the ``math`` library function."
   ]
  },
  {
   "cell_type": "code",
   "execution_count": 3,
   "id": "f544c6bc",
   "metadata": {},
   "outputs": [
    {
     "name": "stdout",
     "output_type": "stream",
     "text": [
      "For n=100, we get |S-n!|/n!=0.000833.\n"
     ]
    }
   ],
   "source": [
    "# write your code here\n",
    "\n",
    "from math import factorial\n",
    "\n",
    "n = 100\n",
    "\n",
    "S = sqrt(2*pi)*(n**(n+0.5))*(e**(-n))\n",
    "\n",
    "n_factorial = factorial(n)\n",
    "\n",
    "print(f\"For n={n}, we get |S-n!|/n!={abs(n_factorial-S)/float(n_factorial):f}.\")"
   ]
  },
  {
   "cell_type": "markdown",
   "id": "b6819e00",
   "metadata": {},
   "source": [
    "## Exercise 2.2: Basic functions\n",
    "\n",
    "**a)** Write a function to calculate the volume of a cuboid with edge lengths $a,b,c$. Test your code on sample values such as \n",
    "\n",
    "  1. $a=1,b=1,c=1 $ (result should be 1);\n",
    "  2. $a=1,b=2,c=3.5$ (result should be 7.0);\n",
    "  3. $a=0,b=1,c=1$ (result should be 0);\n",
    "  4. $a=2,b=−1,c=1$ (what do you think the result should be?)."
   ]
  },
  {
   "cell_type": "code",
   "execution_count": 4,
   "id": "61d4b5d8",
   "metadata": {},
   "outputs": [],
   "source": [
    "# write your code here\n",
    "\n",
    "def volume(a,b,c):\n",
    "    if a<0 or b<0 or c<0:\n",
    "        raise ValueError(\"All the edge lengths should be non-negative!\") # the function shows an error \n",
    "                                                                         # if one of the edge lengths is negative\n",
    "    \n",
    "    return a*b*c"
   ]
  },
  {
   "cell_type": "code",
   "execution_count": 5,
   "id": "72c9888e",
   "metadata": {},
   "outputs": [
    {
     "name": "stdout",
     "output_type": "stream",
     "text": [
      "Volume of a cuboids with sides a=1,b=1,c=1 is equal 1\n",
      "Volume of a cuboids with sides a=1,b=2,c=3.5 is equal 7.0\n",
      "Volume of a cuboids with sides a=0,b=1,c=1 is equal 0\n"
     ]
    }
   ],
   "source": [
    "# print the results for the first three test inputs \n",
    "\n",
    "for a,b,c in zip([1,1,0],[1,2,1],[1,3.5,1]):\n",
    "    vol = volume(a,b,c)\n",
    "    print(f\"Volume of a cuboids with sides a={a},b={b},c={c} is equal {vol}\")"
   ]
  },
  {
   "cell_type": "code",
   "execution_count": 6,
   "id": "3e2899f0",
   "metadata": {},
   "outputs": [
    {
     "ename": "ValueError",
     "evalue": "All the edge lengths should be non-negative!",
     "output_type": "error",
     "traceback": [
      "\u001b[0;31m---------------------------------------------------------------------------\u001b[0m",
      "\u001b[0;31mValueError\u001b[0m                                Traceback (most recent call last)",
      "Input \u001b[0;32mIn [6]\u001b[0m, in \u001b[0;36m<cell line: 3>\u001b[0;34m()\u001b[0m\n\u001b[1;32m      1\u001b[0m \u001b[38;5;66;03m# the last test input causes an error\u001b[39;00m\n\u001b[0;32m----> 3\u001b[0m \u001b[43mvolume\u001b[49m\u001b[43m(\u001b[49m\u001b[38;5;241;43m2\u001b[39;49m\u001b[43m,\u001b[49m\u001b[38;5;241;43m-\u001b[39;49m\u001b[38;5;241;43m1\u001b[39;49m\u001b[43m,\u001b[49m\u001b[38;5;241;43m1\u001b[39;49m\u001b[43m)\u001b[49m\n",
      "Input \u001b[0;32mIn [4]\u001b[0m, in \u001b[0;36mvolume\u001b[0;34m(a, b, c)\u001b[0m\n\u001b[1;32m      3\u001b[0m \u001b[38;5;28;01mdef\u001b[39;00m \u001b[38;5;21mvolume\u001b[39m(a,b,c):\n\u001b[1;32m      4\u001b[0m     \u001b[38;5;28;01mif\u001b[39;00m a\u001b[38;5;241m<\u001b[39m\u001b[38;5;241m0\u001b[39m \u001b[38;5;129;01mor\u001b[39;00m b\u001b[38;5;241m<\u001b[39m\u001b[38;5;241m0\u001b[39m \u001b[38;5;129;01mor\u001b[39;00m c\u001b[38;5;241m<\u001b[39m\u001b[38;5;241m0\u001b[39m:\n\u001b[0;32m----> 5\u001b[0m         \u001b[38;5;28;01mraise\u001b[39;00m \u001b[38;5;167;01mValueError\u001b[39;00m(\u001b[38;5;124m\"\u001b[39m\u001b[38;5;124mAll the edge lengths should be non-negative!\u001b[39m\u001b[38;5;124m\"\u001b[39m) \u001b[38;5;66;03m# the function shows an error \u001b[39;00m\n\u001b[1;32m      6\u001b[0m                                                                          \u001b[38;5;66;03m# if one of the edge lengths is negative\u001b[39;00m\n\u001b[1;32m      8\u001b[0m     \u001b[38;5;28;01mreturn\u001b[39;00m a\u001b[38;5;241m*\u001b[39mb\u001b[38;5;241m*\u001b[39mc\n",
      "\u001b[0;31mValueError\u001b[0m: All the edge lengths should be non-negative!"
     ]
    }
   ],
   "source": [
    "# the last test input causes an error\n",
    "\n",
    "volume(2,-1,1)"
   ]
  },
  {
   "cell_type": "markdown",
   "id": "9c6a5a87",
   "metadata": {},
   "source": [
    "**b)** Write a function to compute the time (in seconds) taken for an object to fall from a height $H$ (in metres) to the ground, using the following formula:\n",
    "\n",
    "$$H = \\dfrac 1 2 g t^2$$\n",
    "\n",
    "Use the value of the acceleration due to gravity $g$ from ``scipy.constants.g``. Test your code on sample values such as\n",
    "\n",
    "  1. $H = 1$m (result should be $\\approx$ 0.452s);\n",
    "  2. $H = 10$m (result should be $\\approx$ 1.428s);\n",
    "  3. $H = 0$m (result should be 0s);\n",
    "  4. $H = -1$m (what do you think the result should be?)."
   ]
  },
  {
   "cell_type": "code",
   "execution_count": 7,
   "id": "49d5e0b9",
   "metadata": {},
   "outputs": [],
   "source": [
    "# write your code here\n",
    "\n",
    "from scipy.constants import g\n",
    "\n",
    "def fall_time(h, a=g):\n",
    "    if h<0:\n",
    "        raise ValueError(\"The height should be a non-negative number!\") # the function raises an error \n",
    "                                                                        # if the height is negative\n",
    "    \n",
    "    return sqrt(2*h/a)"
   ]
  },
  {
   "cell_type": "code",
   "execution_count": 8,
   "id": "93087dc0",
   "metadata": {},
   "outputs": [
    {
     "name": "stdout",
     "output_type": "stream",
     "text": [
      "The time taken for an object to fall from a height 1m is 0.45160075575178754s.\n",
      "The time taken for an object to fall from a height 10m is 1.4280869812290344s.\n",
      "The time taken for an object to fall from a height 0m is 0.0s.\n"
     ]
    }
   ],
   "source": [
    "# print results for the first three test inputs\n",
    "\n",
    "for h in [1,10,0]:\n",
    "    t = fall_time(h)\n",
    "    print(f\"The time taken for an object to fall from a height {h}m is {t}s.\")"
   ]
  },
  {
   "cell_type": "code",
   "execution_count": 9,
   "id": "41fec28c",
   "metadata": {},
   "outputs": [
    {
     "ename": "ValueError",
     "evalue": "The height should be a non-negative number!",
     "output_type": "error",
     "traceback": [
      "\u001b[0;31m---------------------------------------------------------------------------\u001b[0m",
      "\u001b[0;31mValueError\u001b[0m                                Traceback (most recent call last)",
      "Input \u001b[0;32mIn [9]\u001b[0m, in \u001b[0;36m<cell line: 3>\u001b[0;34m()\u001b[0m\n\u001b[1;32m      1\u001b[0m \u001b[38;5;66;03m# the last test input causes an error\u001b[39;00m\n\u001b[0;32m----> 3\u001b[0m \u001b[43mfall_time\u001b[49m\u001b[43m(\u001b[49m\u001b[38;5;241;43m-\u001b[39;49m\u001b[38;5;241;43m1\u001b[39;49m\u001b[43m)\u001b[49m\n",
      "Input \u001b[0;32mIn [7]\u001b[0m, in \u001b[0;36mfall_time\u001b[0;34m(h, a)\u001b[0m\n\u001b[1;32m      5\u001b[0m \u001b[38;5;28;01mdef\u001b[39;00m \u001b[38;5;21mfall_time\u001b[39m(h, a\u001b[38;5;241m=\u001b[39mg):\n\u001b[1;32m      6\u001b[0m     \u001b[38;5;28;01mif\u001b[39;00m h\u001b[38;5;241m<\u001b[39m\u001b[38;5;241m0\u001b[39m:\n\u001b[0;32m----> 7\u001b[0m         \u001b[38;5;28;01mraise\u001b[39;00m \u001b[38;5;167;01mValueError\u001b[39;00m(\u001b[38;5;124m\"\u001b[39m\u001b[38;5;124mThe height should be a non-negative number!\u001b[39m\u001b[38;5;124m\"\u001b[39m) \u001b[38;5;66;03m# the function raises an error \u001b[39;00m\n\u001b[1;32m      8\u001b[0m                                                                         \u001b[38;5;66;03m# if the height is negative\u001b[39;00m\n\u001b[1;32m     10\u001b[0m     \u001b[38;5;28;01mreturn\u001b[39;00m sqrt(\u001b[38;5;241m2\u001b[39m\u001b[38;5;241m*\u001b[39mh\u001b[38;5;241m/\u001b[39ma)\n",
      "\u001b[0;31mValueError\u001b[0m: The height should be a non-negative number!"
     ]
    }
   ],
   "source": [
    "# the last test input causes an error\n",
    "\n",
    "fall_time(-1)"
   ]
  },
  {
   "cell_type": "markdown",
   "id": "8a2cd340",
   "metadata": {},
   "source": [
    "## Exercise 2.3: Floating point numbers\n",
    "\n",
    "**a)** Computers cannot, in principle, represent real numbers perfectly. This can lead to problems of accuracy. For example, if \n",
    "\n",
    "$$x = 1,\\quad y = 1 + 10^{-14}\\sqrt{3}$$\n",
    "\n",
    "then it should be true that\n",
    "\n",
    "$$10^{14}(y-x) = \\sqrt{3}$$\n",
    "\n",
    "Check how accurately this equation holds in Python. Also try using $10^{\\pm 15}, 10^{\\pm 16}, 10^{\\pm 17}$ instead of $10^{\\pm 14}$ and see what this implies about the accuracy of subtracting two numbers that are close together."
   ]
  },
  {
   "cell_type": "code",
   "execution_count": 10,
   "id": "2b84b710",
   "metadata": {},
   "outputs": [
    {
     "name": "stdout",
     "output_type": "stream",
     "text": [
      "The output of the math library: 1.7320508075688772 \n",
      "Our output: 2.220446049250313\n"
     ]
    }
   ],
   "source": [
    "# write your code here\n",
    "\n",
    "x=1\n",
    "y=1 + 10**-16*sqrt(3)\n",
    "\n",
    "z1 = sqrt(3)\n",
    "z2 = 10**16*(y-x)\n",
    "\n",
    "\n",
    "print(f\"The output of the math library: {z1} \\nOur output: {z2}\")"
   ]
  },
  {
   "cell_type": "markdown",
   "id": "268ed48c",
   "metadata": {},
   "source": [
    "**Comment:** Floating point numbers on 64-bit computers typically (according to [IEEE 754 standard](https://en.wikipedia.org/wiki/IEEE_754)) can have as maximum only 53 bits to represent the number’s digits in the binary system. This corresponds to as maximum 17 meaningful digits in the decimal system. You can read more on floating point numbers representation in computers [here](https://floating-point-gui.de/formats/fp/)."
   ]
  },
  {
   "cell_type": "code",
   "execution_count": 11,
   "id": "b43eed37",
   "metadata": {},
   "outputs": [
    {
     "data": {
      "text/plain": [
       "2.220446049250313e-16"
      ]
     },
     "execution_count": 11,
     "metadata": {},
     "output_type": "execute_result"
    }
   ],
   "source": [
    "# a way to check float precision on your system\n",
    "\n",
    "import sys\n",
    "\n",
    "sys.float_info.epsilon"
   ]
  },
  {
   "cell_type": "markdown",
   "id": "cf8ec702",
   "metadata": {},
   "source": [
    "**a)** Roots of a qudratic polynom \n",
    "\n",
    "$$x^2 - 2px + q$$ \n",
    "\n",
    "can be found using the formula \n",
    "\n",
    "$$x_{1,2} = p \\pm \\sqrt{p^2-q}$$\n",
    "\n",
    "Alternatively, we can calculate only $x_1$ and then find $x_2$ using Vieta's formula:\n",
    "\n",
    "$$x_2 = \\dfrac q x_1$$\n",
    "\n",
    "Write two functions: one that calculated the roots of a given polynom using the first method and another one that calculates the roots using the second method. Test the functions on values $p=(a+1/a)/2$ and $q=1$ for large and small values of $a>0$. How do the results of the two methods compare? Which method gives (more) correct results?"
   ]
  },
  {
   "cell_type": "code",
   "execution_count": 12,
   "id": "ad741eb4",
   "metadata": {},
   "outputs": [],
   "source": [
    "# write your code here\n",
    "\n",
    "def method1(p, q):\n",
    "    return p + sqrt(p**2 - q), p - sqrt(p**2 - q)\n",
    "\n",
    "def method2(p,q):\n",
    "    x1 = p + sqrt(p**2 - q)\n",
    "    return x1, q/ x1\n",
    "\n",
    "\n",
    "def compare_methods(a):\n",
    "    q = 1\n",
    "    p = (a + 1/ a)/ 2\n",
    "    \n",
    "    print(f\"We set a={a}, the correct roots are {a} and {1/a}.\")\n",
    "    \n",
    "    x1, x2 = method1(p, q)\n",
    "    print(f\"The first method gives roots {x1} und {x2}\")\n",
    "    \n",
    "    x1, x2 = method2(p, q)\n",
    "    print(f\"The second method gives roots {x1} und {x2}\\n\")"
   ]
  },
  {
   "cell_type": "code",
   "execution_count": 13,
   "id": "5915b995",
   "metadata": {},
   "outputs": [
    {
     "name": "stdout",
     "output_type": "stream",
     "text": [
      "We set a=100000, the correct roots are 100000 and 1e-05.\n",
      "The first method gives roots 100000.0 und 1.0000003385357559e-05\n",
      "The second method gives roots 100000.0 und 1e-05\n",
      "\n"
     ]
    }
   ],
   "source": [
    "compare_methods(10**5)"
   ]
  },
  {
   "cell_type": "markdown",
   "id": "372e72b2",
   "metadata": {},
   "source": [
    "## Functions in Python"
   ]
  },
  {
   "cell_type": "code",
   "execution_count": 14,
   "id": "38763bfe",
   "metadata": {},
   "outputs": [],
   "source": [
    "def append_one(a): # python syntax to define a function\n",
    "    a.append(1)\n",
    "    return a"
   ]
  },
  {
   "cell_type": "code",
   "execution_count": 15,
   "id": "476687e2",
   "metadata": {},
   "outputs": [
    {
     "data": {
      "text/plain": [
       "[1, 2, 3, 1]"
      ]
     },
     "execution_count": 15,
     "metadata": {},
     "output_type": "execute_result"
    }
   ],
   "source": [
    "a = [1,2,3] \n",
    "append_one(a)\n",
    " \n",
    "a # the value of a changed, because Python passes arguments by reference!"
   ]
  },
  {
   "cell_type": "code",
   "execution_count": 16,
   "id": "b27fab02",
   "metadata": {},
   "outputs": [
    {
     "data": {
      "text/plain": [
       "16"
      ]
     },
     "execution_count": 16,
     "metadata": {},
     "output_type": "execute_result"
    }
   ],
   "source": [
    "(lambda x : x**2)(4) # lambda functions are \"anonymous\"!\n",
    "                     # this is f(4), where f(x)=x^2"
   ]
  },
  {
   "cell_type": "code",
   "execution_count": 17,
   "id": "5e5ff631",
   "metadata": {},
   "outputs": [],
   "source": [
    "def mul(a,b):\n",
    "    return a*b\n",
    "\n",
    "mul_by_3 = lambda x: mul(x,3) #lambda functions can be handy to define a function in one line\n",
    "mul_by_2 = lambda x: mul(x,2)"
   ]
  },
  {
   "cell_type": "code",
   "execution_count": 18,
   "id": "f5157a96",
   "metadata": {},
   "outputs": [
    {
     "data": {
      "text/plain": [
       "(9, 6)"
      ]
     },
     "execution_count": 18,
     "metadata": {},
     "output_type": "execute_result"
    }
   ],
   "source": [
    "mul_by_3(3), mul_by_2(3)"
   ]
  },
  {
   "cell_type": "code",
   "execution_count": 19,
   "id": "f2ef578a",
   "metadata": {},
   "outputs": [],
   "source": [
    "def f(x=1):\n",
    "    return x"
   ]
  },
  {
   "cell_type": "code",
   "execution_count": 20,
   "id": "4eaee497",
   "metadata": {},
   "outputs": [
    {
     "data": {
      "text/plain": [
       "(1, 2)"
      ]
     },
     "execution_count": 20,
     "metadata": {},
     "output_type": "execute_result"
    }
   ],
   "source": [
    "f(), f(x=2)"
   ]
  },
  {
   "cell_type": "code",
   "execution_count": null,
   "id": "4228d5eb",
   "metadata": {},
   "outputs": [],
   "source": []
  }
 ],
 "metadata": {
  "kernelspec": {
   "display_name": "Python 3 (ipykernel)",
   "language": "python",
   "name": "python3"
  },
  "language_info": {
   "codemirror_mode": {
    "name": "ipython",
    "version": 3
   },
   "file_extension": ".py",
   "mimetype": "text/x-python",
   "name": "python",
   "nbconvert_exporter": "python",
   "pygments_lexer": "ipython3",
   "version": "3.9.12"
  }
 },
 "nbformat": 4,
 "nbformat_minor": 5
}
