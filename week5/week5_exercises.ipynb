{
 "cells": [
  {
   "cell_type": "markdown",
   "id": "d91a0d9d",
   "metadata": {},
   "source": [
    "# Exercise 5.1: Gaussian random walk\n",
    "\n",
    "A Gaussian random walk can be represented as a sum of independent Gaussian variables $X_i\\sim\\mathcal{N}(0,1)$:\n",
    "\n",
    "$$S_n = \\sum_{i=1}^n X_i$$\n",
    "\n",
    "**a)** Generate $n=1000$ independent draws from the standard Gaussian distribution and plot a random walk that they create."
   ]
  },
  {
   "cell_type": "code",
   "execution_count": null,
   "id": "797ef79d",
   "metadata": {},
   "outputs": [],
   "source": [
    "# write your code here\n"
   ]
  },
  {
   "cell_type": "markdown",
   "id": "41a48c6c",
   "metadata": {},
   "source": [
    "**b)** Plot many (e.g. 100) independent Gaussian random walks in the same plot using only one color. You can decrease the line widths and increase the plot size to increase readability of your graph. Notice that the variance of $S_n$ is given by $\\sqrt{n}$. Plot curves $\\sqrt{n}$ and $-\\sqrt{n}$ using a different color on the same plot. What do you observe?"
   ]
  },
  {
   "cell_type": "code",
   "execution_count": null,
   "id": "1ae49363",
   "metadata": {},
   "outputs": [],
   "source": [
    "# write your code here\n"
   ]
  },
  {
   "cell_type": "markdown",
   "id": "736d597e",
   "metadata": {},
   "source": [
    "# Exercise 5.2: Bifurcation diagram \n",
    "\n",
    "The *logistic map* generates a sequence $\\{x_n\\}$ using the following relation:\n",
    "\n",
    "$$x_{n+1} = r x_n(1-x_n),$$\n",
    "\n",
    "where $r$ is a postive constant and $x_0\\in(0,1)$. The goal of this task is to build the *bifurcation diagram* of this map as a function of $r$ (also called the bifurcation parameter). \n",
    "\n",
    "To get motivated, you can check out [this great Veritasium video](https://www.youtube.com/watch?v=ovJcsL7vyrk). \n",
    "\n",
    "**a)** Write a function that calculates the first $n$ members of the logistic map sequence, given $x_0$, $r$ and $n$."
   ]
  },
  {
   "cell_type": "code",
   "execution_count": null,
   "id": "ffa99a54",
   "metadata": {},
   "outputs": [],
   "source": [
    "# write your code here\n"
   ]
  },
  {
   "cell_type": "markdown",
   "id": "ae8d81c8",
   "metadata": {},
   "source": [
    "**b)** Plot the first 100 elements of the sequence for several values of $r$, e.g. $r\\in\\{1.0,2.5,3.0\\}$, as a line plot (```plt.plot()```). You can try different values of $x_0$. What do you observe?"
   ]
  },
  {
   "cell_type": "code",
   "execution_count": null,
   "id": "d6630124",
   "metadata": {},
   "outputs": [],
   "source": [
    "# write your code here\n"
   ]
  },
  {
   "cell_type": "markdown",
   "id": "05c6437e",
   "metadata": {},
   "source": [
    "**c)** Now we finally plot the well-known [bifurcation diagram](https://en.wikipedia.org/wiki/Bifurcation_diagram). For values of $r$ between $0$ and $4$ with step $0.01$, calculate the first $n=1000$ elements of the sequence $\\{x_n\\}$. For each value of $r$, plot the last $100$ points as a scatter plot (```plt.scatter()```), so that only point and no connecting lines are displayed. "
   ]
  },
  {
   "cell_type": "code",
   "execution_count": null,
   "id": "625640fd",
   "metadata": {},
   "outputs": [],
   "source": [
    "# write your code here\n"
   ]
  },
  {
   "cell_type": "markdown",
   "id": "10ed7637",
   "metadata": {},
   "source": [
    "# Exercise 5.3: Wigner semicircle distribution\n",
    "\n",
    "Generate a symmetric matrix with random, standard normally distributed entries and plot their eigenvalues in a histogram. You can use ```plt.hist()``` function for histogram and ```np.linalg.eigvalsh``` function to find eigenvalues of a symmetric matrix.\n",
    "\n",
    "Try different sizes of the matrix and observe how the eigenvalues' distribution changes. "
   ]
  },
  {
   "cell_type": "code",
   "execution_count": null,
   "id": "a04c6d38",
   "metadata": {},
   "outputs": [],
   "source": [
    "# write your code here\n"
   ]
  }
 ],
 "metadata": {
  "kernelspec": {
   "display_name": "Python 3 (ipykernel)",
   "language": "python",
   "name": "python3"
  },
  "language_info": {
   "codemirror_mode": {
    "name": "ipython",
    "version": 3
   },
   "file_extension": ".py",
   "mimetype": "text/x-python",
   "name": "python",
   "nbconvert_exporter": "python",
   "pygments_lexer": "ipython3",
   "version": "3.9.12"
  }
 },
 "nbformat": 4,
 "nbformat_minor": 5
}
