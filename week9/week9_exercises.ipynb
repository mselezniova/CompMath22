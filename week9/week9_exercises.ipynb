{
 "cells": [
  {
   "cell_type": "markdown",
   "id": "6abb9daf",
   "metadata": {},
   "source": [
    "# Exercise 9.1: Linear regression\n",
    "\n",
    "Assume we are given a dataset of pairs $(t_1,z_1),\\dots,(t_n,z_n) \\in \\mathbb{R}^2$ with some $n\\in\\mathbb{N}$. The values of $z_i$ are measurements of a parameter of a certain system at time points $t_i$, $i=1,\\dots,n$. We assume that there is an (approximately) linear dependence between $z_i$'s and $t_i$'s, i.e. we have\n",
    "\n",
    "$$z_i = \\alpha t_i + \\beta, \\quad i=1,\\dots,n$$\n",
    "\n",
    "for some $\\alpha,\\beta\\in\\mathbb{R}$. How can we find the appropriate values for $\\alpha$ and $\\beta$?\n",
    "\n",
    "Consider the [simple linear regression](https://en.wikipedia.org/wiki/Simple_linear_regression) problem \n",
    "\n",
    "$$\\min_{\\alpha,\\beta\\in\\mathbb{R}}  \\sum_{i=1}^n (z_i - \\alpha t_i - \\beta)^2, $$\n",
    "\n",
    "i.e. the minimization of squared distances from the line $z = \\alpha t + \\beta$ to the data points. We can solve this problem as follows:\n",
    "\n",
    "**a)** Find gradient $G$ and the Hessian matrix $H$ of the following function:\n",
    "\n",
    "$$f(\\alpha,\\beta) = \\sum_{i=1}^n (z_i - \\alpha t_i - \\beta)^2$$"
   ]
  },
  {
   "cell_type": "code",
   "execution_count": null,
   "id": "632401c1",
   "metadata": {},
   "outputs": [],
   "source": [
    "#write your code here"
   ]
  },
  {
   "cell_type": "markdown",
   "id": "b0dbd1e1",
   "metadata": {},
   "source": [
    "**b)** Find the point(s) where the gradient is equal to zero. One way to do it for a quadratic function is to solve the following matrix equation:\n",
    "\n",
    "$$H \\begin{bmatrix}\n",
    "           \\alpha \\\\\n",
    "           \\beta\n",
    "         \\end{bmatrix} = - G|_{\\alpha=0,\\beta=0}$$\n",
    "\n",
    "for $(\\alpha, \\beta)$ (you can use `H.LUsolve` method). Alternatively, you can try to directly solve the equation $G = 0$ using different [sympy solvers](https://docs.sympy.org/latest/modules/solvers/solvers.html#solvers-algebraic-equations)."
   ]
  },
  {
   "cell_type": "code",
   "execution_count": null,
   "id": "cba8d3fb",
   "metadata": {},
   "outputs": [],
   "source": [
    "#write your code here"
   ]
  },
  {
   "cell_type": "markdown",
   "id": "8c9eda2f",
   "metadata": {},
   "source": [
    "**c)** To check whether the point(s) with $G=0$ are minima/maxima, we need to check if the hessian is positive/negative definite. Try checking positive definiteness of $H$ using sympy. You will see that sympy methods cannot directly determine whether $H$ is positive definite in our case. Thus, calculate the determinant of $H$ and observe that it is positive by [Cauchy-Schwarz inequality](https://en.wikipedia.org/wiki/Cauchy–Schwarz_inequality). As the first leading principal minor of $H$ is also positive, we have positive-definiteness by [Sylvester's criterion](https://en.wikipedia.org/wiki/Sylvester%27s_criterion)."
   ]
  },
  {
   "cell_type": "code",
   "execution_count": null,
   "id": "f708163d",
   "metadata": {},
   "outputs": [],
   "source": [
    "#write your code here"
   ]
  },
  {
   "cell_type": "markdown",
   "id": "8bef511b",
   "metadata": {},
   "source": [
    "# Exercise 9.2: Gambler's Ruin\n",
    "\n",
    "Consider the following two-player game. Alice and Bob toss a fair coin. In case of heads, Alice gets one euro from Bob, otherwise Bob gets one euro from Alice. Alice starts with 2 euros. The game ends if Alice has 4 euros or if she has lost money. This game can be illustrated by the following state graph, where the numbers indicate how much money Alice currently has and the arrows indicate the transition probabilities.\n",
    "\n",
    "![](game.png)\n",
    "\n",
    "**a)** Generate the transition matrix $M$, where $M_{i,j}$ is the probability to transition from state $i$ to state $j$."
   ]
  },
  {
   "cell_type": "code",
   "execution_count": null,
   "id": "feb0cd8f",
   "metadata": {},
   "outputs": [],
   "source": [
    "#write your code here"
   ]
  },
  {
   "cell_type": "markdown",
   "id": "1b029b47",
   "metadata": {},
   "source": [
    "**b)** The Matix power $M^t$ given the transition probabilities after $t$ rounds. Determine $M^\\infty = \\lim_{t\\to\\infty} M^t$.\n",
    "\n",
    "*Hint: You can diagonalize $M$ and find the limit of the diagonal matrix componentwise.*"
   ]
  },
  {
   "cell_type": "code",
   "execution_count": null,
   "id": "1f46da86",
   "metadata": {},
   "outputs": [],
   "source": [
    "#write your code here"
   ]
  },
  {
   "cell_type": "markdown",
   "id": "dd947e2a",
   "metadata": {},
   "source": [
    "**c)** Determine the probability that Alice will go bankrupt. To do so, create a vector $v=[0,0,1,0]$ and calculate $vM^\\infty$."
   ]
  },
  {
   "cell_type": "code",
   "execution_count": null,
   "id": "c4c12fed",
   "metadata": {},
   "outputs": [],
   "source": [
    "#write your code here"
   ]
  },
  {
   "cell_type": "markdown",
   "id": "7b7df8cb",
   "metadata": {},
   "source": [
    "**d)** What happens with the probability of bankruptcy is the game ends not when Alice has 4 euros but when she has 5 or 6 euros?"
   ]
  },
  {
   "cell_type": "code",
   "execution_count": null,
   "id": "14e78340",
   "metadata": {},
   "outputs": [],
   "source": [
    "#write your code here"
   ]
  }
 ],
 "metadata": {
  "kernelspec": {
   "display_name": "Python 3 (ipykernel)",
   "language": "python",
   "name": "python3"
  },
  "language_info": {
   "codemirror_mode": {
    "name": "ipython",
    "version": 3
   },
   "file_extension": ".py",
   "mimetype": "text/x-python",
   "name": "python",
   "nbconvert_exporter": "python",
   "pygments_lexer": "ipython3",
   "version": "3.9.12"
  }
 },
 "nbformat": 4,
 "nbformat_minor": 5
}
