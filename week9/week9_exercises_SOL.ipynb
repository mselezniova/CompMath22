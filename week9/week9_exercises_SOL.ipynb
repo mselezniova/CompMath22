{
 "cells": [
  {
   "cell_type": "markdown",
   "id": "6abb9daf",
   "metadata": {},
   "source": [
    "# Exercise 9.1: Linear regression\n",
    "\n",
    "Assume we are given a dataset of pairs $(t_1,z_1),\\dots,(t_n,z_n) \\in \\mathbb{R}^2$ with some $n\\in\\mathbb{N}$. The values of $z_i$ are measurements of a parameter of a certain system at time points $t_i$, $i=1,\\dots,n$. We assume that there is an (approximately) linear dependence between $z_i$'s and $t_i$'s, i.e. we have\n",
    "\n",
    "$$z_i = \\alpha t_i + \\beta, \\quad i=1,\\dots,n$$\n",
    "\n",
    "for some $\\alpha,\\beta\\in\\mathbb{R}$. How can we find the appropriate values for $\\alpha$ and $\\beta$?\n",
    "\n",
    "Consider the [simple linear regression](https://en.wikipedia.org/wiki/Simple_linear_regression) problem \n",
    "\n",
    "$$\\min_{\\alpha,\\beta\\in\\mathbb{R}}  \\sum_{i=1}^n (z_i - \\alpha t_i - \\beta)^2, $$\n",
    "\n",
    "i.e. the minimization of squared distances from the line $z = \\alpha t + \\beta$ to the data points. We can solve this problem as follows:\n",
    "\n",
    "**a)** Find gradient $G$ and the Hessian matrix $H$ of the following function:\n",
    "\n",
    "$$f(\\alpha,\\beta) = \\sum_{i=1}^n (z_i - \\alpha t_i - \\beta)^2$$"
   ]
  },
  {
   "cell_type": "code",
   "execution_count": 1,
   "id": "632401c1",
   "metadata": {},
   "outputs": [],
   "source": [
    "import sympy as sym\n",
    "from sympy.abc import alpha, beta, i\n",
    "sym.init_printing()"
   ]
  },
  {
   "cell_type": "code",
   "execution_count": 2,
   "id": "4acd3de3",
   "metadata": {},
   "outputs": [],
   "source": [
    "n = sym.Symbol('n', integer=True)\n",
    "\n",
    "# define z_i and t_i as indexed variables\n",
    "z= sym.IndexedBase('z')\n",
    "t= sym.IndexedBase('t', positive=True)\n",
    "i = sym.symbols('i', cls=sym.Idx)\n",
    "z_i= z[i]\n",
    "t_i= t[i]\n",
    "\n",
    "# define summ over index i\n",
    "S_n = sym.Sum((z_i-alpha*t_i-beta)**2,(i,1,n))"
   ]
  },
  {
   "cell_type": "code",
   "execution_count": 3,
   "id": "40de1596",
   "metadata": {},
   "outputs": [
    {
     "data": {
      "image/png": "[encoded data removed]",
      "text/latex": [
       "$\\displaystyle \\left[\\begin{matrix}\\sum_{i=1}^{n} - 2 \\left(- \\alpha {t}_{i} - \\beta + {z}_{i}\\right) {t}_{i}\\\\\\sum_{i=1}^{n} \\left(2 \\alpha {t}_{i} + 2 \\beta - 2 {z}_{i}\\right)\\end{matrix}\\right]$"
      ],
      "text/plain": [
       "⎡  n                               ⎤\n",
       "⎢ ___                              ⎥\n",
       "⎢ ╲                                ⎥\n",
       "⎢  ╲                               ⎥\n",
       "⎢  ╱   -2⋅(-α⋅t[i] - β + z[i])⋅t[i]⎥\n",
       "⎢ ╱                                ⎥\n",
       "⎢ ‾‾‾                              ⎥\n",
       "⎢i = 1                             ⎥\n",
       "⎢                                  ⎥\n",
       "⎢   n                              ⎥\n",
       "⎢  ___                             ⎥\n",
       "⎢  ╲                               ⎥\n",
       "⎢   ╲                              ⎥\n",
       "⎢   ╱   (2⋅α⋅t[i] + 2⋅β - 2⋅z[i])  ⎥\n",
       "⎢  ╱                               ⎥\n",
       "⎢  ‾‾‾                             ⎥\n",
       "⎣ i = 1                            ⎦"
      ]
     },
     "execution_count": 3,
     "metadata": {},
     "output_type": "execute_result"
    }
   ],
   "source": [
    "# Gradient \n",
    "G = sym.Matrix([S_n.diff(j) for j in (alpha,beta)])\n",
    "\n",
    "G"
   ]
  },
  {
   "cell_type": "code",
   "execution_count": 4,
   "id": "ce8142c4",
   "metadata": {},
   "outputs": [
    {
     "data": {
      "image/png": "[encoded data removed]",
      "text/latex": [
       "$\\displaystyle \\left[\\begin{matrix}2 \\sum_{i=1}^{n} {t}_{i}^{2} & 2 \\sum_{i=1}^{n} {t}_{i}\\\\2 \\sum_{i=1}^{n} {t}_{i} & 2 \\sum_{i=1}^{n} 1\\end{matrix}\\right]$"
      ],
      "text/plain": [
       "⎡    n              n       ⎤\n",
       "⎢   ___            ___      ⎥\n",
       "⎢   ╲              ╲        ⎥\n",
       "⎢    ╲       2      ╲       ⎥\n",
       "⎢2⋅  ╱   t[i]   2⋅  ╱   t[i]⎥\n",
       "⎢   ╱              ╱        ⎥\n",
       "⎢   ‾‾‾            ‾‾‾      ⎥\n",
       "⎢  i = 1          i = 1     ⎥\n",
       "⎢                           ⎥\n",
       "⎢    n               n      ⎥\n",
       "⎢   ___             ___     ⎥\n",
       "⎢   ╲               ╲       ⎥\n",
       "⎢    ╲               ╲      ⎥\n",
       "⎢2⋅  ╱   t[i]    2⋅  ╱   1  ⎥\n",
       "⎢   ╱               ╱       ⎥\n",
       "⎢   ‾‾‾             ‾‾‾     ⎥\n",
       "⎣  i = 1           i = 1    ⎦"
      ]
     },
     "execution_count": 4,
     "metadata": {},
     "output_type": "execute_result"
    }
   ],
   "source": [
    "# Hessian \n",
    "M = sym.simplify(sym.hessian(S_n,[alpha, beta]))\n",
    "\n",
    "# Alternatively, you can calculate the Hessian using differentiation\n",
    "# M=sym.Matrix([G.diff(j) for j in (alpha,beta)]).reshape(2,2)\n",
    "\n",
    "M"
   ]
  },
  {
   "cell_type": "markdown",
   "id": "b0dbd1e1",
   "metadata": {},
   "source": [
    "**b)** Find the point(s) where the gradient is equal to zero. One way to do it for a quadratic function is to solve the following matrix equation:\n",
    "\n",
    "$$H \\begin{bmatrix}\n",
    "           \\alpha \\\\\n",
    "           \\beta\n",
    "         \\end{bmatrix} = - G|_{\\alpha=0,\\beta=0}$$\n",
    "\n",
    "for $(\\alpha, \\beta)$ (you can use `H.LUsolve` method). Alternatively, you can try to directly solve the equation $G = 0$ using different [sympy solvers](https://docs.sympy.org/latest/modules/solvers/solvers.html#solvers-algebraic-equations)."
   ]
  },
  {
   "cell_type": "code",
   "execution_count": 5,
   "id": "cba8d3fb",
   "metadata": {},
   "outputs": [
    {
     "data": {
      "image/png": "[encoded data removed]",
      "text/latex": [
       "$\\displaystyle \\left[\\begin{matrix}\\sum_{i=1}^{n} \\frac{- {z}_{i} \\sum_{i=1}^{n} {t}_{i} + \\sum_{i=1}^{n} {t}_{i} {z}_{i}}{n \\sum_{i=1}^{n} {t}_{i}^{2} - \\left(\\sum_{i=1}^{n} {t}_{i}\\right)^{2}}\\\\\\sum_{i=1}^{n} \\frac{\\left({t}_{i} \\sum_{i=1}^{n} {z}_{i} - {z}_{i} \\sum_{i=1}^{n} {t}_{i}\\right) {t}_{i}}{n \\sum_{i=1}^{n} {t}_{i}^{2} - \\left(\\sum_{i=1}^{n} {t}_{i}\\right)^{2}}\\end{matrix}\\right]$"
      ],
      "text/plain": [
       "⎡       n                                        \n",
       "⎢  ___________                                   \n",
       "⎢  ╲                                             \n",
       "⎢   ╲                   n            n           \n",
       "⎢    ╲                 ___          ___          \n",
       "⎢     ╲                ╲            ╲            \n",
       "⎢      ╲                ╲            ╲           \n",
       "⎢       ╲      - z[i]⋅  ╱   t[i] +   ╱   t[i]⋅z[i\n",
       "⎢        ╲             ╱            ╱            \n",
       "⎢         ╲            ‾‾‾          ‾‾‾          \n",
       "⎢          ╲          i = 1        i = 1         \n",
       "⎢           ╲  ──────────────────────────────────\n",
       "⎢           ╱                                 2  \n",
       "⎢          ╱          n           ⎛  n       ⎞   \n",
       "⎢         ╱          ___          ⎜ ___      ⎟   \n",
       "⎢        ╱           ╲            ⎜ ╲        ⎟   \n",
       "⎢       ╱             ╲       2   ⎜  ╲       ⎟   \n",
       "⎢      ╱          n⋅  ╱   t[i]  - ⎜  ╱   t[i]⎟   \n",
       "⎢     ╱              ╱            ⎜ ╱        ⎟   \n",
       "⎢    ╱               ‾‾‾          ⎜ ‾‾‾      ⎟   \n",
       "⎢   ╱               i = 1         ⎝i = 1     ⎠   \n",
       "⎢  ╱                                             \n",
       "⎢  ‾‾‾‾‾‾‾‾‾‾‾                                   \n",
       "⎢     i = 1                                      \n",
       "⎢                                                \n",
       "⎢     n                                          \n",
       "⎢___________                                     \n",
       "⎢╲                                               \n",
       "⎢ ╲          ⎛       n                 n       ⎞ \n",
       "⎢  ╲         ⎜      ___               ___      ⎟ \n",
       "⎢   ╲        ⎜      ╲                 ╲        ⎟ \n",
       "⎢    ╲       ⎜       ╲                 ╲       ⎟ \n",
       "⎢     ╲      ⎜t[i]⋅  ╱   z[i] - z[i]⋅  ╱   t[i]⎟⋅\n",
       "⎢      ╲     ⎜      ╱                 ╱        ⎟ \n",
       "⎢       ╲    ⎜      ‾‾‾               ‾‾‾      ⎟ \n",
       "⎢        ╲   ⎝     i = 1             i = 1     ⎠ \n",
       "⎢         ╲  ────────────────────────────────────\n",
       "⎢         ╱                                   2  \n",
       "⎢        ╱            n           ⎛  n       ⎞   \n",
       "⎢       ╱            ___          ⎜ ___      ⎟   \n",
       "⎢      ╱             ╲            ⎜ ╲        ⎟   \n",
       "⎢     ╱               ╲       2   ⎜  ╲       ⎟   \n",
       "⎢    ╱            n⋅  ╱   t[i]  - ⎜  ╱   t[i]⎟   \n",
       "⎢   ╱                ╱            ⎜ ╱        ⎟   \n",
       "⎢  ╱                 ‾‾‾          ⎜ ‾‾‾      ⎟   \n",
       "⎢ ╱                 i = 1         ⎝i = 1     ⎠   \n",
       "⎢╱                                               \n",
       "⎢‾‾‾‾‾‾‾‾‾‾‾                                     \n",
       "⎣   i = 1                                        \n",
       "\n",
       "    ⎤\n",
       "    ⎥\n",
       "    ⎥\n",
       "    ⎥\n",
       "    ⎥\n",
       "    ⎥\n",
       "    ⎥\n",
       "]   ⎥\n",
       "    ⎥\n",
       "    ⎥\n",
       "    ⎥\n",
       "─   ⎥\n",
       "    ⎥\n",
       "    ⎥\n",
       "    ⎥\n",
       "    ⎥\n",
       "    ⎥\n",
       "    ⎥\n",
       "    ⎥\n",
       "    ⎥\n",
       "    ⎥\n",
       "    ⎥\n",
       "    ⎥\n",
       "    ⎥\n",
       "    ⎥\n",
       "    ⎥\n",
       "    ⎥\n",
       "    ⎥\n",
       "    ⎥\n",
       "    ⎥\n",
       "    ⎥\n",
       "    ⎥\n",
       "t[i]⎥\n",
       "    ⎥\n",
       "    ⎥\n",
       "    ⎥\n",
       "────⎥\n",
       "    ⎥\n",
       "    ⎥\n",
       "    ⎥\n",
       "    ⎥\n",
       "    ⎥\n",
       "    ⎥\n",
       "    ⎥\n",
       "    ⎥\n",
       "    ⎥\n",
       "    ⎥\n",
       "    ⎥\n",
       "    ⎦"
      ]
     },
     "execution_count": 5,
     "metadata": {},
     "output_type": "execute_result"
    }
   ],
   "source": [
    "# solve the linear system\n",
    "sol = sym.simplify(M.LUsolve(-G.subs([(alpha,0),(beta,0)])))\n",
    "\n",
    "sol\n",
    "\n",
    "# you can compare the solution with the known solution of simple linear regression problem"
   ]
  },
  {
   "cell_type": "markdown",
   "id": "8c9eda2f",
   "metadata": {},
   "source": [
    "**c)** To check whether the point(s) with $G=0$ are minima/maxima, we need to check if the hessian is positive/negative definite. Try checking positive definiteness of $H$ using sympy. You will see that sympy methods cannot directly determine whether $H$ is positive definite in our case. Thus, calculate the determinant of $H$ and observe that it is positive by [Cauchy-Schwarz inequality](https://en.wikipedia.org/wiki/Cauchy–Schwarz_inequality). As the first leading principal minor of $H$ is also positive, we have positive-definiteness by [Sylvester's criterion](https://en.wikipedia.org/wiki/Sylvester%27s_criterion)."
   ]
  },
  {
   "cell_type": "code",
   "execution_count": 6,
   "id": "f708163d",
   "metadata": {},
   "outputs": [
    {
     "data": {
      "text/plain": [
       "None"
      ]
     },
     "metadata": {},
     "output_type": "display_data"
    },
    {
     "data": {
      "text/plain": [
       "None"
      ]
     },
     "metadata": {},
     "output_type": "display_data"
    },
    {
     "data": {
      "text/plain": [
       "[None, None]"
      ]
     },
     "metadata": {},
     "output_type": "display_data"
    },
    {
     "data": {
      "text/plain": [
       "None"
      ]
     },
     "metadata": {},
     "output_type": "display_data"
    }
   ],
   "source": [
    "# First, we can try several sympy functions to check if H is positive definite\n",
    "display(M.is_positive_definite)\n",
    "display(M.det().is_positive)\n",
    "display([i.is_positive for i in M.eigenvals().keys()])\n",
    "v  = sym.Matrix(2,1,sym.symbols('v1:3'))\n",
    "display(sym.simplify(v.T*M*v)[0].is_positive)\n",
    "\n",
    "# We see that none of these methods can determine whether H is positive definite"
   ]
  },
  {
   "cell_type": "code",
   "execution_count": 7,
   "id": "41ab8d77",
   "metadata": {},
   "outputs": [
    {
     "data": {
      "image/png": "[encoded data removed]",
      "text/latex": [
       "$\\displaystyle 4 n \\sum_{i=1}^{n} {t}_{i}^{2} - 4 \\left(\\sum_{i=1}^{n} {t}_{i}\\right)^{2}$"
      ],
      "text/plain": [
       "                                2\n",
       "      n             ⎛  n       ⎞ \n",
       "     ___            ⎜ ___      ⎟ \n",
       "     ╲              ⎜ ╲        ⎟ \n",
       "      ╲       2     ⎜  ╲       ⎟ \n",
       "4⋅n⋅  ╱   t[i]  - 4⋅⎜  ╱   t[i]⎟ \n",
       "     ╱              ⎜ ╱        ⎟ \n",
       "     ‾‾‾            ⎜ ‾‾‾      ⎟ \n",
       "    i = 1           ⎝i = 1     ⎠ "
      ]
     },
     "execution_count": 7,
     "metadata": {},
     "output_type": "execute_result"
    }
   ],
   "source": [
    "# Instead, we compute the determinant of H\n",
    "\n",
    "sym.simplify(M.det())\n",
    "\n",
    "# We see that the determinant is strictly positive by Cauchy-Schwarz inequality (given that t_i have different values)\n",
    "# Thus, M is positive-definite by Silvester's criterion"
   ]
  },
  {
   "cell_type": "markdown",
   "id": "8bef511b",
   "metadata": {},
   "source": [
    "# Exercise 9.2: Gambler's Ruin\n",
    "\n",
    "Consider the following two-player game. Alice and Bob toss a fair coin. In case of heads, Alice gets one euro from Bob, otherwise Bob gets one euro from Alice. Alice starts with 2 euros. The game ends if Alice has 4 euros or if she has lost money. This game can be illustrated by the following state graph, where the numbers indicate how much money Alice currently has and the arrows indicate the transition probabilities.\n",
    "\n",
    "![](game.png)\n",
    "\n",
    "**a)** Generate the transition matrix $M$, where $M_{i,j}$ is the probability to transition from state $i$ to state $j$."
   ]
  },
  {
   "cell_type": "code",
   "execution_count": 8,
   "id": "628ee464",
   "metadata": {},
   "outputs": [
    {
     "data": {
      "image/png": "[encoded data removed]",
      "text/latex": [
       "$\\displaystyle \\left[\\begin{matrix}1 & 0 & 0 & 0 & 0\\\\\\frac{1}{2} & 0 & \\frac{1}{2} & 0 & 0\\\\0 & \\frac{1}{2} & 0 & \\frac{1}{2} & 0\\\\0 & 0 & \\frac{1}{2} & 0 & \\frac{1}{2}\\\\0 & 0 & 0 & 0 & 1\\end{matrix}\\right]$"
      ],
      "text/plain": [
       "⎡ 1    0    0    0    0 ⎤\n",
       "⎢                       ⎥\n",
       "⎢1/2   0   1/2   0    0 ⎥\n",
       "⎢                       ⎥\n",
       "⎢ 0   1/2   0   1/2   0 ⎥\n",
       "⎢                       ⎥\n",
       "⎢ 0    0   1/2   0   1/2⎥\n",
       "⎢                       ⎥\n",
       "⎣ 0    0    0    0    1 ⎦"
      ]
     },
     "execution_count": 8,
     "metadata": {},
     "output_type": "execute_result"
    }
   ],
   "source": [
    "N = 5 # the number of states\n",
    "\n",
    "half = sym.Rational(1,2)\n",
    "\n",
    "# We can generate a matrix using a lambda function\n",
    "M = sym.Matrix(N,N, lambda i,j: \n",
    "                   1 if (( j == 0 and i== 0) or (j == N-1 and i== N-1))\n",
    "                   else half if (i > 0 and i < N-1 and j == i-1)\n",
    "                   else half if (i > 0 and i < N-1 and j == i+1)\n",
    "                   else 0\n",
    "                   )\n",
    "\n",
    "M"
   ]
  },
  {
   "cell_type": "markdown",
   "id": "1b029b47",
   "metadata": {},
   "source": [
    "**b)** The Matix power $M^t$ given the transition probabilities after $t$ rounds. Determine $M^\\infty = \\lim_{t\\to\\infty} M^t$.\n",
    "\n",
    "*Hint: You can diagonalize $M$ and find the limit of the diagonal matrix componentwise.*"
   ]
  },
  {
   "cell_type": "code",
   "execution_count": 9,
   "id": "71bfd79e",
   "metadata": {},
   "outputs": [
    {
     "data": {
      "image/png": "[encoded data removed]",
      "text/latex": [
       "$\\displaystyle \\left[\\begin{matrix}1 & 0 & 0 & 0 & 0\\\\\\frac{3}{4} & 0 & 0 & 0 & \\frac{1}{4}\\\\\\frac{1}{2} & 0 & 0 & 0 & \\frac{1}{2}\\\\\\frac{1}{4} & 0 & 0 & 0 & \\frac{3}{4}\\\\0 & 0 & 0 & 0 & 1\\end{matrix}\\right]$"
      ],
      "text/plain": [
       "⎡ 1   0  0  0   0 ⎤\n",
       "⎢                 ⎥\n",
       "⎢3/4  0  0  0  1/4⎥\n",
       "⎢                 ⎥\n",
       "⎢1/2  0  0  0  1/2⎥\n",
       "⎢                 ⎥\n",
       "⎢1/4  0  0  0  3/4⎥\n",
       "⎢                 ⎥\n",
       "⎣ 0   0  0  0   1 ⎦"
      ]
     },
     "execution_count": 9,
     "metadata": {},
     "output_type": "execute_result"
    }
   ],
   "source": [
    "# diagonalize the matrix M\n",
    "V,D = M.diagonalize()\n",
    "\n",
    "# find limits of the diagonal elements and form the limit of the diagonal matrix\n",
    "D_lim = sym.diag(*[sym.limit_seq(D[i,i]**n,n) for i in range(N)])\n",
    "\n",
    "# use the limit of D to find the limit of M\n",
    "M_lim = V*D_lim*V**-1  \n",
    "\n",
    "M_lim"
   ]
  },
  {
   "cell_type": "markdown",
   "id": "dd947e2a",
   "metadata": {},
   "source": [
    "**c)** Determine the probability that Alice will go bankrupt. To do so, create a vector $v=[0,0,1,0]$ and calculate $vM^\\infty$."
   ]
  },
  {
   "cell_type": "code",
   "execution_count": 10,
   "id": "f55b0169",
   "metadata": {},
   "outputs": [
    {
     "data": {
      "image/png": "[encoded data removed]",
      "text/latex": [
       "$\\displaystyle \\frac{1}{2}$"
      ],
      "text/plain": [
       "1/2"
      ]
     },
     "execution_count": 10,
     "metadata": {},
     "output_type": "execute_result"
    }
   ],
   "source": [
    "m = 2 # the index of the initial state (state 2 has index 2 in our case)\n",
    "\n",
    "v = sym.Matrix(1,N, lambda i,j: 1 if j==m else 0 )\n",
    "\n",
    "(v*M_lim)[0]"
   ]
  },
  {
   "cell_type": "markdown",
   "id": "7b7df8cb",
   "metadata": {},
   "source": [
    "**d)** What happens with the probability of bankruptcy is the game ends not when Alice has 4 euros but when she has 5 or 6 euros?"
   ]
  },
  {
   "cell_type": "code",
   "execution_count": 11,
   "id": "14e78340",
   "metadata": {},
   "outputs": [],
   "source": [
    "# Running the code above for N=5,6,7,etc. shows that the probability of bankruptcy increases with N"
   ]
  }
 ],
 "metadata": {
  "kernelspec": {
   "display_name": "Python 3 (ipykernel)",
   "language": "python",
   "name": "python3"
  },
  "language_info": {
   "codemirror_mode": {
    "name": "ipython",
    "version": 3
   },
   "file_extension": ".py",
   "mimetype": "text/x-python",
   "name": "python",
   "nbconvert_exporter": "python",
   "pygments_lexer": "ipython3",
   "version": "3.9.12"
  }
 },
 "nbformat": 4,
 "nbformat_minor": 5
}
